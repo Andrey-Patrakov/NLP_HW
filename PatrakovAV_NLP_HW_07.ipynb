{
 "cells": [
  {
   "cell_type": "markdown",
   "id": "1aa7677b",
   "metadata": {},
   "source": [
    "# Сверточные нейронные сети для анализа текста"
   ]
  },
  {
   "cell_type": "markdown",
   "id": "c50851c2",
   "metadata": {},
   "source": [
    "## Импорты"
   ]
  },
  {
   "cell_type": "code",
   "execution_count": 1,
   "id": "af0b1592",
   "metadata": {},
   "outputs": [
    {
     "name": "stderr",
     "output_type": "stream",
     "text": [
      "[nltk_data] Downloading package punkt to\n",
      "[nltk_data]     C:\\Users\\avpat\\AppData\\Roaming\\nltk_data...\n",
      "[nltk_data]   Package punkt is already up-to-date!\n"
     ]
    }
   ],
   "source": [
    "import re\n",
    "import gensim\n",
    "import numpy as np\n",
    "import pandas as pd\n",
    "from tqdm import tqdm\n",
    "from string import punctuation\n",
    "from functools import lru_cache\n",
    "\n",
    "from stop_words import get_stop_words\n",
    "from pymorphy2 import MorphAnalyzer\n",
    "\n",
    "import nltk\n",
    "from nltk.tokenize import word_tokenize\n",
    "from nltk.probability import FreqDist\n",
    "\n",
    "from sklearn.preprocessing import LabelEncoder\n",
    "from sklearn.model_selection import train_test_split\n",
    "\n",
    "import keras\n",
    "from keras.models import Sequential\n",
    "from keras.layers import Dense, Dropout, Activation, Input, Embedding, Conv1D, GlobalMaxPool1D\n",
    "from keras.callbacks import EarlyStopping\n",
    "\n",
    "nltk.download(\"punkt\")\n",
    "tqdm.pandas()"
   ]
  },
  {
   "cell_type": "markdown",
   "id": "644c1c03",
   "metadata": {},
   "source": [
    "## Настройки"
   ]
  },
  {
   "cell_type": "code",
   "execution_count": 2,
   "id": "36e0b7f1",
   "metadata": {},
   "outputs": [],
   "source": [
    "MAX_WORDS = 5000\n",
    "MAX_LEN = 30\n",
    "NUM_CLASSES = 5\n",
    "\n",
    "EPOCHS = 20\n",
    "BATCH_SIZE = 64\n",
    "\n",
    "MODEL_PATH = './data/ruwikiruscorpora_upos_cbow_300_10_2021/'"
   ]
  },
  {
   "cell_type": "markdown",
   "id": "241bb7ea",
   "metadata": {},
   "source": [
    "## Загрузка данных"
   ]
  },
  {
   "cell_type": "code",
   "execution_count": 3,
   "id": "93773d83",
   "metadata": {},
   "outputs": [
    {
     "data": {
      "text/html": [
       "<div>\n",
       "<style scoped>\n",
       "    .dataframe tbody tr th:only-of-type {\n",
       "        vertical-align: middle;\n",
       "    }\n",
       "\n",
       "    .dataframe tbody tr th {\n",
       "        vertical-align: top;\n",
       "    }\n",
       "\n",
       "    .dataframe thead th {\n",
       "        text-align: right;\n",
       "    }\n",
       "</style>\n",
       "<table border=\"1\" class=\"dataframe\">\n",
       "  <thead>\n",
       "    <tr style=\"text-align: right;\">\n",
       "      <th></th>\n",
       "      <th>Rating</th>\n",
       "      <th>Content</th>\n",
       "      <th>Date</th>\n",
       "    </tr>\n",
       "  </thead>\n",
       "  <tbody>\n",
       "    <tr>\n",
       "      <th>0</th>\n",
       "      <td>5</td>\n",
       "      <td>It just works!</td>\n",
       "      <td>2017-08-14</td>\n",
       "    </tr>\n",
       "    <tr>\n",
       "      <th>1</th>\n",
       "      <td>4</td>\n",
       "      <td>В целом удобноное приложение...из минусов хотя...</td>\n",
       "      <td>2017-08-14</td>\n",
       "    </tr>\n",
       "    <tr>\n",
       "      <th>2</th>\n",
       "      <td>5</td>\n",
       "      <td>Отлично все</td>\n",
       "      <td>2017-08-14</td>\n",
       "    </tr>\n",
       "    <tr>\n",
       "      <th>3</th>\n",
       "      <td>5</td>\n",
       "      <td>Стал зависать на 1% работы антивируса. Дальше ...</td>\n",
       "      <td>2017-08-14</td>\n",
       "    </tr>\n",
       "    <tr>\n",
       "      <th>4</th>\n",
       "      <td>5</td>\n",
       "      <td>Очень удобно, работает быстро.</td>\n",
       "      <td>2017-08-14</td>\n",
       "    </tr>\n",
       "  </tbody>\n",
       "</table>\n",
       "</div>"
      ],
      "text/plain": [
       "   Rating                                            Content        Date\n",
       "0       5                                     It just works!  2017-08-14\n",
       "1       4  В целом удобноное приложение...из минусов хотя...  2017-08-14\n",
       "2       5                                        Отлично все  2017-08-14\n",
       "3       5  Стал зависать на 1% работы антивируса. Дальше ...  2017-08-14\n",
       "4       5                     Очень удобно, работает быстро.  2017-08-14"
      ]
     },
     "execution_count": 3,
     "metadata": {},
     "output_type": "execute_result"
    }
   ],
   "source": [
    "data = pd.read_excel('./data/отзывы за лето.xls')\n",
    "data.head()"
   ]
  },
  {
   "cell_type": "markdown",
   "id": "d121ac48",
   "metadata": {},
   "source": [
    "## Предобработка текста"
   ]
  },
  {
   "cell_type": "code",
   "execution_count": 4,
   "id": "2015ee91",
   "metadata": {},
   "outputs": [],
   "source": [
    "stop_words = set(get_stop_words('ru')) - {'не', 'ни', 'нет'} # оставим отрицания\n",
    "exclude = set(punctuation) - set('=:)]([') # Оставим смайлы\n",
    "morpher = MorphAnalyzer()\n",
    "\n",
    "@lru_cache(None)\n",
    "def lemmatize(word):\n",
    "    return morpher.parse(word)[0].normal_form\n",
    "\n",
    "def preprocess_text(text):\n",
    "    text = str(text)\n",
    "    text.lower()\n",
    "    text = re.sub(r'(не|ни|нет)\\s', 'не', text)\n",
    "\n",
    "    for char in exclude:\n",
    "        text = text.replace(char, ' ')\n",
    "\n",
    "    words = [word for word in text.split() if word not in stop_words]\n",
    "    words = [word for word in words if len(word) >= 2]\n",
    "    words = [lemmatize(word) for word in words]\n",
    "    return ' '.join(words)"
   ]
  },
  {
   "cell_type": "code",
   "execution_count": 5,
   "id": "6a22f0b4",
   "metadata": {},
   "outputs": [
    {
     "name": "stderr",
     "output_type": "stream",
     "text": [
      "100%|██████████| 20659/20659 [00:01<00:00, 14081.61it/s]\n"
     ]
    },
    {
     "data": {
      "text/html": [
       "<div>\n",
       "<style scoped>\n",
       "    .dataframe tbody tr th:only-of-type {\n",
       "        vertical-align: middle;\n",
       "    }\n",
       "\n",
       "    .dataframe tbody tr th {\n",
       "        vertical-align: top;\n",
       "    }\n",
       "\n",
       "    .dataframe thead th {\n",
       "        text-align: right;\n",
       "    }\n",
       "</style>\n",
       "<table border=\"1\" class=\"dataframe\">\n",
       "  <thead>\n",
       "    <tr style=\"text-align: right;\">\n",
       "      <th></th>\n",
       "      <th>Rating</th>\n",
       "      <th>Content</th>\n",
       "      <th>Date</th>\n",
       "      <th>preprocessed_text</th>\n",
       "    </tr>\n",
       "  </thead>\n",
       "  <tbody>\n",
       "    <tr>\n",
       "      <th>7788</th>\n",
       "      <td>5</td>\n",
       "      <td>Ауе</td>\n",
       "      <td>2017-08-03</td>\n",
       "      <td>ауе</td>\n",
       "    </tr>\n",
       "    <tr>\n",
       "      <th>373</th>\n",
       "      <td>5</td>\n",
       "      <td>Отличный программы</td>\n",
       "      <td>2017-08-13</td>\n",
       "      <td>отличный программа</td>\n",
       "    </tr>\n",
       "    <tr>\n",
       "      <th>1056</th>\n",
       "      <td>5</td>\n",
       "      <td>От лично</td>\n",
       "      <td>2017-08-12</td>\n",
       "      <td>от лично</td>\n",
       "    </tr>\n",
       "    <tr>\n",
       "      <th>10320</th>\n",
       "      <td>4</td>\n",
       "      <td>При в ходе приходится повторно в водить код.</td>\n",
       "      <td>2017-07-30</td>\n",
       "      <td>при ход приходиться повторно водить код</td>\n",
       "    </tr>\n",
       "    <tr>\n",
       "      <th>13148</th>\n",
       "      <td>5</td>\n",
       "      <td>Очень удобно!все операции в телефоне. Ну кроме...</td>\n",
       "      <td>2017-07-26</td>\n",
       "      <td>очень удобно операция телефон ну снятия:)</td>\n",
       "    </tr>\n",
       "    <tr>\n",
       "      <th>11179</th>\n",
       "      <td>4</td>\n",
       "      <td>Ну наконец-то, спустя несколько месяцев и милл...</td>\n",
       "      <td>2017-07-29</td>\n",
       "      <td>ну спустя месяц негативный отзыв приложение пр...</td>\n",
       "    </tr>\n",
       "    <tr>\n",
       "      <th>5885</th>\n",
       "      <td>5</td>\n",
       "      <td>Удобное приложение</td>\n",
       "      <td>2017-08-05</td>\n",
       "      <td>удобный приложение</td>\n",
       "    </tr>\n",
       "    <tr>\n",
       "      <th>11097</th>\n",
       "      <td>1</td>\n",
       "      <td>В один прекрасный момент приложение зависло. Н...</td>\n",
       "      <td>2017-07-29</td>\n",
       "      <td>прекрасный момент приложение зависнуть ничего ...</td>\n",
       "    </tr>\n",
       "    <tr>\n",
       "      <th>7778</th>\n",
       "      <td>4</td>\n",
       "      <td>Удобно спасибо</td>\n",
       "      <td>2017-08-03</td>\n",
       "      <td>удобно</td>\n",
       "    </tr>\n",
       "    <tr>\n",
       "      <th>19998</th>\n",
       "      <td>5</td>\n",
       "      <td>Удобно</td>\n",
       "      <td>2017-06-17</td>\n",
       "      <td>удобно</td>\n",
       "    </tr>\n",
       "  </tbody>\n",
       "</table>\n",
       "</div>"
      ],
      "text/plain": [
       "       Rating                                            Content        Date  \\\n",
       "7788        5                                                Ауе  2017-08-03   \n",
       "373         5                                 Отличный программы  2017-08-13   \n",
       "1056        5                                           От лично  2017-08-12   \n",
       "10320       4       При в ходе приходится повторно в водить код.  2017-07-30   \n",
       "13148       5  Очень удобно!все операции в телефоне. Ну кроме...  2017-07-26   \n",
       "11179       4  Ну наконец-то, спустя несколько месяцев и милл...  2017-07-29   \n",
       "5885        5                                 Удобное приложение  2017-08-05   \n",
       "11097       1  В один прекрасный момент приложение зависло. Н...  2017-07-29   \n",
       "7778        4                                     Удобно спасибо  2017-08-03   \n",
       "19998       5                                             Удобно  2017-06-17   \n",
       "\n",
       "                                       preprocessed_text  \n",
       "7788                                                 ауе  \n",
       "373                                   отличный программа  \n",
       "1056                                            от лично  \n",
       "10320            при ход приходиться повторно водить код  \n",
       "13148          очень удобно операция телефон ну снятия:)  \n",
       "11179  ну спустя месяц негативный отзыв приложение пр...  \n",
       "5885                                  удобный приложение  \n",
       "11097  прекрасный момент приложение зависнуть ничего ...  \n",
       "7778                                              удобно  \n",
       "19998                                             удобно  "
      ]
     },
     "execution_count": 5,
     "metadata": {},
     "output_type": "execute_result"
    }
   ],
   "source": [
    "data['preprocessed_text'] = data['Content'].progress_apply(preprocess_text)\n",
    "data = data[data['preprocessed_text'] != '']\n",
    "data.sample(10)"
   ]
  },
  {
   "cell_type": "code",
   "execution_count": 6,
   "id": "cbb9cc0e",
   "metadata": {},
   "outputs": [
    {
     "data": {
      "text/plain": [
       "115671"
      ]
     },
     "execution_count": 6,
     "metadata": {},
     "output_type": "execute_result"
    }
   ],
   "source": [
    "train_corpus = ' '.join(data['preprocessed_text'])\n",
    "tokens = word_tokenize(train_corpus)\n",
    "tokens_filtered = [word for word in tokens if word.isalnum()]\n",
    "len(tokens_filtered)"
   ]
  },
  {
   "cell_type": "code",
   "execution_count": 7,
   "id": "4e2f135b",
   "metadata": {},
   "outputs": [
    {
     "data": {
      "text/plain": [
       "['приложение', 'удобно', 'всё', 'очень', 'работать']"
      ]
     },
     "execution_count": 7,
     "metadata": {},
     "output_type": "execute_result"
    }
   ],
   "source": [
    "dist = FreqDist(tokens_filtered)\n",
    "tokens_filtered_top = [pair[0] for pair in dist.most_common(MAX_WORDS-1)]\n",
    "tokens_filtered_top[:5]"
   ]
  },
  {
   "cell_type": "code",
   "execution_count": 8,
   "id": "2c1510b1",
   "metadata": {},
   "outputs": [],
   "source": [
    "vocabulary = {v: k for k, v in dict(enumerate(tokens_filtered_top, 1)).items()}\n",
    "\n",
    "def text_to_sequence(text, maxlen):\n",
    "    result = []\n",
    "    tokens = word_tokenize(text.lower())\n",
    "    tokens_filtered = [word for word in tokens if word.isalnum()]\n",
    "    for word in tokens_filtered:\n",
    "        if word in vocabulary:\n",
    "            result.append(vocabulary[word])\n",
    "    padding = [0]*(maxlen-len(result))\n",
    "    return padding + result[-maxlen:]"
   ]
  },
  {
   "cell_type": "code",
   "execution_count": 9,
   "id": "9d0db82e",
   "metadata": {},
   "outputs": [],
   "source": [
    "data_train = np.asarray([text_to_sequence(text, MAX_LEN) for text in data['preprocessed_text']], dtype=np.int32)\n",
    "X_train, X_val, y_train, y_val = train_test_split(data_train, data['Rating'], test_size=0.25)\n",
    "\n",
    "le = LabelEncoder()\n",
    "y_train = le.fit_transform(y_train) \n",
    "y_val = le.transform(y_val)"
   ]
  },
  {
   "cell_type": "markdown",
   "id": "0eaaeb5d",
   "metadata": {},
   "source": [
    "## Учим conv сеть для классификации"
   ]
  },
  {
   "cell_type": "code",
   "execution_count": 10,
   "id": "b3977627",
   "metadata": {},
   "outputs": [],
   "source": [
    "y_train = keras.utils.to_categorical(y_train, NUM_CLASSES)\n",
    "y_val = keras.utils.to_categorical(y_val, NUM_CLASSES)\n",
    "\n",
    "def get_model(max_words, max_len, num_classes, embeddings_initializer=None):\n",
    "    model = Sequential()\n",
    "    model.add(Embedding(input_dim=max_words,\n",
    "                        output_dim=128,\n",
    "                        input_length=max_len,\n",
    "                        embeddings_initializer=embeddings_initializer))\n",
    "\n",
    "    model.add(Conv1D(128, 3))\n",
    "    model.add(Activation(\"relu\"))\n",
    "    model.add(GlobalMaxPool1D())\n",
    "    model.add(Dense(10))\n",
    "    model.add(Activation(\"relu\"))\n",
    "    model.add(Dense(num_classes))\n",
    "    model.add(Activation('softmax'))\n",
    "    \n",
    "    model.compile(loss='categorical_crossentropy',\n",
    "                  optimizer='adam',\n",
    "                  metrics=['accuracy'])\n",
    "\n",
    "    return model"
   ]
  },
  {
   "cell_type": "markdown",
   "id": "e0157541",
   "metadata": {},
   "source": [
    "## Инициализировать tf.keras.layers.Embedding предобученными векторами взять к примеру с https://rusvectores.org/ru/"
   ]
  },
  {
   "cell_type": "code",
   "execution_count": 11,
   "id": "4eea8072",
   "metadata": {},
   "outputs": [],
   "source": [
    "ruwikiruscorpora = gensim.models.KeyedVectors.load_word2vec_format(MODEL_PATH + 'model.bin', binary=True)\n",
    "ruwikiruscorpora_matrix = [ruwikiruscorpora[i][:128] for i in range(MAX_WORDS)]\n",
    "embeddings_initializer = keras.initializers.Constant(ruwikiruscorpora_matrix)"
   ]
  },
  {
   "cell_type": "code",
   "execution_count": 12,
   "id": "51cc06af",
   "metadata": {},
   "outputs": [
    {
     "name": "stdout",
     "output_type": "stream",
     "text": [
      "Epoch 1/20\n",
      "218/218 [==============================] - 2s 10ms/step - loss: 0.9841 - accuracy: 0.6965 - val_loss: 0.9958 - val_accuracy: 0.6955\n",
      "Epoch 2/20\n",
      "218/218 [==============================] - 2s 10ms/step - loss: 0.7573 - accuracy: 0.7330 - val_loss: 0.8126 - val_accuracy: 0.7162\n"
     ]
    }
   ],
   "source": [
    "early_stopping=EarlyStopping(monitor='val_loss')\n",
    "\n",
    "model = get_model(MAX_WORDS, MAX_LEN, NUM_CLASSES, embeddings_initializer)\n",
    "history = model.fit(X_train, y_train,\n",
    "                    batch_size=BATCH_SIZE,\n",
    "                    epochs=EPOCHS,\n",
    "                    verbose=1,\n",
    "                    validation_split=0.1,\n",
    "                    callbacks=[early_stopping])"
   ]
  },
  {
   "cell_type": "code",
   "execution_count": 13,
   "id": "9798bef6",
   "metadata": {
    "scrolled": false
   },
   "outputs": [
    {
     "name": "stdout",
     "output_type": "stream",
     "text": [
      "81/81 [==============================] - 0s 2ms/step - loss: 0.7386 - accuracy: 0.7378\n",
      "\n",
      "\n",
      "Test score: 0.7385953068733215\n",
      "Test accuracy: 0.7377812266349792\n"
     ]
    }
   ],
   "source": [
    "score = model.evaluate(X_val, y_val, batch_size=BATCH_SIZE, verbose=1)\n",
    "print('\\n')\n",
    "print('Test score:', score[0])\n",
    "print('Test accuracy:', score[1])"
   ]
  },
  {
   "cell_type": "markdown",
   "id": "3f45178d",
   "metadata": {},
   "source": [
    "## Инициализировать слой tf.keras.layers.Embedding по умолчанию (ну то есть вам ничего не делать с весами)"
   ]
  },
  {
   "cell_type": "code",
   "execution_count": 14,
   "id": "bf5df394",
   "metadata": {},
   "outputs": [
    {
     "name": "stdout",
     "output_type": "stream",
     "text": [
      "Epoch 1/20\n",
      "218/218 [==============================] - 2s 10ms/step - loss: 0.9021 - accuracy: 0.7411 - val_loss: 0.6962 - val_accuracy: 0.7576\n",
      "Epoch 2/20\n",
      "218/218 [==============================] - 2s 10ms/step - loss: 0.6011 - accuracy: 0.7862 - val_loss: 0.6871 - val_accuracy: 0.7589\n"
     ]
    }
   ],
   "source": [
    "early_stopping=EarlyStopping(monitor='val_loss')\n",
    "\n",
    "model = get_model(MAX_WORDS, MAX_LEN, NUM_CLASSES)\n",
    "history = model.fit(X_train, y_train,\n",
    "                    batch_size=BATCH_SIZE,\n",
    "                    epochs=EPOCHS,\n",
    "                    verbose=1,\n",
    "                    validation_split=0.1,\n",
    "                    callbacks=[early_stopping])"
   ]
  },
  {
   "cell_type": "code",
   "execution_count": 15,
   "id": "e3a227b6",
   "metadata": {
    "scrolled": true
   },
   "outputs": [
    {
     "name": "stdout",
     "output_type": "stream",
     "text": [
      "81/81 [==============================] - 0s 2ms/step - loss: 0.6347 - accuracy: 0.7822\n",
      "\n",
      "\n",
      "Test score: 0.6346622109413147\n",
      "Test accuracy: 0.782195508480072\n"
     ]
    }
   ],
   "source": [
    "score = model.evaluate(X_val, y_val, batch_size=BATCH_SIZE, verbose=1)\n",
    "print('\\n')\n",
    "print('Test score:', score[0])\n",
    "print('Test accuracy:', score[1])"
   ]
  },
  {
   "cell_type": "markdown",
   "id": "3e55edbf",
   "metadata": {},
   "source": [
    "Модель с предобученными весами показала результат хуже, чем модель с весами инициализированными по умолчанию."
   ]
  }
 ],
 "metadata": {
  "kernelspec": {
   "display_name": "Python 3 (ipykernel)",
   "language": "python",
   "name": "python3"
  },
  "language_info": {
   "codemirror_mode": {
    "name": "ipython",
    "version": 3
   },
   "file_extension": ".py",
   "mimetype": "text/x-python",
   "name": "python",
   "nbconvert_exporter": "python",
   "pygments_lexer": "ipython3",
   "version": "3.9.13"
  }
 },
 "nbformat": 4,
 "nbformat_minor": 5
}
