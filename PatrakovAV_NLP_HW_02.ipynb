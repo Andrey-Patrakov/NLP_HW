{
 "cells": [
  {
   "cell_type": "markdown",
   "id": "acabbe20",
   "metadata": {},
   "source": [
    "# Создание признакового пространства"
   ]
  },
  {
   "cell_type": "markdown",
   "id": "499f426c",
   "metadata": {},
   "source": [
    "## Код из методички\n",
    "### Импорты"
   ]
  },
  {
   "cell_type": "code",
   "execution_count": 1,
   "id": "bbf613a8",
   "metadata": {},
   "outputs": [],
   "source": [
    "import numpy as np\n",
    "import pandas as pd\n",
    "import matplotlib.pyplot as plt\n",
    "\n",
    "from sklearn.metrics import *\n",
    "from sklearn.model_selection import train_test_split\n",
    "from sklearn.pipeline import Pipeline\n",
    "\n",
    "from sklearn.linear_model import LogisticRegression \n",
    "from sklearn.feature_extraction.text import CountVectorizer, TfidfVectorizer, HashingVectorizer\n",
    "\n",
    "from string import punctuation\n",
    "from nltk import ngrams\n",
    "import nltk\n",
    "from nltk import collocations \n",
    "from nltk.tokenize import word_tokenize, wordpunct_tokenize\n",
    "from nltk.corpus import stopwords\n",
    "\n",
    "from collections import Counter\n",
    "\n",
    "import time"
   ]
  },
  {
   "cell_type": "markdown",
   "id": "bed354c3",
   "metadata": {},
   "source": [
    "### Настройки"
   ]
  },
  {
   "cell_type": "code",
   "execution_count": 2,
   "id": "4b50aa97",
   "metadata": {},
   "outputs": [],
   "source": [
    "DATA_PATH = './data/'\n",
    "RANDOM_STATE = 404\n",
    "\n",
    "import warnings\n",
    "warnings.filterwarnings(\"ignore\")"
   ]
  },
  {
   "cell_type": "markdown",
   "id": "948ff673",
   "metadata": {},
   "source": [
    "### Загрузка и подготовка данных"
   ]
  },
  {
   "cell_type": "code",
   "execution_count": 3,
   "id": "1704c354",
   "metadata": {},
   "outputs": [
    {
     "data": {
      "text/html": [
       "<div>\n",
       "<style scoped>\n",
       "    .dataframe tbody tr th:only-of-type {\n",
       "        vertical-align: middle;\n",
       "    }\n",
       "\n",
       "    .dataframe tbody tr th {\n",
       "        vertical-align: top;\n",
       "    }\n",
       "\n",
       "    .dataframe thead th {\n",
       "        text-align: right;\n",
       "    }\n",
       "</style>\n",
       "<table border=\"1\" class=\"dataframe\">\n",
       "  <thead>\n",
       "    <tr style=\"text-align: right;\">\n",
       "      <th></th>\n",
       "      <th>text</th>\n",
       "      <th>label</th>\n",
       "    </tr>\n",
       "  </thead>\n",
       "  <tbody>\n",
       "    <tr>\n",
       "      <th>111918</th>\n",
       "      <td>Но не каждый хочет что то исправлять:( http://...</td>\n",
       "      <td>negative</td>\n",
       "    </tr>\n",
       "    <tr>\n",
       "      <th>111919</th>\n",
       "      <td>скучаю так :-( только @taaannyaaa вправляет мо...</td>\n",
       "      <td>negative</td>\n",
       "    </tr>\n",
       "    <tr>\n",
       "      <th>111920</th>\n",
       "      <td>Вот и в школу, в говно это идти уже надо(</td>\n",
       "      <td>negative</td>\n",
       "    </tr>\n",
       "    <tr>\n",
       "      <th>111921</th>\n",
       "      <td>RT @_Them__: @LisaBeroud Тауриэль, не грусти :...</td>\n",
       "      <td>negative</td>\n",
       "    </tr>\n",
       "    <tr>\n",
       "      <th>111922</th>\n",
       "      <td>Такси везет меня на работу. Раздумываю приплат...</td>\n",
       "      <td>negative</td>\n",
       "    </tr>\n",
       "  </tbody>\n",
       "</table>\n",
       "</div>"
      ],
      "text/plain": [
       "                                                     text     label\n",
       "111918  Но не каждый хочет что то исправлять:( http://...  negative\n",
       "111919  скучаю так :-( только @taaannyaaa вправляет мо...  negative\n",
       "111920          Вот и в школу, в говно это идти уже надо(  negative\n",
       "111921  RT @_Them__: @LisaBeroud Тауриэль, не грусти :...  negative\n",
       "111922  Такси везет меня на работу. Раздумываю приплат...  negative"
      ]
     },
     "execution_count": 3,
     "metadata": {},
     "output_type": "execute_result"
    }
   ],
   "source": [
    "# считываем данные и заполняем общий датасет\n",
    "positive = pd.read_csv(DATA_PATH + 'positive.csv', sep=';', usecols=[3], names=['text'])\n",
    "positive['label'] = ['positive'] * len(positive)\n",
    "negative = pd.read_csv(DATA_PATH + 'negative.csv', sep=';', usecols=[3], names=['text'])\n",
    "negative['label'] = ['negative'] * len(negative)\n",
    "df = positive.append(negative)\n",
    "df.tail()"
   ]
  },
  {
   "cell_type": "code",
   "execution_count": 4,
   "id": "7fd874c0",
   "metadata": {},
   "outputs": [],
   "source": [
    "x_train, x_test, y_train, y_test = train_test_split(df.text, df.label, random_state=RANDOM_STATE)"
   ]
  },
  {
   "cell_type": "code",
   "execution_count": 5,
   "id": "dd3e65dd",
   "metadata": {},
   "outputs": [
    {
     "name": "stderr",
     "output_type": "stream",
     "text": [
      "[nltk_data] Downloading package genesis to\n",
      "[nltk_data]     C:\\Users\\avpat\\AppData\\Roaming\\nltk_data...\n",
      "[nltk_data]   Package genesis is already up-to-date!\n",
      "[nltk_data] Downloading package stopwords to\n",
      "[nltk_data]     C:\\Users\\avpat\\AppData\\Roaming\\nltk_data...\n",
      "[nltk_data]   Package stopwords is already up-to-date!\n",
      "[nltk_data] Downloading package punkt to\n",
      "[nltk_data]     C:\\Users\\avpat\\AppData\\Roaming\\nltk_data...\n",
      "[nltk_data]   Package punkt is already up-to-date!\n"
     ]
    }
   ],
   "source": [
    "nltk.download('genesis')\n",
    "nltk.download('stopwords')\n",
    "nltk.download('punkt')\n",
    "\n",
    "noise = stopwords.words('russian') + list(punctuation)"
   ]
  },
  {
   "cell_type": "code",
   "execution_count": 6,
   "id": "f54dfc20",
   "metadata": {},
   "outputs": [
    {
     "data": {
      "image/png": "[encoded data removed]",
      "text/plain": [
       "<Figure size 640x480 with 1 Axes>"
      ]
     },
     "metadata": {},
     "output_type": "display_data"
    }
   ],
   "source": [
    "corpus = [token for tweet in df.text for token in word_tokenize(tweet) if token not in punctuation]\n",
    "freq_dict = Counter(corpus)\n",
    "freq_dict_sorted= sorted(freq_dict.items(), key=lambda x: -x[1])\n",
    "\n",
    "first_100_freqs = [freq for word, freq in freq_dict_sorted[:300]]\n",
    "plt.plot(first_100_freqs)\n",
    "plt.show()"
   ]
  },
  {
   "cell_type": "markdown",
   "id": "d22d7253",
   "metadata": {},
   "source": [
    "## Домашнее задание\n",
    "\n",
    "все материалы для выполения дз в `sem2.ipynb`\n",
    "\n",
    "\n",
    "### Задание 1.\n",
    "\n",
    "**Задание**: обучите три классификатора: \n",
    "\n",
    "1) на токенах с высокой частотой \n",
    "\n",
    "2) на токенах со средней частотой \n",
    "\n",
    "3) на токенах с низкой частотой\n",
    "\n",
    "\n",
    "Сравните полученные результаты, оцените какие токены наиболее важные для классификации."
   ]
  },
  {
   "cell_type": "code",
   "execution_count": 7,
   "id": "3fd0c4c8",
   "metadata": {},
   "outputs": [
    {
     "name": "stdout",
     "output_type": "stream",
     "text": [
      "['не', 'и', 'в', 'я', 'RT', 'на', 'http', 'что', 'с', 'а', '...', 'меня', 'у', 'как', 'так', 'D', 'это', 'мне', 'все', 'ты', 'но', \"''\", 'Я', '``', 'то', '..', 'по', 'уже', 'за', 'же']\n"
     ]
    }
   ],
   "source": [
    "# Отсечки по частотности\n",
    "high = 30\n",
    "low = 300\n",
    "\n",
    "high_freq = [token[0] for token in freq_dict_sorted[:high]]\n",
    "medium_freq = [token[0] for token in freq_dict_sorted[high:low]]\n",
    "low_freq = [token[0] for token in freq_dict_sorted[low:]]\n",
    "\n",
    "print(high_freq)"
   ]
  },
  {
   "cell_type": "code",
   "execution_count": 8,
   "id": "1c4916bb",
   "metadata": {},
   "outputs": [],
   "source": [
    "def train_lr(stop_words):\n",
    "    vec = CountVectorizer(ngram_range=(1, 1), tokenizer=word_tokenize, stop_words=stop_words)\n",
    "    bow = vec.fit_transform(x_train) # bow -- bag of words (мешок слов)\n",
    "    lr = LogisticRegression(random_state=RANDOM_STATE, max_iter=500)\n",
    "    lr.fit(bow, y_train)\n",
    "    pred = lr.predict(vec.transform(x_test))\n",
    "\n",
    "    return pred"
   ]
  },
  {
   "cell_type": "code",
   "execution_count": 9,
   "id": "2148364c",
   "metadata": {},
   "outputs": [
    {
     "name": "stdout",
     "output_type": "stream",
     "text": [
      "High:\n",
      "              precision    recall  f1-score   support\n",
      "\n",
      "    negative       0.80      0.57      0.67     38947\n",
      "    positive       0.42      0.68      0.52     17762\n",
      "\n",
      "    accuracy                           0.61     56709\n",
      "   macro avg       0.61      0.63      0.59     56709\n",
      "weighted avg       0.68      0.61      0.62     56709\n",
      "\n",
      "\n",
      "Medium:\n",
      "              precision    recall  f1-score   support\n",
      "\n",
      "    negative       0.49      0.66      0.57     20830\n",
      "    positive       0.76      0.61      0.67     35879\n",
      "\n",
      "    accuracy                           0.63     56709\n",
      "   macro avg       0.63      0.63      0.62     56709\n",
      "weighted avg       0.66      0.63      0.63     56709\n",
      "\n",
      "\n",
      "Low:\n",
      "              precision    recall  f1-score   support\n",
      "\n",
      "    negative       0.80      0.74      0.77     29963\n",
      "    positive       0.73      0.79      0.76     26746\n",
      "\n",
      "    accuracy                           0.76     56709\n",
      "   macro avg       0.76      0.76      0.76     56709\n",
      "weighted avg       0.77      0.76      0.76     56709\n",
      "\n",
      "\n",
      "Wall time: 1min 24s\n"
     ]
    }
   ],
   "source": [
    "%%time\n",
    "\n",
    "labels = ['High:', 'Medium:', 'Low:']\n",
    "params = [noise+medium_freq+low_freq,\n",
    "          noise+high_freq+low_freq,\n",
    "          noise+high_freq+medium_freq]\n",
    "\n",
    "for label, param in zip(labels, params):\n",
    "    pred = train_lr(param)\n",
    "    print(label, classification_report(pred, y_test), sep='\\n')\n",
    "    print('')"
   ]
  },
  {
   "cell_type": "markdown",
   "id": "7a6c4c84",
   "metadata": {},
   "source": [
    "__Вывод:__ Обучение на словах имеющих низкую частотность даёт лучшие результаты"
   ]
  },
  {
   "cell_type": "markdown",
   "id": "5d38119a",
   "metadata": {},
   "source": [
    "### Задание 2.\n",
    "\n",
    "найти фичи с наибольшей значимостью, и вывести их"
   ]
  },
  {
   "cell_type": "markdown",
   "id": "53c361eb",
   "metadata": {},
   "source": [
    "На уроке мы видели, что есть значисмые фичи среди пунктуации, поэтому обучим модель вместе с ними."
   ]
  },
  {
   "cell_type": "code",
   "execution_count": 10,
   "id": "b8785ddb",
   "metadata": {},
   "outputs": [
    {
     "name": "stdout",
     "output_type": "stream",
     "text": [
      "              precision    recall  f1-score   support\n",
      "\n",
      "    negative       1.00      1.00      1.00     27889\n",
      "    positive       1.00      1.00      1.00     28820\n",
      "\n",
      "    accuracy                           1.00     56709\n",
      "   macro avg       1.00      1.00      1.00     56709\n",
      "weighted avg       1.00      1.00      1.00     56709\n",
      "\n"
     ]
    }
   ],
   "source": [
    "stop_words = stopwords.words('russian')\n",
    "vec = CountVectorizer(ngram_range=(1, 1), tokenizer=word_tokenize, stop_words=stop_words)\n",
    "bow = vec.fit_transform(x_train) # bow -- bag of words (мешок слов)\n",
    "lr = LogisticRegression(random_state=RANDOM_STATE, max_iter=500)\n",
    "lr.fit(bow, y_train)\n",
    "pred = lr.predict(vec.transform(x_test))\n",
    "print(classification_report(pred, y_test))"
   ]
  },
  {
   "cell_type": "markdown",
   "id": "d8350802",
   "metadata": {},
   "source": [
    "Выведем 30 наиболее значимых фичей."
   ]
  },
  {
   "cell_type": "code",
   "execution_count": 11,
   "id": "7677c9b2",
   "metadata": {},
   "outputs": [
    {
     "name": "stdout",
     "output_type": "stream",
     "text": [
      "1) (\n",
      "2) )\n",
      "3) d\n",
      "4) |\n",
      "5) ^_^\n",
      "6) -/\n",
      "7) dd\n",
      "8) o_o\n",
      "9) о_о\n",
      "10) ddd\n",
      "11) do_or_die_xxx\n",
      "12) to_over_kill\n",
      "13) -d\n",
      "14) dddd\n",
      "15) белый\n",
      "16) horanso_on\n",
      "17) cio_optimal\n",
      "18) reno_oppa\n",
      "19) prisonero_o\n",
      "20) ddddd\n",
      "21) =^_^=\n",
      "22) kota_oo_oo\n",
      "23) rt\n",
      "24) lponomarenko_o\n",
      "25) :\n",
      "26) _do_or_die__\n",
      "27) do_or_pie_\n",
      "28) _ooo_ooo__\n",
      "29) alekseevao_o\n",
      "30) dddddd\n"
     ]
    }
   ],
   "source": [
    "# Выведем 30 важнейших признаков\n",
    "feat_importance = list(zip(vec.get_feature_names_out(), lr.coef_[0]))\n",
    "feat_importance = sorted(feat_importance, key=lambda x: abs(x[1]), reverse=True)[:30]\n",
    "\n",
    "for i, feat in enumerate(feat_importance):\n",
    "    print(f'{i+1}) {feat[0]}')"
   ]
  },
  {
   "cell_type": "markdown",
   "id": "c651c6b8",
   "metadata": {},
   "source": [
    "Из списка выше видно, что наиболее значимыми фичами являются части смайликов."
   ]
  },
  {
   "cell_type": "markdown",
   "id": "d308b115",
   "metadata": {},
   "source": [
    "### Задание 3.\n",
    "\n",
    "1) сравнить count/tf-idf/hashing векторайзеры/полносвязанную сетку (построить classification_report)\n",
    "\n",
    "2) подобрать оптимальный размер для hashing векторайзера \n",
    "\n",
    "3) убедиться что для сетки нет переобучения"
   ]
  },
  {
   "cell_type": "code",
   "execution_count": 12,
   "id": "b2012345",
   "metadata": {
    "scrolled": false
   },
   "outputs": [
    {
     "name": "stdout",
     "output_type": "stream",
     "text": [
      "Count (24 sec)\n",
      "              precision    recall  f1-score   support\n",
      "\n",
      "    negative       0.80      0.74      0.77     29963\n",
      "    positive       0.73      0.79      0.76     26746\n",
      "\n",
      "    accuracy                           0.76     56709\n",
      "   macro avg       0.76      0.76      0.76     56709\n",
      "weighted avg       0.77      0.76      0.76     56709\n",
      "\n",
      "\n",
      "\n",
      "TF-IDF (18 sec)\n",
      "              precision    recall  f1-score   support\n",
      "\n",
      "    negative       0.76      0.75      0.76     28142\n",
      "    positive       0.76      0.77      0.76     28567\n",
      "\n",
      "    accuracy                           0.76     56709\n",
      "   macro avg       0.76      0.76      0.76     56709\n",
      "weighted avg       0.76      0.76      0.76     56709\n",
      "\n",
      "\n",
      "\n",
      "Hashing (1024) (2 sec)\n",
      "              precision    recall  f1-score   support\n",
      "\n",
      "    negative       0.63      0.65      0.64     27224\n",
      "    positive       0.67      0.65      0.66     29485\n",
      "\n",
      "    accuracy                           0.65     56709\n",
      "   macro avg       0.65      0.65      0.65     56709\n",
      "weighted avg       0.65      0.65      0.65     56709\n",
      "\n",
      "\n",
      "\n",
      "Hashing (2048) (2 sec)\n",
      "              precision    recall  f1-score   support\n",
      "\n",
      "    negative       0.66      0.67      0.66     27362\n",
      "    positive       0.69      0.67      0.68     29347\n",
      "\n",
      "    accuracy                           0.67     56709\n",
      "   macro avg       0.67      0.67      0.67     56709\n",
      "weighted avg       0.67      0.67      0.67     56709\n",
      "\n",
      "\n",
      "\n",
      "Hashing (3072) (3 sec)\n",
      "              precision    recall  f1-score   support\n",
      "\n",
      "    negative       0.67      0.68      0.67     27120\n",
      "    positive       0.70      0.68      0.69     29589\n",
      "\n",
      "    accuracy                           0.68     56709\n",
      "   macro avg       0.68      0.68      0.68     56709\n",
      "weighted avg       0.69      0.68      0.68     56709\n",
      "\n",
      "\n",
      "\n",
      "Hashing (4096) (3 sec)\n",
      "              precision    recall  f1-score   support\n",
      "\n",
      "    negative       0.68      0.69      0.68     27318\n",
      "    positive       0.71      0.69      0.70     29391\n",
      "\n",
      "    accuracy                           0.69     56709\n",
      "   macro avg       0.69      0.69      0.69     56709\n",
      "weighted avg       0.69      0.69      0.69     56709\n",
      "\n",
      "\n",
      "\n",
      "Hashing (5120) (3 sec)\n",
      "              precision    recall  f1-score   support\n",
      "\n",
      "    negative       0.68      0.70      0.69     27277\n",
      "    positive       0.71      0.70      0.71     29432\n",
      "\n",
      "    accuracy                           0.70     56709\n",
      "   macro avg       0.70      0.70      0.70     56709\n",
      "weighted avg       0.70      0.70      0.70     56709\n",
      "\n",
      "\n",
      "\n",
      "Hashing (6144) (3 sec)\n",
      "              precision    recall  f1-score   support\n",
      "\n",
      "    negative       0.68      0.70      0.69     27317\n",
      "    positive       0.71      0.70      0.71     29392\n",
      "\n",
      "    accuracy                           0.70     56709\n",
      "   macro avg       0.70      0.70      0.70     56709\n",
      "weighted avg       0.70      0.70      0.70     56709\n",
      "\n",
      "\n",
      "\n",
      "Hashing (7168) (3 sec)\n",
      "              precision    recall  f1-score   support\n",
      "\n",
      "    negative       0.69      0.71      0.70     27279\n",
      "    positive       0.72      0.71      0.71     29430\n",
      "\n",
      "    accuracy                           0.71     56709\n",
      "   macro avg       0.71      0.71      0.71     56709\n",
      "weighted avg       0.71      0.71      0.71     56709\n",
      "\n",
      "\n",
      "\n",
      "Hashing (8192) (3 sec)\n",
      "              precision    recall  f1-score   support\n",
      "\n",
      "    negative       0.69      0.71      0.70     27249\n",
      "    positive       0.72      0.71      0.72     29460\n",
      "\n",
      "    accuracy                           0.71     56709\n",
      "   macro avg       0.71      0.71      0.71     56709\n",
      "weighted avg       0.71      0.71      0.71     56709\n",
      "\n",
      "\n",
      "\n",
      "Hashing (9216) (4 sec)\n",
      "              precision    recall  f1-score   support\n",
      "\n",
      "    negative       0.70      0.71      0.70     27285\n",
      "    positive       0.73      0.71      0.72     29424\n",
      "\n",
      "    accuracy                           0.71     56709\n",
      "   macro avg       0.71      0.71      0.71     56709\n",
      "weighted avg       0.71      0.71      0.71     56709\n",
      "\n",
      "\n",
      "\n",
      "Hashing (10240) (4 sec)\n",
      "              precision    recall  f1-score   support\n",
      "\n",
      "    negative       0.70      0.71      0.70     27285\n",
      "    positive       0.73      0.71      0.72     29424\n",
      "\n",
      "    accuracy                           0.71     56709\n",
      "   macro avg       0.71      0.71      0.71     56709\n",
      "weighted avg       0.71      0.71      0.71     56709\n",
      "\n",
      "\n",
      "\n"
     ]
    }
   ],
   "source": [
    "stop_words = noise+high_freq+medium_freq # Обучение со спец. символами работает слишком хорошо\n",
    "\n",
    "params = [\n",
    "    ('Count', CountVectorizer(ngram_range=(1, 1), tokenizer=word_tokenize, stop_words=stop_words)),\n",
    "    ('TF-IDF', TfidfVectorizer(ngram_range=(1, 1), tokenizer=word_tokenize, stop_words=stop_words))\n",
    "]\n",
    "\n",
    "for i in range(1024, 10240+1, 1024):\n",
    "    params.append((f'Hashing ({i})', HashingVectorizer(n_features=i)))\n",
    "\n",
    "for label, vectorizer in params:\n",
    "    start_time = time.time()\n",
    "\n",
    "    bow = vectorizer.fit_transform(x_train) # bow -- bag of words (мешок слов)\n",
    "    lr = LogisticRegression(random_state=RANDOM_STATE, max_iter=500)\n",
    "    lr.fit(bow, y_train)\n",
    "    pred = lr.predict(vectorizer.transform(x_test))\n",
    "    print(f'{label} ({round(time.time() - start_time)} sec)',\n",
    "          classification_report(pred, y_test),\n",
    "          sep='\\n')\n",
    "\n",
    "    print('\\n')"
   ]
  },
  {
   "cell_type": "markdown",
   "id": "19dd1fdd",
   "metadata": {},
   "source": [
    "В данном случае CountVectorizer показал лучшие результаты.<br>\n",
    "HashingVectorizer работает значительно быстрее остальных, однако предсказывает он жуже.<br>\n",
    "Оптимальный размер для HashingVectorizer: 7168"
   ]
  }
 ],
 "metadata": {
  "kernelspec": {
   "display_name": "Python 3 (ipykernel)",
   "language": "python",
   "name": "python3"
  },
  "language_info": {
   "codemirror_mode": {
    "name": "ipython",
    "version": 3
   },
   "file_extension": ".py",
   "mimetype": "text/x-python",
   "name": "python",
   "nbconvert_exporter": "python",
   "pygments_lexer": "ipython3",
   "version": "3.9.13"
  }
 },
 "nbformat": 4,
 "nbformat_minor": 5
}
