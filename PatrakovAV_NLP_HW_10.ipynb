{
  "cells": [
    {
      "cell_type": "code",
      "execution_count": 1,
      "id": "6ca9c8e0",
      "metadata": {
        "id": "6ca9c8e0"
      },
      "outputs": [],
      "source": [
        "# !wget http://www.manythings.org/anki/rus-eng.zip\n",
        "# !mkdir data\n",
        "# !unzip rus-eng.zip -d data/\n",
        "# !ls /content/data/ -lah"
      ]
    },
    {
      "cell_type": "markdown",
      "id": "dd7e2d4e",
      "metadata": {
        "id": "dd7e2d4e"
      },
      "source": [
        "## Импорты"
      ]
    },
    {
      "cell_type": "code",
      "execution_count": 2,
      "id": "8c183321",
      "metadata": {
        "id": "8c183321"
      },
      "outputs": [],
      "source": [
        "import re\n",
        "from time import time\n",
        "\n",
        "from keras import Model\n",
        "from keras.utils import pad_sequences\n",
        "from keras.preprocessing.text import Tokenizer\n",
        "from keras.layers import Embedding, GRU, Dense\n",
        "from keras.optimizers import Adam\n",
        "from keras.losses import SparseCategoricalCrossentropy\n",
        "\n",
        "import tensorflow as tf\n",
        "from tensorflow.data import Dataset\n",
        "\n",
        "from sklearn.model_selection import train_test_split"
      ]
    },
    {
      "cell_type": "markdown",
      "id": "f2dce9f4",
      "metadata": {
        "id": "f2dce9f4"
      },
      "source": [
        "## Настройки"
      ]
    },
    {
      "cell_type": "code",
      "execution_count": 3,
      "id": "f845b2bd",
      "metadata": {
        "id": "f845b2bd"
      },
      "outputs": [],
      "source": [
        "PATH = \"./data/rus.txt\"\n",
        "DATA_LEN = 200000\n",
        "\n",
        "EPOCHS = 10\n",
        "BATCH_SIZE = 64\n",
        "EMBEDDING_DIM = 300\n",
        "UNITS = 1024"
      ]
    },
    {
      "cell_type": "markdown",
      "id": "f98aa3f4",
      "metadata": {
        "id": "f98aa3f4"
      },
      "source": [
        "## Данные"
      ]
    },
    {
      "cell_type": "code",
      "execution_count": 4,
      "id": "5abf2e46",
      "metadata": {
        "id": "5abf2e46"
      },
      "outputs": [],
      "source": [
        "def preprocess(text):\n",
        "    text = text.strip().lower()\n",
        "    text = re.sub(r\"([?.!,])\", r\" \\1 \", text)\n",
        "    text = re.sub(r'[\" \"]+', \" \",text)\n",
        "    text = re.sub(r\"[^a-zA-Zа-яА-Я?.!,']+\", \" \", text)\n",
        "    text = text.strip()\n",
        "    return '<start> ' + text + ' <end>'"
      ]
    },
    {
      "cell_type": "code",
      "execution_count": 5,
      "id": "8dec7458",
      "metadata": {
        "id": "8dec7458"
      },
      "outputs": [],
      "source": [
        "def tokenize(data):\n",
        "    tokenizer = Tokenizer(filters='')\n",
        "    tokenizer.fit_on_texts(data)\n",
        "    tensor = tokenizer.texts_to_sequences(data)\n",
        "    tensor = pad_sequences(tensor, padding='post')\n",
        "    return tensor, tokenizer"
      ]
    },
    {
      "cell_type": "code",
      "execution_count": 6,
      "id": "6bd81388",
      "metadata": {
        "id": "6bd81388"
      },
      "outputs": [],
      "source": [
        "def load_data(path, num_examples):\n",
        "    with open(path, 'r', encoding='utf-8') as file:\n",
        "        lines = file.readlines()\n",
        "        res = []\n",
        "\n",
        "        for line in lines[:num_examples]:\n",
        "            res.append([preprocess(text) for text in line.split('\\t')[:2]])\n",
        "\n",
        "        en, ru = zip(*res)\n",
        "        ru_tensor, ru_tokenizer = tokenize(ru)\n",
        "        en_tensor, en_tokenizer = tokenize(en)\n",
        "        return ru_tensor, en_tensor, ru_tokenizer, en_tokenizer"
      ]
    },
    {
      "cell_type": "code",
      "execution_count": 7,
      "id": "ca427679",
      "metadata": {
        "id": "ca427679"
      },
      "outputs": [],
      "source": [
        "ru_tensor, en_tensor, ru_tokenizer, en_tokenizer = load_data(PATH, DATA_LEN)\n",
        "\n",
        "ru_len, en_len = ru_tensor.shape[1], en_tensor.shape[1]\n",
        "ru_tensor_train, ru_tensor_val, en_tensor_train, en_tensor_val = train_test_split(ru_tensor, en_tensor, test_size=0.2)\n",
        "\n",
        "BUFFER_SIZE = len(ru_tensor_train)\n",
        "dataset = Dataset.from_tensor_slices((ru_tensor_train, en_tensor_train)).shuffle(BUFFER_SIZE)\n",
        "dataset = dataset.batch(BATCH_SIZE, drop_remainder=True)"
      ]
    },
    {
      "cell_type": "markdown",
      "id": "63e43e51",
      "metadata": {
        "id": "63e43e51"
      },
      "source": [
        "## Модель"
      ]
    },
    {
      "cell_type": "code",
      "execution_count": 8,
      "id": "9322c5b2",
      "metadata": {
        "id": "9322c5b2"
      },
      "outputs": [],
      "source": [
        "class Encoder(Model):\n",
        "    def __init__(self, vocab_size, embedding_dim, encoder_units, batch_size):\n",
        "        super().__init__()\n",
        "        self.batch_size = batch_size\n",
        "        self.encoder_units = encoder_units\n",
        "        self.embedding = Embedding(vocab_size, embedding_dim)\n",
        "        self.gru = GRU(encoder_units,\n",
        "                       return_sequences=False,\n",
        "                       return_state=True,\n",
        "                       recurrent_initializer='glorot_uniform')\n",
        "        \n",
        "    def call(self, x, hidden):\n",
        "        x = self.embedding(x)\n",
        "        output, state = self.gru(x, initial_state = hidden)\n",
        "        return state\n",
        "\n",
        "    def initialize_hidden_state(self):\n",
        "        return tf.zeros((self.batch_size, self.encoder_units))"
      ]
    },
    {
      "cell_type": "code",
      "execution_count": 9,
      "id": "ea661b95",
      "metadata": {
        "id": "ea661b95"
      },
      "outputs": [],
      "source": [
        "class Decoder(Model):\n",
        "    def __init__(self, vocab_size, embedding_dim, decoder_units, batch_size):\n",
        "        super().__init__()\n",
        "        self.batch_size = batch_size\n",
        "        self.decoder_units = decoder_units\n",
        "        self.dense = Dense(vocab_size)\n",
        "        self.embedding = Embedding(vocab_size, embedding_dim)\n",
        "        self.gru = GRU(decoder_units,\n",
        "                       return_sequences=True,\n",
        "                       return_state=True,\n",
        "                       recurrent_initializer='glorot_uniform')\n",
        "    \n",
        "    def call(self, x, hidden):\n",
        "        x = self.embedding(x)\n",
        "        output, state = self.gru(x, initial_state=hidden)\n",
        "        output = tf.reshape(output, (-1, output.shape[2]))\n",
        "        x = self.dense(output)\n",
        "        return x, state"
      ]
    },
    {
      "cell_type": "code",
      "execution_count": 10,
      "id": "e2941986",
      "metadata": {
        "id": "e2941986"
      },
      "outputs": [],
      "source": [
        "ru_vocab_size = len(ru_tokenizer.word_index)+1\n",
        "en_vocab_size = len(en_tokenizer.word_index)+1\n",
        "\n",
        "encoder = Encoder(ru_vocab_size, EMBEDDING_DIM, UNITS, BATCH_SIZE)\n",
        "decoder = Decoder(en_vocab_size, EMBEDDING_DIM, UNITS, BATCH_SIZE)\n",
        "\n",
        "optimizer = Adam()\n",
        "loss_obj = SparseCategoricalCrossentropy(from_logits=True, reduction='none')"
      ]
    },
    {
      "cell_type": "code",
      "execution_count": 11,
      "id": "b6a225ff",
      "metadata": {
        "id": "b6a225ff"
      },
      "outputs": [],
      "source": [
        "def loss_func(real, pred):\n",
        "    mask = tf.math.logical_not(tf.math.equal(real, 0))\n",
        "    loss_ = loss_obj(real, pred)\n",
        "    mask = tf.cast(mask, dtype=loss_.dtype)\n",
        "    loss_ *= mask\n",
        "    return tf.reduce_mean(loss_)"
      ]
    },
    {
      "cell_type": "markdown",
      "id": "61c8e77f",
      "metadata": {
        "id": "61c8e77f"
      },
      "source": [
        "## Обучение"
      ]
    },
    {
      "cell_type": "code",
      "execution_count": 12,
      "id": "f2d0e5ca",
      "metadata": {
        "id": "f2d0e5ca"
      },
      "outputs": [],
      "source": [
        "@tf.function\n",
        "def train_step(inp, targ, enc_hidden):\n",
        "    loss = 0\n",
        "    with tf.GradientTape() as tape:\n",
        "        enc_hidden = encoder(inp, enc_hidden)\n",
        "        dec_hidden = enc_hidden\n",
        "        dec_input = tf.expand_dims([en_tokenizer.word_index['<start>']] * BATCH_SIZE, 1)\n",
        "        \n",
        "        for t in range(1, targ.shape[1]):\n",
        "            predictions, dec_hidden = decoder(dec_input, dec_hidden)\n",
        "            loss += loss_func(targ[:, t], predictions)\n",
        "            dec_input = tf.expand_dims(targ[:, t], 1)\n",
        "        \n",
        "        batch_loss = (loss / int(targ.shape[1]))\n",
        "        variables = encoder.trainable_variables + decoder.trainable_variables\n",
        "        gradients = tape.gradient(loss, variables)\n",
        "        \n",
        "        optimizer.apply_gradients(zip(gradients, variables))\n",
        "\n",
        "    return batch_loss"
      ]
    },
    {
      "cell_type": "code",
      "execution_count": 13,
      "id": "5cfe657e",
      "metadata": {
        "colab": {
          "base_uri": "https://localhost:8080/"
        },
        "id": "5cfe657e",
        "outputId": "25a010b4-ae6d-4b3f-ae2a-55e2415c7b6f"
      },
      "outputs": [
        {
          "output_type": "stream",
          "name": "stdout",
          "text": [
            "Epoch 1 Batch 0 Loss 4.6802\n",
            "Epoch 1 Batch 100 Loss 2.2353\n",
            "Epoch 1 Batch 200 Loss 1.9267\n",
            "Epoch 1 Batch 300 Loss 1.8847\n",
            "Epoch 1 Batch 400 Loss 1.7956\n",
            "Epoch 1 Batch 500 Loss 1.6288\n",
            "Epoch 1 Batch 600 Loss 1.6078\n",
            "Epoch 1 Batch 700 Loss 1.5801\n",
            "Epoch 1 Batch 800 Loss 1.5211\n",
            "Epoch 1 Batch 900 Loss 1.3857\n",
            "Epoch 1 Batch 1000 Loss 1.4045\n",
            "Epoch 1 Batch 1100 Loss 1.4904\n",
            "Epoch 1 Batch 1200 Loss 1.2195\n",
            "Epoch 1 Batch 1300 Loss 1.2420\n",
            "Epoch 1 Batch 1400 Loss 1.0829\n",
            "Epoch 1 Batch 1500 Loss 1.0045\n",
            "Epoch 1 Batch 1600 Loss 1.0912\n",
            "Epoch 1 Batch 1700 Loss 1.1163\n",
            "Epoch 1 Batch 1800 Loss 1.0809\n",
            "Epoch 1 Batch 1900 Loss 0.8187\n",
            "Epoch 1 Batch 2000 Loss 0.9313\n",
            "Epoch 1 Batch 2100 Loss 0.8531\n",
            "Epoch 1 Batch 2200 Loss 0.8059\n",
            "Epoch 1 Batch 2300 Loss 0.7537\n",
            "Epoch 1 Batch 2400 Loss 0.8523\n",
            "Epoch 1 Loss 1.3052\n",
            "Time taken for 1 epoch 153.2351679801941 sec\n",
            "\n",
            "Epoch 2 Batch 0 Loss 0.6106\n",
            "Epoch 2 Batch 100 Loss 0.6669\n",
            "Epoch 2 Batch 200 Loss 0.7038\n",
            "Epoch 2 Batch 300 Loss 0.6571\n",
            "Epoch 2 Batch 400 Loss 0.6142\n",
            "Epoch 2 Batch 500 Loss 0.5544\n",
            "Epoch 2 Batch 600 Loss 0.5401\n",
            "Epoch 2 Batch 700 Loss 0.6164\n",
            "Epoch 2 Batch 800 Loss 0.5393\n",
            "Epoch 2 Batch 900 Loss 0.5113\n",
            "Epoch 2 Batch 1000 Loss 0.5354\n",
            "Epoch 2 Batch 1100 Loss 0.5074\n",
            "Epoch 2 Batch 1200 Loss 0.5103\n",
            "Epoch 2 Batch 1300 Loss 0.4817\n",
            "Epoch 2 Batch 1400 Loss 0.5299\n",
            "Epoch 2 Batch 1500 Loss 0.5208\n",
            "Epoch 2 Batch 1600 Loss 0.5027\n",
            "Epoch 2 Batch 1700 Loss 0.4665\n",
            "Epoch 2 Batch 1800 Loss 0.5025\n",
            "Epoch 2 Batch 1900 Loss 0.4394\n",
            "Epoch 2 Batch 2000 Loss 0.4373\n",
            "Epoch 2 Batch 2100 Loss 0.4965\n",
            "Epoch 2 Batch 2200 Loss 0.4311\n",
            "Epoch 2 Batch 2300 Loss 0.4554\n",
            "Epoch 2 Batch 2400 Loss 0.4205\n",
            "Epoch 2 Loss 0.5281\n",
            "Time taken for 1 epoch 139.39779472351074 sec\n",
            "\n",
            "Epoch 3 Batch 0 Loss 0.2543\n",
            "Epoch 3 Batch 100 Loss 0.2303\n",
            "Epoch 3 Batch 200 Loss 0.2457\n",
            "Epoch 3 Batch 300 Loss 0.3909\n",
            "Epoch 3 Batch 400 Loss 0.3098\n",
            "Epoch 3 Batch 500 Loss 0.2521\n",
            "Epoch 3 Batch 600 Loss 0.2986\n",
            "Epoch 3 Batch 700 Loss 0.2504\n",
            "Epoch 3 Batch 800 Loss 0.2658\n",
            "Epoch 3 Batch 900 Loss 0.2736\n",
            "Epoch 3 Batch 1000 Loss 0.2926\n",
            "Epoch 3 Batch 1100 Loss 0.3453\n",
            "Epoch 3 Batch 1200 Loss 0.2748\n",
            "Epoch 3 Batch 1300 Loss 0.2958\n",
            "Epoch 3 Batch 1400 Loss 0.3555\n",
            "Epoch 3 Batch 1500 Loss 0.3320\n",
            "Epoch 3 Batch 1600 Loss 0.3194\n",
            "Epoch 3 Batch 1700 Loss 0.3212\n",
            "Epoch 3 Batch 1800 Loss 0.3183\n",
            "Epoch 3 Batch 1900 Loss 0.3069\n",
            "Epoch 3 Batch 2000 Loss 0.3299\n",
            "Epoch 3 Batch 2100 Loss 0.2724\n",
            "Epoch 3 Batch 2200 Loss 0.2556\n",
            "Epoch 3 Batch 2300 Loss 0.3305\n",
            "Epoch 3 Batch 2400 Loss 0.3069\n",
            "Epoch 3 Loss 0.2949\n",
            "Time taken for 1 epoch 139.42845749855042 sec\n",
            "\n",
            "Epoch 4 Batch 0 Loss 0.1609\n",
            "Epoch 4 Batch 100 Loss 0.1245\n",
            "Epoch 4 Batch 200 Loss 0.1876\n",
            "Epoch 4 Batch 300 Loss 0.1602\n",
            "Epoch 4 Batch 400 Loss 0.1589\n",
            "Epoch 4 Batch 500 Loss 0.1713\n",
            "Epoch 4 Batch 600 Loss 0.2006\n",
            "Epoch 4 Batch 700 Loss 0.1559\n",
            "Epoch 4 Batch 800 Loss 0.1706\n",
            "Epoch 4 Batch 900 Loss 0.1653\n",
            "Epoch 4 Batch 1000 Loss 0.2114\n",
            "Epoch 4 Batch 1100 Loss 0.2086\n",
            "Epoch 4 Batch 1200 Loss 0.1910\n",
            "Epoch 4 Batch 1300 Loss 0.2577\n",
            "Epoch 4 Batch 1400 Loss 0.2252\n",
            "Epoch 4 Batch 1500 Loss 0.1717\n",
            "Epoch 4 Batch 1600 Loss 0.1899\n",
            "Epoch 4 Batch 1700 Loss 0.2112\n",
            "Epoch 4 Batch 1800 Loss 0.2079\n",
            "Epoch 4 Batch 1900 Loss 0.1699\n",
            "Epoch 4 Batch 2000 Loss 0.2080\n",
            "Epoch 4 Batch 2100 Loss 0.2025\n",
            "Epoch 4 Batch 2200 Loss 0.2689\n",
            "Epoch 4 Batch 2300 Loss 0.2058\n",
            "Epoch 4 Batch 2400 Loss 0.1669\n",
            "Epoch 4 Loss 0.1967\n",
            "Time taken for 1 epoch 139.5423538684845 sec\n",
            "\n",
            "Epoch 5 Batch 0 Loss 0.1341\n",
            "Epoch 5 Batch 100 Loss 0.1157\n",
            "Epoch 5 Batch 200 Loss 0.1262\n",
            "Epoch 5 Batch 300 Loss 0.1089\n",
            "Epoch 5 Batch 400 Loss 0.1084\n",
            "Epoch 5 Batch 500 Loss 0.1348\n",
            "Epoch 5 Batch 600 Loss 0.1414\n",
            "Epoch 5 Batch 700 Loss 0.1193\n",
            "Epoch 5 Batch 800 Loss 0.1127\n",
            "Epoch 5 Batch 900 Loss 0.1613\n",
            "Epoch 5 Batch 1000 Loss 0.1535\n",
            "Epoch 5 Batch 1100 Loss 0.1348\n",
            "Epoch 5 Batch 1200 Loss 0.1381\n",
            "Epoch 5 Batch 1300 Loss 0.1491\n",
            "Epoch 5 Batch 1400 Loss 0.1684\n",
            "Epoch 5 Batch 1500 Loss 0.1432\n",
            "Epoch 5 Batch 1600 Loss 0.1415\n",
            "Epoch 5 Batch 1700 Loss 0.1703\n",
            "Epoch 5 Batch 1800 Loss 0.1332\n",
            "Epoch 5 Batch 1900 Loss 0.1874\n",
            "Epoch 5 Batch 2000 Loss 0.2220\n",
            "Epoch 5 Batch 2100 Loss 0.1441\n",
            "Epoch 5 Batch 2200 Loss 0.1322\n",
            "Epoch 5 Batch 2300 Loss 0.1481\n",
            "Epoch 5 Batch 2400 Loss 0.1616\n",
            "Epoch 5 Loss 0.1497\n",
            "Time taken for 1 epoch 139.3838186264038 sec\n",
            "\n",
            "Epoch 6 Batch 0 Loss 0.0868\n",
            "Epoch 6 Batch 100 Loss 0.1029\n",
            "Epoch 6 Batch 200 Loss 0.0939\n",
            "Epoch 6 Batch 300 Loss 0.0813\n",
            "Epoch 6 Batch 400 Loss 0.1067\n",
            "Epoch 6 Batch 500 Loss 0.1042\n",
            "Epoch 6 Batch 600 Loss 0.0995\n",
            "Epoch 6 Batch 700 Loss 0.1156\n",
            "Epoch 6 Batch 800 Loss 0.1099\n",
            "Epoch 6 Batch 900 Loss 0.1205\n",
            "Epoch 6 Batch 1000 Loss 0.1231\n",
            "Epoch 6 Batch 1100 Loss 0.1348\n",
            "Epoch 6 Batch 1200 Loss 0.1393\n",
            "Epoch 6 Batch 1300 Loss 0.1982\n",
            "Epoch 6 Batch 1400 Loss 0.1367\n",
            "Epoch 6 Batch 1500 Loss 0.1148\n",
            "Epoch 6 Batch 1600 Loss 0.1561\n",
            "Epoch 6 Batch 1700 Loss 0.1148\n",
            "Epoch 6 Batch 1800 Loss 0.1206\n",
            "Epoch 6 Batch 1900 Loss 0.1432\n",
            "Epoch 6 Batch 2000 Loss 0.1266\n",
            "Epoch 6 Batch 2100 Loss 0.1373\n",
            "Epoch 6 Batch 2200 Loss 0.1223\n",
            "Epoch 6 Batch 2300 Loss 0.1044\n",
            "Epoch 6 Batch 2400 Loss 0.1318\n",
            "Epoch 6 Loss 0.1254\n",
            "Time taken for 1 epoch 139.4337341785431 sec\n",
            "\n",
            "Epoch 7 Batch 0 Loss 0.0710\n",
            "Epoch 7 Batch 100 Loss 0.0840\n",
            "Epoch 7 Batch 200 Loss 0.0877\n",
            "Epoch 7 Batch 300 Loss 0.1106\n",
            "Epoch 7 Batch 400 Loss 0.1072\n",
            "Epoch 7 Batch 500 Loss 0.0918\n",
            "Epoch 7 Batch 600 Loss 0.1028\n",
            "Epoch 7 Batch 700 Loss 0.0919\n",
            "Epoch 7 Batch 800 Loss 0.1492\n",
            "Epoch 7 Batch 900 Loss 0.1329\n",
            "Epoch 7 Batch 1000 Loss 0.1195\n",
            "Epoch 7 Batch 1100 Loss 0.0976\n",
            "Epoch 7 Batch 1200 Loss 0.0843\n",
            "Epoch 7 Batch 1300 Loss 0.1132\n",
            "Epoch 7 Batch 1400 Loss 0.1137\n",
            "Epoch 7 Batch 1500 Loss 0.1504\n",
            "Epoch 7 Batch 1600 Loss 0.1217\n",
            "Epoch 7 Batch 1700 Loss 0.1418\n",
            "Epoch 7 Batch 1800 Loss 0.1186\n",
            "Epoch 7 Batch 1900 Loss 0.1029\n",
            "Epoch 7 Batch 2000 Loss 0.1121\n",
            "Epoch 7 Batch 2100 Loss 0.1376\n",
            "Epoch 7 Batch 2200 Loss 0.1183\n",
            "Epoch 7 Batch 2300 Loss 0.0952\n",
            "Epoch 7 Batch 2400 Loss 0.1339\n",
            "Epoch 7 Loss 0.1115\n",
            "Time taken for 1 epoch 139.29764866828918 sec\n",
            "\n",
            "Epoch 8 Batch 0 Loss 0.0936\n",
            "Epoch 8 Batch 100 Loss 0.0910\n",
            "Epoch 8 Batch 200 Loss 0.0759\n",
            "Epoch 8 Batch 300 Loss 0.1217\n",
            "Epoch 8 Batch 400 Loss 0.1066\n",
            "Epoch 8 Batch 500 Loss 0.0703\n",
            "Epoch 8 Batch 600 Loss 0.1272\n",
            "Epoch 8 Batch 700 Loss 0.0742\n",
            "Epoch 8 Batch 800 Loss 0.1359\n",
            "Epoch 8 Batch 900 Loss 0.1084\n",
            "Epoch 8 Batch 1000 Loss 0.0817\n",
            "Epoch 8 Batch 1100 Loss 0.0937\n",
            "Epoch 8 Batch 1200 Loss 0.0992\n",
            "Epoch 8 Batch 1300 Loss 0.1321\n",
            "Epoch 8 Batch 1400 Loss 0.1502\n",
            "Epoch 8 Batch 1500 Loss 0.0943\n",
            "Epoch 8 Batch 1600 Loss 0.1197\n",
            "Epoch 8 Batch 1700 Loss 0.1084\n",
            "Epoch 8 Batch 1800 Loss 0.1220\n",
            "Epoch 8 Batch 1900 Loss 0.1044\n",
            "Epoch 8 Batch 2000 Loss 0.1679\n",
            "Epoch 8 Batch 2100 Loss 0.1076\n",
            "Epoch 8 Batch 2200 Loss 0.1027\n",
            "Epoch 8 Batch 2300 Loss 0.0833\n",
            "Epoch 8 Batch 2400 Loss 0.1251\n",
            "Epoch 8 Loss 0.1029\n",
            "Time taken for 1 epoch 139.4648735523224 sec\n",
            "\n",
            "Epoch 9 Batch 0 Loss 0.0472\n",
            "Epoch 9 Batch 100 Loss 0.0872\n",
            "Epoch 9 Batch 200 Loss 0.0934\n",
            "Epoch 9 Batch 300 Loss 0.0628\n",
            "Epoch 9 Batch 400 Loss 0.0634\n",
            "Epoch 9 Batch 500 Loss 0.1517\n",
            "Epoch 9 Batch 600 Loss 0.0497\n",
            "Epoch 9 Batch 700 Loss 0.1208\n",
            "Epoch 9 Batch 800 Loss 0.0735\n",
            "Epoch 9 Batch 900 Loss 0.0971\n",
            "Epoch 9 Batch 1000 Loss 0.0623\n",
            "Epoch 9 Batch 1100 Loss 0.0848\n",
            "Epoch 9 Batch 1200 Loss 0.0683\n",
            "Epoch 9 Batch 1300 Loss 0.0793\n",
            "Epoch 9 Batch 1400 Loss 0.1013\n",
            "Epoch 9 Batch 1500 Loss 0.1215\n",
            "Epoch 9 Batch 1600 Loss 0.1605\n",
            "Epoch 9 Batch 1700 Loss 0.0971\n",
            "Epoch 9 Batch 1800 Loss 0.1510\n",
            "Epoch 9 Batch 1900 Loss 0.0731\n",
            "Epoch 9 Batch 2000 Loss 0.1603\n",
            "Epoch 9 Batch 2100 Loss 0.0877\n",
            "Epoch 9 Batch 2200 Loss 0.1251\n",
            "Epoch 9 Batch 2300 Loss 0.1157\n",
            "Epoch 9 Batch 2400 Loss 0.0802\n",
            "Epoch 9 Loss 0.0971\n",
            "Time taken for 1 epoch 139.5033257007599 sec\n",
            "\n",
            "Epoch 10 Batch 0 Loss 0.0762\n",
            "Epoch 10 Batch 100 Loss 0.0852\n",
            "Epoch 10 Batch 200 Loss 0.0748\n",
            "Epoch 10 Batch 300 Loss 0.0817\n",
            "Epoch 10 Batch 400 Loss 0.0585\n",
            "Epoch 10 Batch 500 Loss 0.0986\n",
            "Epoch 10 Batch 600 Loss 0.1112\n",
            "Epoch 10 Batch 700 Loss 0.1106\n",
            "Epoch 10 Batch 800 Loss 0.0766\n",
            "Epoch 10 Batch 900 Loss 0.0772\n",
            "Epoch 10 Batch 1000 Loss 0.0627\n",
            "Epoch 10 Batch 1100 Loss 0.1223\n",
            "Epoch 10 Batch 1200 Loss 0.1180\n",
            "Epoch 10 Batch 1300 Loss 0.1306\n",
            "Epoch 10 Batch 1400 Loss 0.0943\n",
            "Epoch 10 Batch 1500 Loss 0.1081\n",
            "Epoch 10 Batch 1600 Loss 0.0705\n",
            "Epoch 10 Batch 1700 Loss 0.1065\n",
            "Epoch 10 Batch 1800 Loss 0.1323\n",
            "Epoch 10 Batch 1900 Loss 0.1105\n",
            "Epoch 10 Batch 2000 Loss 0.1092\n",
            "Epoch 10 Batch 2100 Loss 0.0872\n",
            "Epoch 10 Batch 2200 Loss 0.0920\n",
            "Epoch 10 Batch 2300 Loss 0.1236\n",
            "Epoch 10 Batch 2400 Loss 0.1388\n",
            "Epoch 10 Loss 0.0925\n",
            "Time taken for 1 epoch 139.53623938560486 sec\n",
            "\n"
          ]
        }
      ],
      "source": [
        "steps_per_epoch = len(ru_tensor_train)//BATCH_SIZE\n",
        "\n",
        "for epoch in range(EPOCHS):\n",
        "    start_time = time()\n",
        "\n",
        "    enc_hidden = encoder.initialize_hidden_state()\n",
        "    total_loss = 0\n",
        "    \n",
        "    for (batch, (inp, targ)) in enumerate(dataset.take(steps_per_epoch)):\n",
        "        batch_loss = train_step(inp, targ, enc_hidden)\n",
        "        total_loss += batch_loss\n",
        "        \n",
        "        if batch % 100 == 0:\n",
        "            print('Epoch {} Batch {} Loss {:.4f}'.format(epoch + 1,\n",
        "                                                         batch,\n",
        "                                                         batch_loss.numpy()))\n",
        "        \n",
        "    print('Epoch {} Loss {:.4f}'.format(epoch + 1, total_loss / steps_per_epoch))\n",
        "    print('Time taken for 1 epoch {} sec\\n'.format(time() - start_time))"
      ]
    },
    {
      "cell_type": "code",
      "execution_count": 33,
      "id": "a76f6bc8",
      "metadata": {
        "id": "a76f6bc8"
      },
      "outputs": [],
      "source": [
        "ru_max_len = ru_tensor.shape[1]\n",
        "en_max_len = en_tensor.shape[1]\n",
        "\n",
        "def translate(sentence):\n",
        "    sentence = preprocess(sentence)\n",
        "    inputs = [ru_tokenizer.word_index[i] for i in sentence.split(' ')]\n",
        "    inputs = pad_sequences([inputs],\n",
        "                            maxlen=ru_max_len,\n",
        "                            padding='post')\n",
        "\n",
        "    inputs = tf.convert_to_tensor(inputs)\n",
        "\n",
        "    result = ''\n",
        "    hidden = [tf.zeros((1, UNITS))]\n",
        "    enc_hidden = encoder(inputs, hidden)\n",
        "    dec_hidden = enc_hidden\n",
        "    dec_input = tf.expand_dims([en_tokenizer.word_index['<start>']], 0)\n",
        "\n",
        "    for t in range(en_max_len):\n",
        "        predictions, dec_hidden = decoder(dec_input, dec_hidden)\n",
        "        predicted_id = tf.argmax(predictions[0]).numpy()\n",
        "        if en_tokenizer.index_word[predicted_id] == '<end>':\n",
        "            return result, sentence\n",
        "\n",
        "        result += en_tokenizer.index_word[predicted_id] + ' '\n",
        "        dec_input = tf.expand_dims([predicted_id], 0)\n",
        "\n",
        "    return result, sentence"
      ]
    },
    {
      "cell_type": "code",
      "source": [
        "print(translate('Я смогу пойти с тобой.')[0])"
      ],
      "metadata": {
        "colab": {
          "base_uri": "https://localhost:8080/"
        },
        "id": "1Q0kZML__25v",
        "outputId": "c5c3dba0-e3e2-446c-c873-3b0b75ac690c"
      },
      "id": "1Q0kZML__25v",
      "execution_count": 34,
      "outputs": [
        {
          "output_type": "stream",
          "name": "stdout",
          "text": [
            "i'll go with you . \n"
          ]
        }
      ]
    },
    {
      "cell_type": "code",
      "source": [
        "print(translate('Я не смогу пойти с тобой.')[0])\n"
      ],
      "metadata": {
        "colab": {
          "base_uri": "https://localhost:8080/"
        },
        "id": "JWlRwaTLBWg9",
        "outputId": "c2a4ee9c-0341-4e07-9ab2-91ea63120b65"
      },
      "id": "JWlRwaTLBWg9",
      "execution_count": 35,
      "outputs": [
        {
          "output_type": "stream",
          "name": "stdout",
          "text": [
            "i can't go with you . \n"
          ]
        }
      ]
    },
    {
      "cell_type": "code",
      "source": [
        "print(translate('Эта домашняя работа очень долго издеваться надо мной!')[0]) # издеваться -> в словаре небыло слова издевалась"
      ],
      "metadata": {
        "colab": {
          "base_uri": "https://localhost:8080/"
        },
        "id": "6WUQ4ZEBBfuw",
        "outputId": "f7cb650c-db22-41fc-885c-ecda642aecbb"
      },
      "id": "6WUQ4ZEBBfuw",
      "execution_count": 36,
      "outputs": [
        {
          "output_type": "stream",
          "name": "stdout",
          "text": [
            "this day flows to do . \n"
          ]
        }
      ]
    },
    {
      "cell_type": "markdown",
      "source": [
        "Звучит как троллинг"
      ],
      "metadata": {
        "id": "PCF3xvfVLSD1"
      },
      "id": "PCF3xvfVLSD1"
    },
    {
      "cell_type": "code",
      "source": [
        "print(translate('Холодно ли на улице?')[0])"
      ],
      "metadata": {
        "colab": {
          "base_uri": "https://localhost:8080/"
        },
        "id": "7iTMs0DyCRMx",
        "outputId": "0e2be6eb-0f2d-44b9-f225-86194710c1f6"
      },
      "id": "7iTMs0DyCRMx",
      "execution_count": 37,
      "outputs": [
        {
          "output_type": "stream",
          "name": "stdout",
          "text": [
            "is it cold outside ? \n"
          ]
        }
      ]
    },
    {
      "cell_type": "code",
      "source": [
        "print(translate('На улице холодно!')[0])\n",
        "print(translate('На улице холодно?')[0])"
      ],
      "metadata": {
        "colab": {
          "base_uri": "https://localhost:8080/"
        },
        "id": "TNV6H9ZlK9EZ",
        "outputId": "c0d7e4c4-6f65-4902-db5d-3898ccf05bb4"
      },
      "id": "TNV6H9ZlK9EZ",
      "execution_count": 38,
      "outputs": [
        {
          "output_type": "stream",
          "name": "stdout",
          "text": [
            "it's cold outside . \n",
            "is it cold outside ? \n"
          ]
        }
      ]
    },
    {
      "cell_type": "code",
      "source": [
        "print(translate('На твоём месте я бы не пошел туда')[0])"
      ],
      "metadata": {
        "colab": {
          "base_uri": "https://localhost:8080/"
        },
        "id": "DuEqZsD5LubB",
        "outputId": "730e697b-7282-4399-e89e-4750dabb342f"
      },
      "id": "DuEqZsD5LubB",
      "execution_count": 39,
      "outputs": [
        {
          "output_type": "stream",
          "name": "stdout",
          "text": [
            "i'd go if i were up there . \n"
          ]
        }
      ]
    }
  ],
  "metadata": {
    "kernelspec": {
      "display_name": "Python 3",
      "name": "python3"
    },
    "language_info": {
      "codemirror_mode": {
        "name": "ipython",
        "version": 3
      },
      "file_extension": ".py",
      "mimetype": "text/x-python",
      "name": "python",
      "nbconvert_exporter": "python",
      "pygments_lexer": "ipython3",
      "version": "3.9.13"
    },
    "colab": {
      "provenance": [],
      "gpuType": "T4"
    },
    "accelerator": "GPU"
  },
  "nbformat": 4,
  "nbformat_minor": 5
}