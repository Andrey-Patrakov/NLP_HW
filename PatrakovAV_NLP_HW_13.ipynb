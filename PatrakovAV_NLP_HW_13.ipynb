{
 "cells": [
  {
   "cell_type": "markdown",
   "id": "22e6958a",
   "metadata": {},
   "source": [
    "# С помощью бертов решить задачу классификации"
   ]
  },
  {
   "cell_type": "markdown",
   "id": "dd7e2d4e",
   "metadata": {
    "id": "dd7e2d4e"
   },
   "source": [
    "## Импорты"
   ]
  },
  {
   "cell_type": "code",
   "execution_count": 1,
   "id": "8c183321",
   "metadata": {
    "id": "8c183321"
   },
   "outputs": [
    {
     "name": "stdout",
     "output_type": "stream",
     "text": [
      "0) Radeon RX 590 Series\n"
     ]
    }
   ],
   "source": [
    "import numpy as np\n",
    "import pandas as pd\n",
    "\n",
    "import torch\n",
    "import torch_directml\n",
    "from torch import argmax\n",
    "from torch.nn.functional import softmax\n",
    "from transformers import BertTokenizerFast, AutoModelForSequenceClassification\n",
    "\n",
    "for i in range(torch_directml.device_count()):\n",
    "    print(f'{i}) {torch_directml.device_name(i)}')"
   ]
  },
  {
   "cell_type": "markdown",
   "id": "f2dce9f4",
   "metadata": {
    "id": "f2dce9f4"
   },
   "source": [
    "## Настройки"
   ]
  },
  {
   "cell_type": "code",
   "execution_count": 2,
   "id": "f845b2bd",
   "metadata": {
    "id": "f845b2bd"
   },
   "outputs": [],
   "source": [
    "DEVICE = 0\n",
    "MODEL = 'blanchefort/rubert-base-cased-sentiment'\n",
    "\n",
    "device = 'cpu'\n",
    "if type(DEVICE) is int:\n",
    "    device = torch_directml.device(DEVICE)\n",
    "else:\n",
    "    device = DEVICE"
   ]
  },
  {
   "cell_type": "markdown",
   "id": "3a528df6",
   "metadata": {},
   "source": [
    "## Модель"
   ]
  },
  {
   "cell_type": "code",
   "execution_count": 3,
   "id": "63dc3290",
   "metadata": {},
   "outputs": [],
   "source": [
    "class SentimentClassifier:\n",
    "    CALSSES = ['Нейтральный', 'Позитивный', 'Негативный']\n",
    "    \n",
    "    def __init__(self, model, device='cpu'):\n",
    "        self._tokenizer = BertTokenizerFast.from_pretrained(model)\n",
    "        self._model = AutoModelForSequenceClassification.from_pretrained(model)\n",
    "        self.to(device)\n",
    "    \n",
    "    @torch.no_grad()\n",
    "    def predict(self, text, aggregate=True):\n",
    "        inputs = self._tokenizer(text,\n",
    "                                 max_length=512,\n",
    "                                 padding=True,\n",
    "                                 truncation=True,\n",
    "                                 return_tensors='pt')\n",
    "\n",
    "        inputs = inputs.to(self._device)\n",
    "        outputs = self._model(**inputs)\n",
    "        predicted = softmax(outputs.logits, dim=1)\n",
    "        predicted = argmax(predicted, dim=1).to('cpu').numpy()\n",
    "        \n",
    "        if aggregate:\n",
    "            try:\n",
    "                return self.CALSSES[predicted[0]]\n",
    "            except:\n",
    "                return 'Ошибка определения класса!'\n",
    "        \n",
    "        return predicted\n",
    "    \n",
    "    def to(self, device):\n",
    "        self._model = self._model.to(device)\n",
    "        self._device = device\n",
    "\n",
    "classifier = SentimentClassifier(MODEL, device=device)"
   ]
  },
  {
   "cell_type": "code",
   "execution_count": 4,
   "id": "8eb17f8c",
   "metadata": {},
   "outputs": [
    {
     "name": "stdout",
     "output_type": "stream",
     "text": [
      "Позитивный\n"
     ]
    }
   ],
   "source": [
    "print(classifier.predict('Я обожаю тяжелую музыку!'))"
   ]
  },
  {
   "cell_type": "code",
   "execution_count": 5,
   "id": "7f2ff455",
   "metadata": {},
   "outputs": [
    {
     "name": "stdout",
     "output_type": "stream",
     "text": [
      "Негативный\n"
     ]
    }
   ],
   "source": [
    "print(classifier.predict('Прекрасный пример полного отсутствия мозга.'))"
   ]
  },
  {
   "cell_type": "code",
   "execution_count": 6,
   "id": "bf18f16a",
   "metadata": {},
   "outputs": [
    {
     "name": "stdout",
     "output_type": "stream",
     "text": [
      "Нейтральный\n"
     ]
    }
   ],
   "source": [
    "print(classifier.predict('Скоро мы будем делать чат бота.'))"
   ]
  }
 ],
 "metadata": {
  "accelerator": "GPU",
  "colab": {
   "gpuType": "T4",
   "provenance": []
  },
  "kernelspec": {
   "display_name": "Python 3 (ipykernel)",
   "language": "python",
   "name": "python3"
  },
  "language_info": {
   "codemirror_mode": {
    "name": "ipython",
    "version": 3
   },
   "file_extension": ".py",
   "mimetype": "text/x-python",
   "name": "python",
   "nbconvert_exporter": "python",
   "pygments_lexer": "ipython3",
   "version": "3.9.13"
  }
 },
 "nbformat": 4,
 "nbformat_minor": 5
}
