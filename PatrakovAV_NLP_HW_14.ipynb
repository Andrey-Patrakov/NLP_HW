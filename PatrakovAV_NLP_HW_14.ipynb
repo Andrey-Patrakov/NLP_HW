{
  "cells": [
    {
      "cell_type": "code",
      "source": [
        "!pip install datasets evaluate transformers corus razdel seqeval transformers[torch] --quiet\n",
        "!pip install accelerate -U --quiet"
      ],
      "metadata": {
        "id": "khiuGHjSg5lh"
      },
      "id": "khiuGHjSg5lh",
      "execution_count": 1,
      "outputs": []
    },
    {
      "cell_type": "markdown",
      "id": "22e6958a",
      "metadata": {
        "id": "22e6958a"
      },
      "source": [
        "# **Задание**\n",
        "1.  Дообучить берт на задачу NER\n",
        "2.  Дообучить GPT на генерацию текста\n",
        "3. *Дообучить T5 на задачу суммаризации текста\n"
      ]
    },
    {
      "cell_type": "markdown",
      "id": "dd7e2d4e",
      "metadata": {
        "id": "dd7e2d4e"
      },
      "source": [
        "## Импорты"
      ]
    },
    {
      "cell_type": "code",
      "execution_count": 26,
      "id": "8c183321",
      "metadata": {
        "id": "8c183321"
      },
      "outputs": [],
      "source": [
        "import numpy as np\n",
        "import pandas as pd\n",
        "import re\n",
        "\n",
        "import torch\n",
        "from datasets import Dataset, DatasetDict, load_dataset\n",
        "from evaluate import load as load_metric\n",
        "\n",
        "from transformers import AutoTokenizer\n",
        "from transformers import TrainingArguments, Trainer\n",
        "from transformers import AutoModelForTokenClassification, AutoModelForCausalLM, T5ForConditionalGeneration\n",
        "from transformers import DataCollatorForTokenClassification\n",
        "from transformers import TextDataset, DataCollatorForLanguageModeling\n",
        "\n",
        "from corus import load_rudrec\n",
        "from razdel import tokenize\n",
        "\n",
        "from sklearn.model_selection import train_test_split"
      ]
    },
    {
      "cell_type": "markdown",
      "id": "f2dce9f4",
      "metadata": {
        "id": "f2dce9f4"
      },
      "source": [
        "## Настройки"
      ]
    },
    {
      "cell_type": "code",
      "execution_count": 3,
      "id": "f845b2bd",
      "metadata": {
        "id": "f845b2bd"
      },
      "outputs": [],
      "source": [
        "BERT_MODEL = 'cointegrated/rubert-tiny'\n",
        "BERT_DATA = './data/rudrec_annotated.json'\n",
        "BERT_BATCH_SIZE = 16\n",
        "BERT_EPOCHS = 10\n",
        "\n",
        "GPT_MODEL = 'sberbank-ai/rugpt3small_based_on_gpt2'\n",
        "GPT_DATA = './data/all_recepies_inter.csv'\n",
        "GPT_BATCH_SIZE = 16\n",
        "GPT_EPOCHS = 3\n",
        "\n",
        "T5_MODEL = 'IlyaGusev/rut5_base_sum_gazeta'\n",
        "T5_DATA = 'IlyaGusev/gazeta'\n",
        "T5_BATCH_SIZE = 16\n",
        "T5_EPOCHS = 5\n",
        "\n",
        "device = 'cuda'"
      ]
    },
    {
      "cell_type": "markdown",
      "id": "3a528df6",
      "metadata": {
        "id": "3a528df6"
      },
      "source": [
        "## 1. Дообучить берт на задачу NER"
      ]
    },
    {
      "cell_type": "markdown",
      "id": "2b3a695d",
      "metadata": {
        "id": "2b3a695d"
      },
      "source": [
        "### Данные"
      ]
    },
    {
      "cell_type": "code",
      "execution_count": 4,
      "id": "808e4101",
      "metadata": {
        "id": "808e4101"
      },
      "outputs": [],
      "source": [
        "def extract_labels(item):\n",
        "    raw_toks = list(tokenize(item.text))\n",
        "    words = [tok.text for tok in raw_toks]\n",
        "    word_labels = ['O'] * len(raw_toks)\n",
        "    char2word = [None] * len(item.text)\n",
        "    for i, word in enumerate(raw_toks):\n",
        "        char2word[word.start:word.stop] = [i] * len(word.text)\n",
        "\n",
        "    for e in item.entities:\n",
        "        e_words = sorted({idx for idx in char2word[e.start:e.end] if idx is not None})\n",
        "        word_labels[e_words[0]] = 'B-' + e.entity_type\n",
        "        for idx in e_words[1:]:\n",
        "            word_labels[idx] = 'I-' + e.entity_type\n",
        "\n",
        "    return {'tokens': words, 'tags': word_labels}"
      ]
    },
    {
      "cell_type": "code",
      "execution_count": 5,
      "id": "fcac8148",
      "metadata": {
        "colab": {
          "base_uri": "https://localhost:8080/",
          "height": 206
        },
        "id": "fcac8148",
        "outputId": "3837c344-5d06-4b82-b97d-a8da91fbab5c"
      },
      "outputs": [
        {
          "output_type": "execute_result",
          "data": {
            "text/plain": [
              "                                              tokens  \\\n",
              "0                [Время, использования, :, 1-2, дня]   \n",
              "1  [Но, сколько, раз, мы, ни, покупали, его, ,, я...   \n",
              "2    [Успела, пропить, две, таблетки, ингавирина, .]   \n",
              "3  [Если, принимать, таблетки, точно, следуя, инс...   \n",
              "4    [Общее, впечатление, :, Лучше, не, употреблять]   \n",
              "\n",
              "                                                tags  \n",
              "0                                    [O, O, O, O, O]  \n",
              "1  [O, O, O, O, O, O, O, O, O, O, O, O, O, O, O, ...  \n",
              "2               [O, O, O, B-Drugform, B-Drugname, O]  \n",
              "3  [O, O, B-Drugform, O, O, O, O, O, O, O, O, O, ...  \n",
              "4                                 [O, O, O, O, O, O]  "
            ],
            "text/html": [
              "\n",
              "  <div id=\"df-270fab0f-8411-4173-8e80-fe8e1578d9d7\">\n",
              "    <div class=\"colab-df-container\">\n",
              "      <div>\n",
              "<style scoped>\n",
              "    .dataframe tbody tr th:only-of-type {\n",
              "        vertical-align: middle;\n",
              "    }\n",
              "\n",
              "    .dataframe tbody tr th {\n",
              "        vertical-align: top;\n",
              "    }\n",
              "\n",
              "    .dataframe thead th {\n",
              "        text-align: right;\n",
              "    }\n",
              "</style>\n",
              "<table border=\"1\" class=\"dataframe\">\n",
              "  <thead>\n",
              "    <tr style=\"text-align: right;\">\n",
              "      <th></th>\n",
              "      <th>tokens</th>\n",
              "      <th>tags</th>\n",
              "    </tr>\n",
              "  </thead>\n",
              "  <tbody>\n",
              "    <tr>\n",
              "      <th>0</th>\n",
              "      <td>[Время, использования, :, 1-2, дня]</td>\n",
              "      <td>[O, O, O, O, O]</td>\n",
              "    </tr>\n",
              "    <tr>\n",
              "      <th>1</th>\n",
              "      <td>[Но, сколько, раз, мы, ни, покупали, его, ,, я...</td>\n",
              "      <td>[O, O, O, O, O, O, O, O, O, O, O, O, O, O, O, ...</td>\n",
              "    </tr>\n",
              "    <tr>\n",
              "      <th>2</th>\n",
              "      <td>[Успела, пропить, две, таблетки, ингавирина, .]</td>\n",
              "      <td>[O, O, O, B-Drugform, B-Drugname, O]</td>\n",
              "    </tr>\n",
              "    <tr>\n",
              "      <th>3</th>\n",
              "      <td>[Если, принимать, таблетки, точно, следуя, инс...</td>\n",
              "      <td>[O, O, B-Drugform, O, O, O, O, O, O, O, O, O, ...</td>\n",
              "    </tr>\n",
              "    <tr>\n",
              "      <th>4</th>\n",
              "      <td>[Общее, впечатление, :, Лучше, не, употреблять]</td>\n",
              "      <td>[O, O, O, O, O, O]</td>\n",
              "    </tr>\n",
              "  </tbody>\n",
              "</table>\n",
              "</div>\n",
              "      <button class=\"colab-df-convert\" onclick=\"convertToInteractive('df-270fab0f-8411-4173-8e80-fe8e1578d9d7')\"\n",
              "              title=\"Convert this dataframe to an interactive table.\"\n",
              "              style=\"display:none;\">\n",
              "        \n",
              "  <svg xmlns=\"http://www.w3.org/2000/svg\" height=\"24px\"viewBox=\"0 0 24 24\"\n",
              "       width=\"24px\">\n",
              "    <path d=\"M0 0h24v24H0V0z\" fill=\"none\"/>\n",
              "    <path d=\"M18.56 5.44l.94 2.06.94-2.06 2.06-.94-2.06-.94-.94-2.06-.94 2.06-2.06.94zm-11 1L8.5 8.5l.94-2.06 2.06-.94-2.06-.94L8.5 2.5l-.94 2.06-2.06.94zm10 10l.94 2.06.94-2.06 2.06-.94-2.06-.94-.94-2.06-.94 2.06-2.06.94z\"/><path d=\"M17.41 7.96l-1.37-1.37c-.4-.4-.92-.59-1.43-.59-.52 0-1.04.2-1.43.59L10.3 9.45l-7.72 7.72c-.78.78-.78 2.05 0 2.83L4 21.41c.39.39.9.59 1.41.59.51 0 1.02-.2 1.41-.59l7.78-7.78 2.81-2.81c.8-.78.8-2.07 0-2.86zM5.41 20L4 18.59l7.72-7.72 1.47 1.35L5.41 20z\"/>\n",
              "  </svg>\n",
              "      </button>\n",
              "      \n",
              "  <style>\n",
              "    .colab-df-container {\n",
              "      display:flex;\n",
              "      flex-wrap:wrap;\n",
              "      gap: 12px;\n",
              "    }\n",
              "\n",
              "    .colab-df-convert {\n",
              "      background-color: #E8F0FE;\n",
              "      border: none;\n",
              "      border-radius: 50%;\n",
              "      cursor: pointer;\n",
              "      display: none;\n",
              "      fill: #1967D2;\n",
              "      height: 32px;\n",
              "      padding: 0 0 0 0;\n",
              "      width: 32px;\n",
              "    }\n",
              "\n",
              "    .colab-df-convert:hover {\n",
              "      background-color: #E2EBFA;\n",
              "      box-shadow: 0px 1px 2px rgba(60, 64, 67, 0.3), 0px 1px 3px 1px rgba(60, 64, 67, 0.15);\n",
              "      fill: #174EA6;\n",
              "    }\n",
              "\n",
              "    [theme=dark] .colab-df-convert {\n",
              "      background-color: #3B4455;\n",
              "      fill: #D2E3FC;\n",
              "    }\n",
              "\n",
              "    [theme=dark] .colab-df-convert:hover {\n",
              "      background-color: #434B5C;\n",
              "      box-shadow: 0px 1px 3px 1px rgba(0, 0, 0, 0.15);\n",
              "      filter: drop-shadow(0px 1px 2px rgba(0, 0, 0, 0.3));\n",
              "      fill: #FFFFFF;\n",
              "    }\n",
              "  </style>\n",
              "\n",
              "      <script>\n",
              "        const buttonEl =\n",
              "          document.querySelector('#df-270fab0f-8411-4173-8e80-fe8e1578d9d7 button.colab-df-convert');\n",
              "        buttonEl.style.display =\n",
              "          google.colab.kernel.accessAllowed ? 'block' : 'none';\n",
              "\n",
              "        async function convertToInteractive(key) {\n",
              "          const element = document.querySelector('#df-270fab0f-8411-4173-8e80-fe8e1578d9d7');\n",
              "          const dataTable =\n",
              "            await google.colab.kernel.invokeFunction('convertToInteractive',\n",
              "                                                     [key], {});\n",
              "          if (!dataTable) return;\n",
              "\n",
              "          const docLinkHtml = 'Like what you see? Visit the ' +\n",
              "            '<a target=\"_blank\" href=https://colab.research.google.com/notebooks/data_table.ipynb>data table notebook</a>'\n",
              "            + ' to learn more about interactive tables.';\n",
              "          element.innerHTML = '';\n",
              "          dataTable['output_type'] = 'display_data';\n",
              "          await google.colab.output.renderOutput(dataTable, element);\n",
              "          const docLink = document.createElement('div');\n",
              "          docLink.innerHTML = docLinkHtml;\n",
              "          element.appendChild(docLink);\n",
              "        }\n",
              "      </script>\n",
              "    </div>\n",
              "  </div>\n",
              "  "
            ]
          },
          "metadata": {},
          "execution_count": 5
        }
      ],
      "source": [
        "data = [extract_labels(item) for item in list(load_rudrec(BERT_DATA))]\n",
        "\n",
        "data_train, data_test = train_test_split(data, test_size=0.1)\n",
        "pd.DataFrame(data_train).head()"
      ]
    },
    {
      "cell_type": "code",
      "execution_count": 6,
      "id": "7bfe39f2",
      "metadata": {
        "colab": {
          "base_uri": "https://localhost:8080/"
        },
        "id": "7bfe39f2",
        "outputId": "18d4b919-f258-4841-8296-7d637d5ee8e4"
      },
      "outputs": [
        {
          "output_type": "execute_result",
          "data": {
            "text/plain": [
              "['O',\n",
              " 'B-ADR',\n",
              " 'B-DI',\n",
              " 'B-Drugclass',\n",
              " 'B-Drugform',\n",
              " 'B-Drugname',\n",
              " 'B-Finding',\n",
              " 'I-ADR',\n",
              " 'I-DI',\n",
              " 'I-Drugclass',\n",
              " 'I-Drugform',\n",
              " 'I-Drugname',\n",
              " 'I-Finding']"
            ]
          },
          "metadata": {},
          "execution_count": 6
        }
      ],
      "source": [
        "label_list = sorted({label for item in data_train for label in item['tags']})\n",
        "if 'O' in label_list:\n",
        "    label_list.remove('O')\n",
        "    label_list = ['O'] + label_list\n",
        "\n",
        "label_list"
      ]
    },
    {
      "cell_type": "code",
      "execution_count": 7,
      "id": "bc4f1cc2",
      "metadata": {
        "id": "bc4f1cc2"
      },
      "outputs": [],
      "source": [
        "tokenizer = AutoTokenizer.from_pretrained(BERT_MODEL)\n",
        "\n",
        "def tokenize(examples, label_all_tokens=True):\n",
        "    tokenized_inputs = tokenizer(examples[\"tokens\"],\n",
        "                                 truncation=True,\n",
        "                                 padding=True,\n",
        "                                 is_split_into_words=True)\n",
        "\n",
        "    labels = []\n",
        "    for i, label in enumerate(examples['tags']):\n",
        "        word_ids = tokenized_inputs.word_ids(batch_index=i)\n",
        "        previous_word_idx = None\n",
        "        label_ids = []\n",
        "        for word_idx in word_ids:\n",
        "            if word_idx is None:\n",
        "                label_ids.append(-100)\n",
        "            elif word_idx != previous_word_idx:\n",
        "                label_ids.append(label[word_idx])\n",
        "            else:\n",
        "                label_ids.append(label[word_idx] if label_all_tokens else -100)\n",
        "            previous_word_idx = word_idx\n",
        "\n",
        "        label_ids = [label_list.index(idx) if isinstance(idx, str) else idx for idx in label_ids]\n",
        "\n",
        "        labels.append(label_ids)\n",
        "\n",
        "    tokenized_inputs[\"labels\"] = labels\n",
        "    return tokenized_inputs"
      ]
    },
    {
      "cell_type": "code",
      "execution_count": 8,
      "id": "672c2bd2",
      "metadata": {
        "colab": {
          "base_uri": "https://localhost:8080/",
          "height": 17,
          "referenced_widgets": [
            "c3853dbe547e4f028048beb92bdd9274",
            "d9f0e7bfceba44f289df07803fc5ed2e",
            "e11c3b861f554eadbbcdeeb46a6bea26",
            "77bcb7d990664281adb860858244d747",
            "3bcca78b01484b5eaaeeb8837efbb830",
            "4d6f57458b4748b8aee382e1779d72b4",
            "788a480492414c1385fa8edac6c2c63b",
            "ad561ce502954d81ad12a0c40eed4ba4",
            "6ed42ffc2c0d4938bb521a827fcfc560",
            "1faf556ecfe64c36bb6fc0ce42daccb8",
            "dd00801c61f94f5cbf8502e8f2208011",
            "9143b7872ed548799f11e5ba505dcf45",
            "be8ac0e80701463ca281893ad0d357d5",
            "1f65d3e26eec4301a200c30530c54de0",
            "969373108b86447b95544c14d52cbcde",
            "7d7065c0a9074a9893c4141017ffcb8e",
            "4085847e780e41128c25344d0d5b72a4",
            "351f559e946d43439b0c49f11d5419a9",
            "d01f3332189649f0afff8b8e9c12b5cc",
            "760708445c314d648c2c8be58606f5fb",
            "77e59bea6c3b4f23b97b6b06472470b0",
            "769b07031d30465e9011abf1441b4af9"
          ]
        },
        "id": "672c2bd2",
        "outputId": "9309cf36-60e7-4440-d10f-ed16efb956fa"
      },
      "outputs": [
        {
          "output_type": "display_data",
          "data": {
            "text/plain": [
              "Map:   0%|          | 0/4328 [00:00<?, ? examples/s]"
            ],
            "application/vnd.jupyter.widget-view+json": {
              "version_major": 2,
              "version_minor": 0,
              "model_id": "c3853dbe547e4f028048beb92bdd9274"
            }
          },
          "metadata": {}
        },
        {
          "output_type": "display_data",
          "data": {
            "text/plain": [
              "Map:   0%|          | 0/481 [00:00<?, ? examples/s]"
            ],
            "application/vnd.jupyter.widget-view+json": {
              "version_major": 2,
              "version_minor": 0,
              "model_id": "9143b7872ed548799f11e5ba505dcf45"
            }
          },
          "metadata": {}
        }
      ],
      "source": [
        "ner_data = DatasetDict({\n",
        "    'train': Dataset.from_pandas(pd.DataFrame(data_train)),\n",
        "    'test': Dataset.from_pandas(pd.DataFrame(data_test))\n",
        "})\n",
        "tokenized_data = ner_data.map(tokenize, batched=True)"
      ]
    },
    {
      "cell_type": "markdown",
      "id": "29699c31",
      "metadata": {
        "id": "29699c31"
      },
      "source": [
        "### Модель"
      ]
    },
    {
      "cell_type": "code",
      "execution_count": 9,
      "id": "060c883b",
      "metadata": {
        "colab": {
          "base_uri": "https://localhost:8080/"
        },
        "id": "060c883b",
        "outputId": "bf5e7abf-1197-4210-9a92-0209e6814e0c"
      },
      "outputs": [
        {
          "output_type": "stream",
          "name": "stderr",
          "text": [
            "Some weights of the model checkpoint at cointegrated/rubert-tiny were not used when initializing BertForTokenClassification: ['cls.seq_relationship.bias', 'cls.predictions.transform.dense.bias', 'cls.predictions.transform.LayerNorm.bias', 'cls.seq_relationship.weight', 'cls.predictions.bias', 'cls.predictions.transform.dense.weight', 'cls.predictions.transform.LayerNorm.weight']\n",
            "- This IS expected if you are initializing BertForTokenClassification from the checkpoint of a model trained on another task or with another architecture (e.g. initializing a BertForSequenceClassification model from a BertForPreTraining model).\n",
            "- This IS NOT expected if you are initializing BertForTokenClassification from the checkpoint of a model that you expect to be exactly identical (initializing a BertForSequenceClassification model from a BertForSequenceClassification model).\n",
            "Some weights of BertForTokenClassification were not initialized from the model checkpoint at cointegrated/rubert-tiny and are newly initialized: ['classifier.weight', 'classifier.bias']\n",
            "You should probably TRAIN this model on a down-stream task to be able to use it for predictions and inference.\n"
          ]
        }
      ],
      "source": [
        "model = AutoModelForTokenClassification.from_pretrained(BERT_MODEL, num_labels=len(label_list))\n",
        "model.config.id2label = dict(enumerate(label_list))\n",
        "model.config.label2id = {v: k for k, v in model.config.id2label.items()}"
      ]
    },
    {
      "cell_type": "code",
      "execution_count": 10,
      "id": "963f2eb0",
      "metadata": {
        "id": "963f2eb0"
      },
      "outputs": [],
      "source": [
        "for param in model.parameters():\n",
        "    param.requires_grad = True"
      ]
    },
    {
      "cell_type": "code",
      "execution_count": 11,
      "id": "d05974bc",
      "metadata": {
        "id": "d05974bc"
      },
      "outputs": [],
      "source": [
        "metric = load_metric(\"seqeval\")\n",
        "def compute_metrics(p):\n",
        "    predictions, labels = p\n",
        "    predictions = np.argmax(predictions, axis=2)\n",
        "\n",
        "    true_predictions = [\n",
        "        [label_list[p] for (p, l) in zip(prediction, label) if l != -100]\n",
        "        for prediction, label in zip(predictions, labels)\n",
        "    ]\n",
        "    true_labels = [\n",
        "        [label_list[l] for (p, l) in zip(prediction, label) if l != -100]\n",
        "        for prediction, label in zip(predictions, labels)\n",
        "    ]\n",
        "\n",
        "    results = metric.compute(predictions=true_predictions, references=true_labels, zero_division=0)\n",
        "    return {\n",
        "        \"precision\": results[\"overall_precision\"],\n",
        "        \"recall\": results[\"overall_recall\"],\n",
        "        \"f1\": results[\"overall_f1\"],\n",
        "        \"accuracy\": results[\"overall_accuracy\"],\n",
        "    }"
      ]
    },
    {
      "cell_type": "code",
      "execution_count": 12,
      "id": "63dc3290",
      "metadata": {
        "id": "63dc3290"
      },
      "outputs": [],
      "source": [
        "model = model.to(device)\n",
        "tokenized_data = tokenized_data.with_format(\"torch\", device=device)\n",
        "\n",
        "args = TrainingArguments(\"ner\",\n",
        "                         evaluation_strategy = \"epoch\",\n",
        "                         learning_rate=2e-5,\n",
        "                         per_device_train_batch_size=BERT_BATCH_SIZE,\n",
        "                         per_device_eval_batch_size=BERT_BATCH_SIZE,\n",
        "                         num_train_epochs=BERT_EPOCHS,\n",
        "                         weight_decay=0.01,\n",
        "                         save_strategy='no',\n",
        "                         report_to='none')\n",
        "\n",
        "data_collator = DataCollatorForTokenClassification(tokenizer)\n",
        "trainer = Trainer(model,\n",
        "                  args,\n",
        "                  train_dataset=tokenized_data[\"train\"],\n",
        "                  eval_dataset=tokenized_data[\"test\"],\n",
        "                  data_collator=data_collator,\n",
        "                  tokenizer=tokenizer,\n",
        "                  compute_metrics=compute_metrics)"
      ]
    },
    {
      "cell_type": "markdown",
      "id": "fac485e8",
      "metadata": {
        "id": "fac485e8"
      },
      "source": [
        "### Обучение"
      ]
    },
    {
      "cell_type": "code",
      "execution_count": 13,
      "id": "108bc87f",
      "metadata": {
        "colab": {
          "base_uri": "https://localhost:8080/",
          "height": 495
        },
        "id": "108bc87f",
        "outputId": "8279fcba-e526-4873-eb16-8f063c503bab"
      },
      "outputs": [
        {
          "output_type": "stream",
          "name": "stderr",
          "text": [
            "/usr/local/lib/python3.10/dist-packages/transformers/optimization.py:411: FutureWarning: This implementation of AdamW is deprecated and will be removed in a future version. Use the PyTorch implementation torch.optim.AdamW instead, or set `no_deprecation_warning=True` to disable this warning\n",
            "  warnings.warn(\n",
            "You're using a BertTokenizerFast tokenizer. Please note that with a fast tokenizer, using the `__call__` method is faster than using a method to encode the text followed by a call to the `pad` method to get a padded encoding.\n"
          ]
        },
        {
          "output_type": "display_data",
          "data": {
            "text/plain": [
              "<IPython.core.display.HTML object>"
            ],
            "text/html": [
              "\n",
              "    <div>\n",
              "      \n",
              "      <progress value='2710' max='2710' style='width:300px; height:20px; vertical-align: middle;'></progress>\n",
              "      [2710/2710 02:27, Epoch 10/10]\n",
              "    </div>\n",
              "    <table border=\"1\" class=\"dataframe\">\n",
              "  <thead>\n",
              " <tr style=\"text-align: left;\">\n",
              "      <th>Epoch</th>\n",
              "      <th>Training Loss</th>\n",
              "      <th>Validation Loss</th>\n",
              "      <th>Precision</th>\n",
              "      <th>Recall</th>\n",
              "      <th>F1</th>\n",
              "      <th>Accuracy</th>\n",
              "    </tr>\n",
              "  </thead>\n",
              "  <tbody>\n",
              "    <tr>\n",
              "      <td>1</td>\n",
              "      <td>No log</td>\n",
              "      <td>0.553229</td>\n",
              "      <td>0.543743</td>\n",
              "      <td>0.312142</td>\n",
              "      <td>0.396607</td>\n",
              "      <td>0.866099</td>\n",
              "    </tr>\n",
              "    <tr>\n",
              "      <td>2</td>\n",
              "      <td>0.710900</td>\n",
              "      <td>0.453755</td>\n",
              "      <td>0.540266</td>\n",
              "      <td>0.439288</td>\n",
              "      <td>0.484572</td>\n",
              "      <td>0.881261</td>\n",
              "    </tr>\n",
              "    <tr>\n",
              "      <td>3</td>\n",
              "      <td>0.710900</td>\n",
              "      <td>0.409914</td>\n",
              "      <td>0.557173</td>\n",
              "      <td>0.511125</td>\n",
              "      <td>0.533156</td>\n",
              "      <td>0.888075</td>\n",
              "    </tr>\n",
              "    <tr>\n",
              "      <td>4</td>\n",
              "      <td>0.404200</td>\n",
              "      <td>0.382608</td>\n",
              "      <td>0.637026</td>\n",
              "      <td>0.555626</td>\n",
              "      <td>0.593548</td>\n",
              "      <td>0.898893</td>\n",
              "    </tr>\n",
              "    <tr>\n",
              "      <td>5</td>\n",
              "      <td>0.404200</td>\n",
              "      <td>0.363610</td>\n",
              "      <td>0.564908</td>\n",
              "      <td>0.605849</td>\n",
              "      <td>0.584663</td>\n",
              "      <td>0.897700</td>\n",
              "    </tr>\n",
              "    <tr>\n",
              "      <td>6</td>\n",
              "      <td>0.344100</td>\n",
              "      <td>0.349583</td>\n",
              "      <td>0.600000</td>\n",
              "      <td>0.621742</td>\n",
              "      <td>0.610677</td>\n",
              "      <td>0.902896</td>\n",
              "    </tr>\n",
              "    <tr>\n",
              "      <td>7</td>\n",
              "      <td>0.344100</td>\n",
              "      <td>0.340064</td>\n",
              "      <td>0.614673</td>\n",
              "      <td>0.633821</td>\n",
              "      <td>0.624100</td>\n",
              "      <td>0.905622</td>\n",
              "    </tr>\n",
              "    <tr>\n",
              "      <td>8</td>\n",
              "      <td>0.305800</td>\n",
              "      <td>0.335157</td>\n",
              "      <td>0.607831</td>\n",
              "      <td>0.641449</td>\n",
              "      <td>0.624188</td>\n",
              "      <td>0.905537</td>\n",
              "    </tr>\n",
              "    <tr>\n",
              "      <td>9</td>\n",
              "      <td>0.305800</td>\n",
              "      <td>0.332415</td>\n",
              "      <td>0.620245</td>\n",
              "      <td>0.642721</td>\n",
              "      <td>0.631283</td>\n",
              "      <td>0.906899</td>\n",
              "    </tr>\n",
              "    <tr>\n",
              "      <td>10</td>\n",
              "      <td>0.288600</td>\n",
              "      <td>0.331736</td>\n",
              "      <td>0.623393</td>\n",
              "      <td>0.647171</td>\n",
              "      <td>0.635059</td>\n",
              "      <td>0.907325</td>\n",
              "    </tr>\n",
              "  </tbody>\n",
              "</table><p>"
            ]
          },
          "metadata": {}
        },
        {
          "output_type": "execute_result",
          "data": {
            "text/plain": [
              "TrainOutput(global_step=2710, training_loss=0.4002577398096063, metrics={'train_runtime': 147.819, 'train_samples_per_second': 292.79, 'train_steps_per_second': 18.333, 'total_flos': 130948738699680.0, 'train_loss': 0.4002577398096063, 'epoch': 10.0})"
            ]
          },
          "metadata": {},
          "execution_count": 13
        }
      ],
      "source": [
        "trainer.train()"
      ]
    },
    {
      "cell_type": "code",
      "execution_count": 14,
      "id": "abcc37c0",
      "metadata": {
        "colab": {
          "base_uri": "https://localhost:8080/",
          "height": 193
        },
        "id": "abcc37c0",
        "outputId": "368388c6-2c5d-405e-b22a-d37f19f37151"
      },
      "outputs": [
        {
          "output_type": "display_data",
          "data": {
            "text/plain": [
              "<IPython.core.display.HTML object>"
            ],
            "text/html": [
              "\n",
              "    <div>\n",
              "      \n",
              "      <progress value='31' max='31' style='width:300px; height:20px; vertical-align: middle;'></progress>\n",
              "      [31/31 00:00]\n",
              "    </div>\n",
              "    "
            ]
          },
          "metadata": {}
        },
        {
          "output_type": "execute_result",
          "data": {
            "text/plain": [
              "{'eval_loss': 0.331736296415329,\n",
              " 'eval_precision': 0.6233925290875689,\n",
              " 'eval_recall': 0.6471710108073745,\n",
              " 'eval_f1': 0.6350592638802246,\n",
              " 'eval_accuracy': 0.9073253833049404,\n",
              " 'eval_runtime': 0.5978,\n",
              " 'eval_samples_per_second': 804.552,\n",
              " 'eval_steps_per_second': 51.853,\n",
              " 'epoch': 10.0}"
            ]
          },
          "metadata": {},
          "execution_count": 14
        }
      ],
      "source": [
        "trainer.evaluate()"
      ]
    },
    {
      "cell_type": "code",
      "source": [
        "text = ' '.join(ner_data['test'][64]['tokens'])\n",
        "tokens = tokenizer(text, return_tensors='pt')\n",
        "tokens = {k: v.to(model.device) for k, v in tokens.items()}\n",
        "with torch.no_grad():\n",
        "    pred = model(**tokens)\n",
        "\n",
        "indices = pred.logits.argmax(dim=-1)[0].cpu().numpy()\n",
        "token_text = tokenizer.convert_ids_to_tokens(tokens['input_ids'][0])\n",
        "\n",
        "print(text)\n",
        "for t, idx in zip(token_text, indices):\n",
        "    print(f'{t:15s} {label_list[idx]:10s}')"
      ],
      "metadata": {
        "colab": {
          "base_uri": "https://localhost:8080/"
        },
        "id": "n4_mTwvl7JUx",
        "outputId": "7f8f32ea-ea70-4688-db9b-ffa72f19d807"
      },
      "id": "n4_mTwvl7JUx",
      "execution_count": 15,
      "outputs": [
        {
          "output_type": "stream",
          "name": "stdout",
          "text": [
            "И в процессе лечения тоже не помог .\n",
            "[CLS]           O         \n",
            "И               O         \n",
            "в               O         \n",
            "процессе        O         \n",
            "лечения         O         \n",
            "тоже            O         \n",
            "не              O         \n",
            "пом             O         \n",
            "##ог            O         \n",
            ".               O         \n",
            "[SEP]           O         \n"
          ]
        }
      ]
    },
    {
      "cell_type": "markdown",
      "id": "02debc18",
      "metadata": {
        "id": "02debc18"
      },
      "source": [
        "## 2.  Дообучить GPT на генерацию текста"
      ]
    },
    {
      "cell_type": "markdown",
      "id": "98b1eb0e",
      "metadata": {
        "id": "98b1eb0e"
      },
      "source": [
        "### Данные"
      ]
    },
    {
      "cell_type": "code",
      "execution_count": 16,
      "id": "7ea63bb4",
      "metadata": {
        "colab": {
          "base_uri": "https://localhost:8080/",
          "height": 565
        },
        "id": "7ea63bb4",
        "outputId": "ad6a41e0-2d9c-4968-dc87-99de23bb8ad8"
      },
      "outputs": [
        {
          "output_type": "execute_result",
          "data": {
            "text/plain": [
              "   Unnamed: 0                                               name  \\\n",
              "0           0  рассольник классический с перловкой и солеными...   \n",
              "1           1                    Суп пюре из белокочаной капусты   \n",
              "2           2                     Постные щи из квашеной капусты   \n",
              "3           3                  Тюря- простой суп быстро и вкусно   \n",
              "4           4                    Фасолевый суп из красной фасоли   \n",
              "\n",
              "                                         composition         cooking_type  \\\n",
              "0  [{'Перловка': 0.1, 'unit': 'стак. (200 мл)'}, ...          варка,жарка   \n",
              "1  [{'Капуста белокочанная': 50.0, 'unit': 'гр'},...                варка   \n",
              "2  [{'Капуста квашеная': 116.7, 'unit': 'гр'}, {'...  варка,жарка,тушение   \n",
              "3  [{'Квас': 0.2, 'unit': 'л'}, {'Лук репчатый': ...                сырое   \n",
              "4  [{'Вода': 0.3, 'unit': 'л'}, {'Картошка': 0.3,...                варка   \n",
              "\n",
              "                                          Инструкции dish_type        Дата  \\\n",
              "0  Подготовить указанные ингредиенты для приготов...    первое  05.06.2015   \n",
              "1  Необходимые ингредиенты\\r\\nНарезаем лук, морко...    первое  27.06.2015   \n",
              "2  Честно признаюсь, у меня не было репы на момен...    первое  12.02.2013   \n",
              "3  \\r\\nНачинаем мы приготовление тюри с того, что...    первое  02.03.2011   \n",
              "4  Подготовить ингредиенты. Для приготовления суп...    первое  28.01.2013   \n",
              "\n",
              "                  photo                                             source  \\\n",
              "0  photo_1000menu_1.jpg  https://1000.menu/cooking/33395-rassolnik-s-pe...   \n",
              "1  photo_1000menu_2.jpg  https://1000.menu/cooking/25399-sup-pure-iz-be...   \n",
              "2  photo_1000menu_3.jpg       https://1000.menu/cooking/5159-postnje-shchi   \n",
              "3  photo_1000menu_4.jpg               https://1000.menu/cooking/5085-turya   \n",
              "4  photo_1000menu_5.jpg  https://1000.menu/cooking/38765-fasolevyi-sup-...   \n",
              "\n",
              "                                   composition_inter  \n",
              "0  [{'product_id': 4253, 'name_source': 'Перловая...  \n",
              "1  [{'product_id': 2286, 'name_source': 'Капуста ...  \n",
              "2  [{'product_id': 0, 'name_source': 'Капуста ква...  \n",
              "3  [{'product_id': 0, 'name_source': 'Квас', 'uni...  \n",
              "4  [{'product_id': 828, 'name_source': 'Вода', 'u...  "
            ],
            "text/html": [
              "\n",
              "  <div id=\"df-7ed76c03-61cb-463e-b130-dd155b913898\">\n",
              "    <div class=\"colab-df-container\">\n",
              "      <div>\n",
              "<style scoped>\n",
              "    .dataframe tbody tr th:only-of-type {\n",
              "        vertical-align: middle;\n",
              "    }\n",
              "\n",
              "    .dataframe tbody tr th {\n",
              "        vertical-align: top;\n",
              "    }\n",
              "\n",
              "    .dataframe thead th {\n",
              "        text-align: right;\n",
              "    }\n",
              "</style>\n",
              "<table border=\"1\" class=\"dataframe\">\n",
              "  <thead>\n",
              "    <tr style=\"text-align: right;\">\n",
              "      <th></th>\n",
              "      <th>Unnamed: 0</th>\n",
              "      <th>name</th>\n",
              "      <th>composition</th>\n",
              "      <th>cooking_type</th>\n",
              "      <th>Инструкции</th>\n",
              "      <th>dish_type</th>\n",
              "      <th>Дата</th>\n",
              "      <th>photo</th>\n",
              "      <th>source</th>\n",
              "      <th>composition_inter</th>\n",
              "    </tr>\n",
              "  </thead>\n",
              "  <tbody>\n",
              "    <tr>\n",
              "      <th>0</th>\n",
              "      <td>0</td>\n",
              "      <td>рассольник классический с перловкой и солеными...</td>\n",
              "      <td>[{'Перловка': 0.1, 'unit': 'стак. (200 мл)'}, ...</td>\n",
              "      <td>варка,жарка</td>\n",
              "      <td>Подготовить указанные ингредиенты для приготов...</td>\n",
              "      <td>первое</td>\n",
              "      <td>05.06.2015</td>\n",
              "      <td>photo_1000menu_1.jpg</td>\n",
              "      <td>https://1000.menu/cooking/33395-rassolnik-s-pe...</td>\n",
              "      <td>[{'product_id': 4253, 'name_source': 'Перловая...</td>\n",
              "    </tr>\n",
              "    <tr>\n",
              "      <th>1</th>\n",
              "      <td>1</td>\n",
              "      <td>Суп пюре из белокочаной капусты</td>\n",
              "      <td>[{'Капуста белокочанная': 50.0, 'unit': 'гр'},...</td>\n",
              "      <td>варка</td>\n",
              "      <td>Необходимые ингредиенты\\r\\nНарезаем лук, морко...</td>\n",
              "      <td>первое</td>\n",
              "      <td>27.06.2015</td>\n",
              "      <td>photo_1000menu_2.jpg</td>\n",
              "      <td>https://1000.menu/cooking/25399-sup-pure-iz-be...</td>\n",
              "      <td>[{'product_id': 2286, 'name_source': 'Капуста ...</td>\n",
              "    </tr>\n",
              "    <tr>\n",
              "      <th>2</th>\n",
              "      <td>2</td>\n",
              "      <td>Постные щи из квашеной капусты</td>\n",
              "      <td>[{'Капуста квашеная': 116.7, 'unit': 'гр'}, {'...</td>\n",
              "      <td>варка,жарка,тушение</td>\n",
              "      <td>Честно признаюсь, у меня не было репы на момен...</td>\n",
              "      <td>первое</td>\n",
              "      <td>12.02.2013</td>\n",
              "      <td>photo_1000menu_3.jpg</td>\n",
              "      <td>https://1000.menu/cooking/5159-postnje-shchi</td>\n",
              "      <td>[{'product_id': 0, 'name_source': 'Капуста ква...</td>\n",
              "    </tr>\n",
              "    <tr>\n",
              "      <th>3</th>\n",
              "      <td>3</td>\n",
              "      <td>Тюря- простой суп быстро и вкусно</td>\n",
              "      <td>[{'Квас': 0.2, 'unit': 'л'}, {'Лук репчатый': ...</td>\n",
              "      <td>сырое</td>\n",
              "      <td>\\r\\nНачинаем мы приготовление тюри с того, что...</td>\n",
              "      <td>первое</td>\n",
              "      <td>02.03.2011</td>\n",
              "      <td>photo_1000menu_4.jpg</td>\n",
              "      <td>https://1000.menu/cooking/5085-turya</td>\n",
              "      <td>[{'product_id': 0, 'name_source': 'Квас', 'uni...</td>\n",
              "    </tr>\n",
              "    <tr>\n",
              "      <th>4</th>\n",
              "      <td>4</td>\n",
              "      <td>Фасолевый суп из красной фасоли</td>\n",
              "      <td>[{'Вода': 0.3, 'unit': 'л'}, {'Картошка': 0.3,...</td>\n",
              "      <td>варка</td>\n",
              "      <td>Подготовить ингредиенты. Для приготовления суп...</td>\n",
              "      <td>первое</td>\n",
              "      <td>28.01.2013</td>\n",
              "      <td>photo_1000menu_5.jpg</td>\n",
              "      <td>https://1000.menu/cooking/38765-fasolevyi-sup-...</td>\n",
              "      <td>[{'product_id': 828, 'name_source': 'Вода', 'u...</td>\n",
              "    </tr>\n",
              "  </tbody>\n",
              "</table>\n",
              "</div>\n",
              "      <button class=\"colab-df-convert\" onclick=\"convertToInteractive('df-7ed76c03-61cb-463e-b130-dd155b913898')\"\n",
              "              title=\"Convert this dataframe to an interactive table.\"\n",
              "              style=\"display:none;\">\n",
              "        \n",
              "  <svg xmlns=\"http://www.w3.org/2000/svg\" height=\"24px\"viewBox=\"0 0 24 24\"\n",
              "       width=\"24px\">\n",
              "    <path d=\"M0 0h24v24H0V0z\" fill=\"none\"/>\n",
              "    <path d=\"M18.56 5.44l.94 2.06.94-2.06 2.06-.94-2.06-.94-.94-2.06-.94 2.06-2.06.94zm-11 1L8.5 8.5l.94-2.06 2.06-.94-2.06-.94L8.5 2.5l-.94 2.06-2.06.94zm10 10l.94 2.06.94-2.06 2.06-.94-2.06-.94-.94-2.06-.94 2.06-2.06.94z\"/><path d=\"M17.41 7.96l-1.37-1.37c-.4-.4-.92-.59-1.43-.59-.52 0-1.04.2-1.43.59L10.3 9.45l-7.72 7.72c-.78.78-.78 2.05 0 2.83L4 21.41c.39.39.9.59 1.41.59.51 0 1.02-.2 1.41-.59l7.78-7.78 2.81-2.81c.8-.78.8-2.07 0-2.86zM5.41 20L4 18.59l7.72-7.72 1.47 1.35L5.41 20z\"/>\n",
              "  </svg>\n",
              "      </button>\n",
              "      \n",
              "  <style>\n",
              "    .colab-df-container {\n",
              "      display:flex;\n",
              "      flex-wrap:wrap;\n",
              "      gap: 12px;\n",
              "    }\n",
              "\n",
              "    .colab-df-convert {\n",
              "      background-color: #E8F0FE;\n",
              "      border: none;\n",
              "      border-radius: 50%;\n",
              "      cursor: pointer;\n",
              "      display: none;\n",
              "      fill: #1967D2;\n",
              "      height: 32px;\n",
              "      padding: 0 0 0 0;\n",
              "      width: 32px;\n",
              "    }\n",
              "\n",
              "    .colab-df-convert:hover {\n",
              "      background-color: #E2EBFA;\n",
              "      box-shadow: 0px 1px 2px rgba(60, 64, 67, 0.3), 0px 1px 3px 1px rgba(60, 64, 67, 0.15);\n",
              "      fill: #174EA6;\n",
              "    }\n",
              "\n",
              "    [theme=dark] .colab-df-convert {\n",
              "      background-color: #3B4455;\n",
              "      fill: #D2E3FC;\n",
              "    }\n",
              "\n",
              "    [theme=dark] .colab-df-convert:hover {\n",
              "      background-color: #434B5C;\n",
              "      box-shadow: 0px 1px 3px 1px rgba(0, 0, 0, 0.15);\n",
              "      filter: drop-shadow(0px 1px 2px rgba(0, 0, 0, 0.3));\n",
              "      fill: #FFFFFF;\n",
              "    }\n",
              "  </style>\n",
              "\n",
              "      <script>\n",
              "        const buttonEl =\n",
              "          document.querySelector('#df-7ed76c03-61cb-463e-b130-dd155b913898 button.colab-df-convert');\n",
              "        buttonEl.style.display =\n",
              "          google.colab.kernel.accessAllowed ? 'block' : 'none';\n",
              "\n",
              "        async function convertToInteractive(key) {\n",
              "          const element = document.querySelector('#df-7ed76c03-61cb-463e-b130-dd155b913898');\n",
              "          const dataTable =\n",
              "            await google.colab.kernel.invokeFunction('convertToInteractive',\n",
              "                                                     [key], {});\n",
              "          if (!dataTable) return;\n",
              "\n",
              "          const docLinkHtml = 'Like what you see? Visit the ' +\n",
              "            '<a target=\"_blank\" href=https://colab.research.google.com/notebooks/data_table.ipynb>data table notebook</a>'\n",
              "            + ' to learn more about interactive tables.';\n",
              "          element.innerHTML = '';\n",
              "          dataTable['output_type'] = 'display_data';\n",
              "          await google.colab.output.renderOutput(dataTable, element);\n",
              "          const docLink = document.createElement('div');\n",
              "          docLink.innerHTML = docLinkHtml;\n",
              "          element.appendChild(docLink);\n",
              "        }\n",
              "      </script>\n",
              "    </div>\n",
              "  </div>\n",
              "  "
            ]
          },
          "metadata": {},
          "execution_count": 16
        }
      ],
      "source": [
        "data = pd.read_csv(GPT_DATA, sep='\\t')\n",
        "data.head()"
      ]
    },
    {
      "cell_type": "code",
      "source": [
        "def build_text_files(data_json, dest_path):\n",
        "    f = open(dest_path, 'w')\n",
        "    data = ''\n",
        "    for texts in data_json:\n",
        "        summary = str(texts).strip()\n",
        "        summary = re.sub(r\"\\s\", \" \", summary)\n",
        "        data += summary + \"  \"\n",
        "    f.write(data)"
      ],
      "metadata": {
        "id": "jG8J2D5dlCLg"
      },
      "id": "jG8J2D5dlCLg",
      "execution_count": 17,
      "outputs": []
    },
    {
      "cell_type": "code",
      "source": [
        "data = data.loc[:5000, 'Инструкции']\n",
        "data_train, data_test = train_test_split(data, test_size=0.15)\n",
        "\n",
        "train_path = 'train_dataset.txt'\n",
        "test_path = 'test_dataset.txt'\n",
        "\n",
        "build_text_files(data_train, train_path)\n",
        "build_text_files(data_test, test_path)"
      ],
      "metadata": {
        "id": "NjbB4IlSlC2s"
      },
      "id": "NjbB4IlSlC2s",
      "execution_count": 18,
      "outputs": []
    },
    {
      "cell_type": "code",
      "source": [
        "tokenizer = AutoTokenizer.from_pretrained(GPT_MODEL)"
      ],
      "metadata": {
        "colab": {
          "base_uri": "https://localhost:8080/"
        },
        "id": "P8X8atixlXh1",
        "outputId": "c50f3c0d-f1db-4ff7-d028-b22bca60dc02"
      },
      "id": "P8X8atixlXh1",
      "execution_count": 19,
      "outputs": [
        {
          "output_type": "stream",
          "name": "stderr",
          "text": [
            "Special tokens have been added in the vocabulary, make sure the associated word embeddings are fine-tuned or trained.\n"
          ]
        }
      ]
    },
    {
      "cell_type": "code",
      "source": [
        "def load_dataset(train_path, test_path, tokenizer):\n",
        "    train_dataset = TextDataset(\n",
        "          tokenizer=tokenizer,\n",
        "          file_path=train_path,\n",
        "          block_size=128)\n",
        "\n",
        "    test_dataset = TextDataset(\n",
        "          tokenizer=tokenizer,\n",
        "          file_path=test_path,\n",
        "          block_size=128)\n",
        "\n",
        "    data_collator = DataCollatorForLanguageModeling(\n",
        "        tokenizer=tokenizer, mlm=False,\n",
        "    )\n",
        "    return train_dataset, test_dataset, data_collator\n",
        "\n",
        "train_dataset, test_dataset, data_collator = load_dataset(train_path, test_path, tokenizer)"
      ],
      "metadata": {
        "colab": {
          "base_uri": "https://localhost:8080/"
        },
        "id": "mxWd67ydlzZd",
        "outputId": "1fe03f3f-f421-47e5-ea4a-d495754b2b86"
      },
      "id": "mxWd67ydlzZd",
      "execution_count": 20,
      "outputs": [
        {
          "output_type": "stream",
          "name": "stderr",
          "text": [
            "/usr/local/lib/python3.10/dist-packages/transformers/data/datasets/language_modeling.py:53: FutureWarning: This dataset will be removed from the library soon, preprocessing should be handled with the 🤗 Datasets library. You can have a look at this example script for pointers: https://github.com/huggingface/transformers/blob/main/examples/pytorch/language-modeling/run_mlm.py\n",
            "  warnings.warn(\n"
          ]
        }
      ]
    },
    {
      "cell_type": "markdown",
      "id": "041068cb",
      "metadata": {
        "id": "041068cb"
      },
      "source": [
        "### Модель"
      ]
    },
    {
      "cell_type": "code",
      "execution_count": 21,
      "id": "833233cb",
      "metadata": {
        "id": "833233cb"
      },
      "outputs": [],
      "source": [
        "model = AutoModelForCausalLM.from_pretrained(GPT_MODEL)\n",
        "model.to(device)\n",
        "\n",
        "args = TrainingArguments(output_dir=\"./gpt2-chief\",\n",
        "                         overwrite_output_dir=True,\n",
        "                         num_train_epochs=GPT_EPOCHS,\n",
        "                         per_device_train_batch_size=GPT_BATCH_SIZE,\n",
        "                         per_device_eval_batch_size=GPT_BATCH_SIZE,\n",
        "                         eval_steps = 400,\n",
        "                         save_steps=800,\n",
        "                         warmup_steps=500)\n",
        "\n",
        "trainer = Trainer(model=model,\n",
        "                  args=args,\n",
        "                  data_collator=data_collator,\n",
        "                  train_dataset=train_dataset,\n",
        "                  eval_dataset=test_dataset)"
      ]
    },
    {
      "cell_type": "markdown",
      "id": "0ef8a254",
      "metadata": {
        "id": "0ef8a254"
      },
      "source": [
        "### Обучение"
      ]
    },
    {
      "cell_type": "code",
      "execution_count": 22,
      "id": "83a52484",
      "metadata": {
        "colab": {
          "base_uri": "https://localhost:8080/",
          "height": 227
        },
        "id": "83a52484",
        "outputId": "c458acda-6a60-43f1-9483-94e1768c760d"
      },
      "outputs": [
        {
          "output_type": "stream",
          "name": "stderr",
          "text": [
            "/usr/local/lib/python3.10/dist-packages/transformers/optimization.py:411: FutureWarning: This implementation of AdamW is deprecated and will be removed in a future version. Use the PyTorch implementation torch.optim.AdamW instead, or set `no_deprecation_warning=True` to disable this warning\n",
            "  warnings.warn(\n"
          ]
        },
        {
          "output_type": "display_data",
          "data": {
            "text/plain": [
              "<IPython.core.display.HTML object>"
            ],
            "text/html": [
              "\n",
              "    <div>\n",
              "      \n",
              "      <progress value='1257' max='1257' style='width:300px; height:20px; vertical-align: middle;'></progress>\n",
              "      [1257/1257 12:04, Epoch 3/3]\n",
              "    </div>\n",
              "    <table border=\"1\" class=\"dataframe\">\n",
              "  <thead>\n",
              " <tr style=\"text-align: left;\">\n",
              "      <th>Step</th>\n",
              "      <th>Training Loss</th>\n",
              "    </tr>\n",
              "  </thead>\n",
              "  <tbody>\n",
              "    <tr>\n",
              "      <td>500</td>\n",
              "      <td>2.446600</td>\n",
              "    </tr>\n",
              "    <tr>\n",
              "      <td>1000</td>\n",
              "      <td>2.236600</td>\n",
              "    </tr>\n",
              "  </tbody>\n",
              "</table><p>"
            ]
          },
          "metadata": {}
        },
        {
          "output_type": "execute_result",
          "data": {
            "text/plain": [
              "TrainOutput(global_step=1257, training_loss=2.2955007135820655, metrics={'train_runtime': 724.7843, 'train_samples_per_second': 27.728, 'train_steps_per_second': 1.734, 'total_flos': 1312796491776000.0, 'train_loss': 2.2955007135820655, 'epoch': 3.0})"
            ]
          },
          "metadata": {},
          "execution_count": 22
        }
      ],
      "source": [
        "trainer.train()"
      ]
    },
    {
      "cell_type": "code",
      "source": [
        "prefix = \"Берём сковородку \"\n",
        "tokens = tokenizer(prefix, return_tensors='pt').to(device)\n",
        "size = tokens['input_ids'].shape[1]\n",
        "res = model.generate(**tokens,\n",
        "                     do_sample=False,\n",
        "                     max_length=size+50,\n",
        "                     repetition_penalty=5.,\n",
        "                     temperature=0.5,\n",
        "                     num_beams=10,)\n",
        "\n",
        "decoded = tokenizer.decode(res[0])\n",
        "result = decoded[len(prefix):]\n",
        "print(prefix + result)"
      ],
      "metadata": {
        "colab": {
          "base_uri": "https://localhost:8080/"
        },
        "id": "b6aFvJ-6mh_t",
        "outputId": "82c741c9-79ed-45ad-d69a-7fdd7e4a983b"
      },
      "id": "b6aFvJ-6mh_t",
      "execution_count": 23,
      "outputs": [
        {
          "output_type": "stream",
          "name": "stderr",
          "text": [
            "Setting `pad_token_id` to `eos_token_id`:50256 for open-end generation.\n"
          ]
        },
        {
          "output_type": "stream",
          "name": "stdout",
          "text": [
            "Берём сковородку  и на ней обжариваем мелко нарезанный репчатый лук до золотистого цвета. Добавляем в сковороду к луку морковь, жарим 3-4 минуты с каждой стороны. Затем добавляем томатную пасту (1 ст.\n"
          ]
        }
      ]
    },
    {
      "cell_type": "markdown",
      "id": "90e7a657",
      "metadata": {
        "id": "90e7a657"
      },
      "source": [
        "## 3*. Дообучить T5 на задачу суммаризации текста"
      ]
    },
    {
      "cell_type": "code",
      "source": [
        "from datasets import load_dataset"
      ],
      "metadata": {
        "id": "ls8JKnu5A9mQ"
      },
      "id": "ls8JKnu5A9mQ",
      "execution_count": null,
      "outputs": []
    },
    {
      "cell_type": "markdown",
      "id": "8824ddae",
      "metadata": {
        "id": "8824ddae"
      },
      "source": [
        "### Данные"
      ]
    },
    {
      "cell_type": "code",
      "execution_count": 27,
      "id": "400efa21",
      "metadata": {
        "colab": {
          "base_uri": "https://localhost:8080/"
        },
        "id": "400efa21",
        "outputId": "84a70437-b7e0-42c6-8710-69f145e90dda"
      },
      "outputs": [
        {
          "output_type": "stream",
          "name": "stderr",
          "text": [
            "WARNING:datasets.builder:No config specified, defaulting to: gazeta/default\n",
            "WARNING:datasets.builder:Found cached dataset gazeta (/root/.cache/huggingface/datasets/IlyaGusev___gazeta/default/1.0.0/ef9349c3c0f3112ca4036520d76c4bc1b8a79d30bc29643c6cae5a094d44e457)\n",
            "WARNING:datasets.builder:No config specified, defaulting to: gazeta/default\n",
            "WARNING:datasets.builder:Found cached dataset gazeta (/root/.cache/huggingface/datasets/IlyaGusev___gazeta/default/1.0.0/ef9349c3c0f3112ca4036520d76c4bc1b8a79d30bc29643c6cae5a094d44e457)\n"
          ]
        },
        {
          "output_type": "execute_result",
          "data": {
            "text/plain": [
              "Dataset({\n",
              "    features: ['text', 'summary', 'title', 'date', 'url'],\n",
              "    num_rows: 5240\n",
              "})"
            ]
          },
          "metadata": {},
          "execution_count": 27
        }
      ],
      "source": [
        "data_train = load_dataset(T5_DATA, revision=\"v1.0\", split='train[:10%]')\n",
        "data_test = load_dataset(T5_DATA, revision=\"v1.0\", split='test[:10%]')\n",
        "data_train"
      ]
    },
    {
      "cell_type": "code",
      "source": [
        "def len_tok(text):\n",
        "    return len(text.split())\n",
        "\n",
        "max_len_sum = max(map(len_tok,data_train['summary']))\n",
        "max_len_tl = max(map(len_tok,data_train['title']))\n",
        "\n",
        "tokenizer = AutoTokenizer.from_pretrained(T5_MODEL)\n",
        "\n",
        "def tokenize(batch):\n",
        "    tokenized_input = tokenizer(batch['summary'], padding='max_length', truncation=True, max_length=max_len_sum)\n",
        "    tokenized_label = tokenizer(batch['title'], padding='max_length', truncation=True, max_length=max_len_tl)\n",
        "    tokenized_input['labels'] = tokenized_label['input_ids']\n",
        "\n",
        "    return tokenized_input\n",
        "\n",
        "data_train = data_train.map(tokenize, batched=True, batch_size=8)\n",
        "data_test = data_test.map(tokenize, batched=True, batch_size=8)\n",
        "\n",
        "data_train.set_format('numpy', columns=['input_ids', 'attention_mask', 'labels'])\n",
        "data_test.set_format('numpy', columns=['input_ids', 'attention_mask', 'labels'])"
      ],
      "metadata": {
        "colab": {
          "base_uri": "https://localhost:8080/"
        },
        "id": "NHmLn0O7uMbs",
        "outputId": "89836b42-97c4-4a6c-ae63-33d82a69afe1"
      },
      "id": "NHmLn0O7uMbs",
      "execution_count": 28,
      "outputs": [
        {
          "output_type": "stream",
          "name": "stderr",
          "text": [
            "WARNING:datasets.arrow_dataset:Loading cached processed dataset at /root/.cache/huggingface/datasets/IlyaGusev___gazeta/default/1.0.0/ef9349c3c0f3112ca4036520d76c4bc1b8a79d30bc29643c6cae5a094d44e457/cache-23b218914ed2e6c1.arrow\n",
            "WARNING:datasets.arrow_dataset:Loading cached processed dataset at /root/.cache/huggingface/datasets/IlyaGusev___gazeta/default/1.0.0/ef9349c3c0f3112ca4036520d76c4bc1b8a79d30bc29643c6cae5a094d44e457/cache-29251b43b37069ba.arrow\n"
          ]
        }
      ]
    },
    {
      "cell_type": "markdown",
      "id": "2efa8893",
      "metadata": {
        "id": "2efa8893"
      },
      "source": [
        "### Модель"
      ]
    },
    {
      "cell_type": "code",
      "execution_count": 29,
      "id": "4f7a1dcb",
      "metadata": {
        "id": "4f7a1dcb"
      },
      "outputs": [],
      "source": [
        "output_dir = 'gazeta/output'\n",
        "model = T5ForConditionalGeneration.from_pretrained(T5_MODEL).to(device)\n",
        "\n",
        "args = TrainingArguments(\n",
        "    output_dir=output_dir,\n",
        "    num_train_epochs=T5_EPOCHS,\n",
        "    per_device_train_batch_size=T5_BATCH_SIZE,\n",
        "    per_device_eval_batch_size=T5_BATCH_SIZE,\n",
        "    eval_accumulation_steps=1,\n",
        "    prediction_loss_only=True,\n",
        "    learning_rate=0.00001,\n",
        "    evaluation_strategy='steps',\n",
        "    save_steps=1000,\n",
        "    save_total_limit=1,\n",
        "    remove_unused_columns=True,\n",
        "    run_name='run_gazeta',\n",
        "    logging_steps=500,\n",
        "    eval_steps=500,\n",
        "    logging_first_step=False,\n",
        "    load_best_model_at_end=True,\n",
        "    metric_for_best_model=\"loss\",\n",
        "    greater_is_better=False\n",
        ")\n",
        "\n",
        "trainer = Trainer(\n",
        "    model=model,\n",
        "    args=args,\n",
        "    train_dataset=data_train,\n",
        "    eval_dataset=data_test\n",
        ")\n"
      ]
    },
    {
      "cell_type": "markdown",
      "id": "2452e3ba",
      "metadata": {
        "id": "2452e3ba"
      },
      "source": [
        "### Обучение"
      ]
    },
    {
      "cell_type": "code",
      "execution_count": 30,
      "id": "99d25ca8",
      "metadata": {
        "colab": {
          "base_uri": "https://localhost:8080/",
          "height": 259
        },
        "id": "99d25ca8",
        "outputId": "368b6867-db9b-48cb-e9e0-6c7990e21440"
      },
      "outputs": [
        {
          "output_type": "stream",
          "name": "stderr",
          "text": [
            "/usr/local/lib/python3.10/dist-packages/transformers/optimization.py:411: FutureWarning: This implementation of AdamW is deprecated and will be removed in a future version. Use the PyTorch implementation torch.optim.AdamW instead, or set `no_deprecation_warning=True` to disable this warning\n",
            "  warnings.warn(\n"
          ]
        },
        {
          "output_type": "display_data",
          "data": {
            "text/plain": [
              "<IPython.core.display.HTML object>"
            ],
            "text/html": [
              "\n",
              "    <div>\n",
              "      \n",
              "      <progress value='1640' max='1640' style='width:300px; height:20px; vertical-align: middle;'></progress>\n",
              "      [1640/1640 11:59, Epoch 5/5]\n",
              "    </div>\n",
              "    <table border=\"1\" class=\"dataframe\">\n",
              "  <thead>\n",
              " <tr style=\"text-align: left;\">\n",
              "      <th>Step</th>\n",
              "      <th>Training Loss</th>\n",
              "      <th>Validation Loss</th>\n",
              "    </tr>\n",
              "  </thead>\n",
              "  <tbody>\n",
              "    <tr>\n",
              "      <td>500</td>\n",
              "      <td>8.463100</td>\n",
              "      <td>2.942599</td>\n",
              "    </tr>\n",
              "    <tr>\n",
              "      <td>1000</td>\n",
              "      <td>3.688900</td>\n",
              "      <td>2.761876</td>\n",
              "    </tr>\n",
              "    <tr>\n",
              "      <td>1500</td>\n",
              "      <td>2.687800</td>\n",
              "      <td>2.735948</td>\n",
              "    </tr>\n",
              "  </tbody>\n",
              "</table><p>"
            ]
          },
          "metadata": {}
        },
        {
          "output_type": "execute_result",
          "data": {
            "text/plain": [
              "TrainOutput(global_step=1640, training_loss=4.744864952273485, metrics={'train_runtime': 719.7763, 'train_samples_per_second': 36.4, 'train_steps_per_second': 2.278, 'total_flos': 2608755379200000.0, 'train_loss': 4.744864952273485, 'epoch': 5.0})"
            ]
          },
          "metadata": {},
          "execution_count": 30
        }
      ],
      "source": [
        "trainer.train()"
      ]
    },
    {
      "cell_type": "code",
      "source": [
        "ID = 64\n",
        "input_text = data_test['summary'][ID]\n",
        "\n",
        "with torch.no_grad():\n",
        "    tokenized_text = tokenizer(input_text, truncation=True, padding=True, return_tensors='pt')\n",
        "\n",
        "    source_ids = tokenized_text['input_ids'].to(device, dtype = torch.long)\n",
        "    source_mask = tokenized_text['attention_mask'].to(device, dtype = torch.long)\n",
        "\n",
        "    generated_ids = model.generate(\n",
        "        input_ids = source_ids,\n",
        "        attention_mask = source_mask,\n",
        "        max_length=512,\n",
        "        num_beams=7,\n",
        "        temperature = 1.3,\n",
        "        repetition_penalty=1,\n",
        "        length_penalty=1,\n",
        "        early_stopping=True,\n",
        "        no_repeat_ngram_size=2\n",
        "    )\n",
        "\n",
        "    pred = tokenizer.decode(generated_ids[0], skip_special_tokens=True, clean_up_tokenization_spaces=True)\n",
        "\n",
        "print(input_text)\n",
        "print(pred)"
      ],
      "metadata": {
        "colab": {
          "base_uri": "https://localhost:8080/"
        },
        "id": "1v8jff7Bxg0t",
        "outputId": "b6eab180-8990-4138-c970-dbf442cb7631"
      },
      "id": "1v8jff7Bxg0t",
      "execution_count": 31,
      "outputs": [
        {
          "output_type": "stream",
          "name": "stderr",
          "text": [
            "Asking to truncate to max_length but no maximum length is provided and the model has no predefined maximum length. Default to no truncation.\n"
          ]
        },
        {
          "output_type": "stream",
          "name": "stdout",
          "text": [
            "Жителей Миасса возмутило хвастовство мэра города Григория Тонких — чиновник опубликовал пост, в котором рассказал, как по его требованию в местной школе №23 дыры, которые ученики использовали в качестве туалетов, заменили на нормальные унитазы. На приложенном к новости снимке нового санузла видно, что между унитазами нет никакой перегородки — миассцы назвали это позором. При этом директор учебного заведения уверила, что кабины еще установят, а мэр «немного поторопился» с новостью.\n",
            "«Унитазы заменили на нормальную перегородку»\n"
          ]
        }
      ]
    }
  ],
  "metadata": {
    "accelerator": "GPU",
    "colab": {
      "gpuType": "T4",
      "provenance": []
    },
    "kernelspec": {
      "display_name": "Python 3",
      "name": "python3"
    },
    "language_info": {
      "codemirror_mode": {
        "name": "ipython",
        "version": 3
      },
      "file_extension": ".py",
      "mimetype": "text/x-python",
      "name": "python",
      "nbconvert_exporter": "python",
      "pygments_lexer": "ipython3",
      "version": "3.9.13"
    },
    "widgets": {
      "application/vnd.jupyter.widget-state+json": {
        "c3853dbe547e4f028048beb92bdd9274": {
          "model_module": "@jupyter-widgets/controls",
          "model_name": "HBoxModel",
          "model_module_version": "1.5.0",
          "state": {
            "_dom_classes": [],
            "_model_module": "@jupyter-widgets/controls",
            "_model_module_version": "1.5.0",
            "_model_name": "HBoxModel",
            "_view_count": null,
            "_view_module": "@jupyter-widgets/controls",
            "_view_module_version": "1.5.0",
            "_view_name": "HBoxView",
            "box_style": "",
            "children": [
              "IPY_MODEL_d9f0e7bfceba44f289df07803fc5ed2e",
              "IPY_MODEL_e11c3b861f554eadbbcdeeb46a6bea26",
              "IPY_MODEL_77bcb7d990664281adb860858244d747"
            ],
            "layout": "IPY_MODEL_3bcca78b01484b5eaaeeb8837efbb830"
          }
        },
        "d9f0e7bfceba44f289df07803fc5ed2e": {
          "model_module": "@jupyter-widgets/controls",
          "model_name": "HTMLModel",
          "model_module_version": "1.5.0",
          "state": {
            "_dom_classes": [],
            "_model_module": "@jupyter-widgets/controls",
            "_model_module_version": "1.5.0",
            "_model_name": "HTMLModel",
            "_view_count": null,
            "_view_module": "@jupyter-widgets/controls",
            "_view_module_version": "1.5.0",
            "_view_name": "HTMLView",
            "description": "",
            "description_tooltip": null,
            "layout": "IPY_MODEL_4d6f57458b4748b8aee382e1779d72b4",
            "placeholder": "​",
            "style": "IPY_MODEL_788a480492414c1385fa8edac6c2c63b",
            "value": "Map:  92%"
          }
        },
        "e11c3b861f554eadbbcdeeb46a6bea26": {
          "model_module": "@jupyter-widgets/controls",
          "model_name": "FloatProgressModel",
          "model_module_version": "1.5.0",
          "state": {
            "_dom_classes": [],
            "_model_module": "@jupyter-widgets/controls",
            "_model_module_version": "1.5.0",
            "_model_name": "FloatProgressModel",
            "_view_count": null,
            "_view_module": "@jupyter-widgets/controls",
            "_view_module_version": "1.5.0",
            "_view_name": "ProgressView",
            "bar_style": "",
            "description": "",
            "description_tooltip": null,
            "layout": "IPY_MODEL_ad561ce502954d81ad12a0c40eed4ba4",
            "max": 4328,
            "min": 0,
            "orientation": "horizontal",
            "style": "IPY_MODEL_6ed42ffc2c0d4938bb521a827fcfc560",
            "value": 4328
          }
        },
        "77bcb7d990664281adb860858244d747": {
          "model_module": "@jupyter-widgets/controls",
          "model_name": "HTMLModel",
          "model_module_version": "1.5.0",
          "state": {
            "_dom_classes": [],
            "_model_module": "@jupyter-widgets/controls",
            "_model_module_version": "1.5.0",
            "_model_name": "HTMLModel",
            "_view_count": null,
            "_view_module": "@jupyter-widgets/controls",
            "_view_module_version": "1.5.0",
            "_view_name": "HTMLView",
            "description": "",
            "description_tooltip": null,
            "layout": "IPY_MODEL_1faf556ecfe64c36bb6fc0ce42daccb8",
            "placeholder": "​",
            "style": "IPY_MODEL_dd00801c61f94f5cbf8502e8f2208011",
            "value": " 4000/4328 [00:01&lt;00:00, 3360.19 examples/s]"
          }
        },
        "3bcca78b01484b5eaaeeb8837efbb830": {
          "model_module": "@jupyter-widgets/base",
          "model_name": "LayoutModel",
          "model_module_version": "1.2.0",
          "state": {
            "_model_module": "@jupyter-widgets/base",
            "_model_module_version": "1.2.0",
            "_model_name": "LayoutModel",
            "_view_count": null,
            "_view_module": "@jupyter-widgets/base",
            "_view_module_version": "1.2.0",
            "_view_name": "LayoutView",
            "align_content": null,
            "align_items": null,
            "align_self": null,
            "border": null,
            "bottom": null,
            "display": null,
            "flex": null,
            "flex_flow": null,
            "grid_area": null,
            "grid_auto_columns": null,
            "grid_auto_flow": null,
            "grid_auto_rows": null,
            "grid_column": null,
            "grid_gap": null,
            "grid_row": null,
            "grid_template_areas": null,
            "grid_template_columns": null,
            "grid_template_rows": null,
            "height": null,
            "justify_content": null,
            "justify_items": null,
            "left": null,
            "margin": null,
            "max_height": null,
            "max_width": null,
            "min_height": null,
            "min_width": null,
            "object_fit": null,
            "object_position": null,
            "order": null,
            "overflow": null,
            "overflow_x": null,
            "overflow_y": null,
            "padding": null,
            "right": null,
            "top": null,
            "visibility": "hidden",
            "width": null
          }
        },
        "4d6f57458b4748b8aee382e1779d72b4": {
          "model_module": "@jupyter-widgets/base",
          "model_name": "LayoutModel",
          "model_module_version": "1.2.0",
          "state": {
            "_model_module": "@jupyter-widgets/base",
            "_model_module_version": "1.2.0",
            "_model_name": "LayoutModel",
            "_view_count": null,
            "_view_module": "@jupyter-widgets/base",
            "_view_module_version": "1.2.0",
            "_view_name": "LayoutView",
            "align_content": null,
            "align_items": null,
            "align_self": null,
            "border": null,
            "bottom": null,
            "display": null,
            "flex": null,
            "flex_flow": null,
            "grid_area": null,
            "grid_auto_columns": null,
            "grid_auto_flow": null,
            "grid_auto_rows": null,
            "grid_column": null,
            "grid_gap": null,
            "grid_row": null,
            "grid_template_areas": null,
            "grid_template_columns": null,
            "grid_template_rows": null,
            "height": null,
            "justify_content": null,
            "justify_items": null,
            "left": null,
            "margin": null,
            "max_height": null,
            "max_width": null,
            "min_height": null,
            "min_width": null,
            "object_fit": null,
            "object_position": null,
            "order": null,
            "overflow": null,
            "overflow_x": null,
            "overflow_y": null,
            "padding": null,
            "right": null,
            "top": null,
            "visibility": null,
            "width": null
          }
        },
        "788a480492414c1385fa8edac6c2c63b": {
          "model_module": "@jupyter-widgets/controls",
          "model_name": "DescriptionStyleModel",
          "model_module_version": "1.5.0",
          "state": {
            "_model_module": "@jupyter-widgets/controls",
            "_model_module_version": "1.5.0",
            "_model_name": "DescriptionStyleModel",
            "_view_count": null,
            "_view_module": "@jupyter-widgets/base",
            "_view_module_version": "1.2.0",
            "_view_name": "StyleView",
            "description_width": ""
          }
        },
        "ad561ce502954d81ad12a0c40eed4ba4": {
          "model_module": "@jupyter-widgets/base",
          "model_name": "LayoutModel",
          "model_module_version": "1.2.0",
          "state": {
            "_model_module": "@jupyter-widgets/base",
            "_model_module_version": "1.2.0",
            "_model_name": "LayoutModel",
            "_view_count": null,
            "_view_module": "@jupyter-widgets/base",
            "_view_module_version": "1.2.0",
            "_view_name": "LayoutView",
            "align_content": null,
            "align_items": null,
            "align_self": null,
            "border": null,
            "bottom": null,
            "display": null,
            "flex": null,
            "flex_flow": null,
            "grid_area": null,
            "grid_auto_columns": null,
            "grid_auto_flow": null,
            "grid_auto_rows": null,
            "grid_column": null,
            "grid_gap": null,
            "grid_row": null,
            "grid_template_areas": null,
            "grid_template_columns": null,
            "grid_template_rows": null,
            "height": null,
            "justify_content": null,
            "justify_items": null,
            "left": null,
            "margin": null,
            "max_height": null,
            "max_width": null,
            "min_height": null,
            "min_width": null,
            "object_fit": null,
            "object_position": null,
            "order": null,
            "overflow": null,
            "overflow_x": null,
            "overflow_y": null,
            "padding": null,
            "right": null,
            "top": null,
            "visibility": null,
            "width": null
          }
        },
        "6ed42ffc2c0d4938bb521a827fcfc560": {
          "model_module": "@jupyter-widgets/controls",
          "model_name": "ProgressStyleModel",
          "model_module_version": "1.5.0",
          "state": {
            "_model_module": "@jupyter-widgets/controls",
            "_model_module_version": "1.5.0",
            "_model_name": "ProgressStyleModel",
            "_view_count": null,
            "_view_module": "@jupyter-widgets/base",
            "_view_module_version": "1.2.0",
            "_view_name": "StyleView",
            "bar_color": null,
            "description_width": ""
          }
        },
        "1faf556ecfe64c36bb6fc0ce42daccb8": {
          "model_module": "@jupyter-widgets/base",
          "model_name": "LayoutModel",
          "model_module_version": "1.2.0",
          "state": {
            "_model_module": "@jupyter-widgets/base",
            "_model_module_version": "1.2.0",
            "_model_name": "LayoutModel",
            "_view_count": null,
            "_view_module": "@jupyter-widgets/base",
            "_view_module_version": "1.2.0",
            "_view_name": "LayoutView",
            "align_content": null,
            "align_items": null,
            "align_self": null,
            "border": null,
            "bottom": null,
            "display": null,
            "flex": null,
            "flex_flow": null,
            "grid_area": null,
            "grid_auto_columns": null,
            "grid_auto_flow": null,
            "grid_auto_rows": null,
            "grid_column": null,
            "grid_gap": null,
            "grid_row": null,
            "grid_template_areas": null,
            "grid_template_columns": null,
            "grid_template_rows": null,
            "height": null,
            "justify_content": null,
            "justify_items": null,
            "left": null,
            "margin": null,
            "max_height": null,
            "max_width": null,
            "min_height": null,
            "min_width": null,
            "object_fit": null,
            "object_position": null,
            "order": null,
            "overflow": null,
            "overflow_x": null,
            "overflow_y": null,
            "padding": null,
            "right": null,
            "top": null,
            "visibility": null,
            "width": null
          }
        },
        "dd00801c61f94f5cbf8502e8f2208011": {
          "model_module": "@jupyter-widgets/controls",
          "model_name": "DescriptionStyleModel",
          "model_module_version": "1.5.0",
          "state": {
            "_model_module": "@jupyter-widgets/controls",
            "_model_module_version": "1.5.0",
            "_model_name": "DescriptionStyleModel",
            "_view_count": null,
            "_view_module": "@jupyter-widgets/base",
            "_view_module_version": "1.2.0",
            "_view_name": "StyleView",
            "description_width": ""
          }
        },
        "9143b7872ed548799f11e5ba505dcf45": {
          "model_module": "@jupyter-widgets/controls",
          "model_name": "HBoxModel",
          "model_module_version": "1.5.0",
          "state": {
            "_dom_classes": [],
            "_model_module": "@jupyter-widgets/controls",
            "_model_module_version": "1.5.0",
            "_model_name": "HBoxModel",
            "_view_count": null,
            "_view_module": "@jupyter-widgets/controls",
            "_view_module_version": "1.5.0",
            "_view_name": "HBoxView",
            "box_style": "",
            "children": [
              "IPY_MODEL_be8ac0e80701463ca281893ad0d357d5",
              "IPY_MODEL_1f65d3e26eec4301a200c30530c54de0",
              "IPY_MODEL_969373108b86447b95544c14d52cbcde"
            ],
            "layout": "IPY_MODEL_7d7065c0a9074a9893c4141017ffcb8e"
          }
        },
        "be8ac0e80701463ca281893ad0d357d5": {
          "model_module": "@jupyter-widgets/controls",
          "model_name": "HTMLModel",
          "model_module_version": "1.5.0",
          "state": {
            "_dom_classes": [],
            "_model_module": "@jupyter-widgets/controls",
            "_model_module_version": "1.5.0",
            "_model_name": "HTMLModel",
            "_view_count": null,
            "_view_module": "@jupyter-widgets/controls",
            "_view_module_version": "1.5.0",
            "_view_name": "HTMLView",
            "description": "",
            "description_tooltip": null,
            "layout": "IPY_MODEL_4085847e780e41128c25344d0d5b72a4",
            "placeholder": "​",
            "style": "IPY_MODEL_351f559e946d43439b0c49f11d5419a9",
            "value": "Map: 100%"
          }
        },
        "1f65d3e26eec4301a200c30530c54de0": {
          "model_module": "@jupyter-widgets/controls",
          "model_name": "FloatProgressModel",
          "model_module_version": "1.5.0",
          "state": {
            "_dom_classes": [],
            "_model_module": "@jupyter-widgets/controls",
            "_model_module_version": "1.5.0",
            "_model_name": "FloatProgressModel",
            "_view_count": null,
            "_view_module": "@jupyter-widgets/controls",
            "_view_module_version": "1.5.0",
            "_view_name": "ProgressView",
            "bar_style": "",
            "description": "",
            "description_tooltip": null,
            "layout": "IPY_MODEL_d01f3332189649f0afff8b8e9c12b5cc",
            "max": 481,
            "min": 0,
            "orientation": "horizontal",
            "style": "IPY_MODEL_760708445c314d648c2c8be58606f5fb",
            "value": 481
          }
        },
        "969373108b86447b95544c14d52cbcde": {
          "model_module": "@jupyter-widgets/controls",
          "model_name": "HTMLModel",
          "model_module_version": "1.5.0",
          "state": {
            "_dom_classes": [],
            "_model_module": "@jupyter-widgets/controls",
            "_model_module_version": "1.5.0",
            "_model_name": "HTMLModel",
            "_view_count": null,
            "_view_module": "@jupyter-widgets/controls",
            "_view_module_version": "1.5.0",
            "_view_name": "HTMLView",
            "description": "",
            "description_tooltip": null,
            "layout": "IPY_MODEL_77e59bea6c3b4f23b97b6b06472470b0",
            "placeholder": "​",
            "style": "IPY_MODEL_769b07031d30465e9011abf1441b4af9",
            "value": " 481/481 [00:00&lt;00:00, 3279.68 examples/s]"
          }
        },
        "7d7065c0a9074a9893c4141017ffcb8e": {
          "model_module": "@jupyter-widgets/base",
          "model_name": "LayoutModel",
          "model_module_version": "1.2.0",
          "state": {
            "_model_module": "@jupyter-widgets/base",
            "_model_module_version": "1.2.0",
            "_model_name": "LayoutModel",
            "_view_count": null,
            "_view_module": "@jupyter-widgets/base",
            "_view_module_version": "1.2.0",
            "_view_name": "LayoutView",
            "align_content": null,
            "align_items": null,
            "align_self": null,
            "border": null,
            "bottom": null,
            "display": null,
            "flex": null,
            "flex_flow": null,
            "grid_area": null,
            "grid_auto_columns": null,
            "grid_auto_flow": null,
            "grid_auto_rows": null,
            "grid_column": null,
            "grid_gap": null,
            "grid_row": null,
            "grid_template_areas": null,
            "grid_template_columns": null,
            "grid_template_rows": null,
            "height": null,
            "justify_content": null,
            "justify_items": null,
            "left": null,
            "margin": null,
            "max_height": null,
            "max_width": null,
            "min_height": null,
            "min_width": null,
            "object_fit": null,
            "object_position": null,
            "order": null,
            "overflow": null,
            "overflow_x": null,
            "overflow_y": null,
            "padding": null,
            "right": null,
            "top": null,
            "visibility": "hidden",
            "width": null
          }
        },
        "4085847e780e41128c25344d0d5b72a4": {
          "model_module": "@jupyter-widgets/base",
          "model_name": "LayoutModel",
          "model_module_version": "1.2.0",
          "state": {
            "_model_module": "@jupyter-widgets/base",
            "_model_module_version": "1.2.0",
            "_model_name": "LayoutModel",
            "_view_count": null,
            "_view_module": "@jupyter-widgets/base",
            "_view_module_version": "1.2.0",
            "_view_name": "LayoutView",
            "align_content": null,
            "align_items": null,
            "align_self": null,
            "border": null,
            "bottom": null,
            "display": null,
            "flex": null,
            "flex_flow": null,
            "grid_area": null,
            "grid_auto_columns": null,
            "grid_auto_flow": null,
            "grid_auto_rows": null,
            "grid_column": null,
            "grid_gap": null,
            "grid_row": null,
            "grid_template_areas": null,
            "grid_template_columns": null,
            "grid_template_rows": null,
            "height": null,
            "justify_content": null,
            "justify_items": null,
            "left": null,
            "margin": null,
            "max_height": null,
            "max_width": null,
            "min_height": null,
            "min_width": null,
            "object_fit": null,
            "object_position": null,
            "order": null,
            "overflow": null,
            "overflow_x": null,
            "overflow_y": null,
            "padding": null,
            "right": null,
            "top": null,
            "visibility": null,
            "width": null
          }
        },
        "351f559e946d43439b0c49f11d5419a9": {
          "model_module": "@jupyter-widgets/controls",
          "model_name": "DescriptionStyleModel",
          "model_module_version": "1.5.0",
          "state": {
            "_model_module": "@jupyter-widgets/controls",
            "_model_module_version": "1.5.0",
            "_model_name": "DescriptionStyleModel",
            "_view_count": null,
            "_view_module": "@jupyter-widgets/base",
            "_view_module_version": "1.2.0",
            "_view_name": "StyleView",
            "description_width": ""
          }
        },
        "d01f3332189649f0afff8b8e9c12b5cc": {
          "model_module": "@jupyter-widgets/base",
          "model_name": "LayoutModel",
          "model_module_version": "1.2.0",
          "state": {
            "_model_module": "@jupyter-widgets/base",
            "_model_module_version": "1.2.0",
            "_model_name": "LayoutModel",
            "_view_count": null,
            "_view_module": "@jupyter-widgets/base",
            "_view_module_version": "1.2.0",
            "_view_name": "LayoutView",
            "align_content": null,
            "align_items": null,
            "align_self": null,
            "border": null,
            "bottom": null,
            "display": null,
            "flex": null,
            "flex_flow": null,
            "grid_area": null,
            "grid_auto_columns": null,
            "grid_auto_flow": null,
            "grid_auto_rows": null,
            "grid_column": null,
            "grid_gap": null,
            "grid_row": null,
            "grid_template_areas": null,
            "grid_template_columns": null,
            "grid_template_rows": null,
            "height": null,
            "justify_content": null,
            "justify_items": null,
            "left": null,
            "margin": null,
            "max_height": null,
            "max_width": null,
            "min_height": null,
            "min_width": null,
            "object_fit": null,
            "object_position": null,
            "order": null,
            "overflow": null,
            "overflow_x": null,
            "overflow_y": null,
            "padding": null,
            "right": null,
            "top": null,
            "visibility": null,
            "width": null
          }
        },
        "760708445c314d648c2c8be58606f5fb": {
          "model_module": "@jupyter-widgets/controls",
          "model_name": "ProgressStyleModel",
          "model_module_version": "1.5.0",
          "state": {
            "_model_module": "@jupyter-widgets/controls",
            "_model_module_version": "1.5.0",
            "_model_name": "ProgressStyleModel",
            "_view_count": null,
            "_view_module": "@jupyter-widgets/base",
            "_view_module_version": "1.2.0",
            "_view_name": "StyleView",
            "bar_color": null,
            "description_width": ""
          }
        },
        "77e59bea6c3b4f23b97b6b06472470b0": {
          "model_module": "@jupyter-widgets/base",
          "model_name": "LayoutModel",
          "model_module_version": "1.2.0",
          "state": {
            "_model_module": "@jupyter-widgets/base",
            "_model_module_version": "1.2.0",
            "_model_name": "LayoutModel",
            "_view_count": null,
            "_view_module": "@jupyter-widgets/base",
            "_view_module_version": "1.2.0",
            "_view_name": "LayoutView",
            "align_content": null,
            "align_items": null,
            "align_self": null,
            "border": null,
            "bottom": null,
            "display": null,
            "flex": null,
            "flex_flow": null,
            "grid_area": null,
            "grid_auto_columns": null,
            "grid_auto_flow": null,
            "grid_auto_rows": null,
            "grid_column": null,
            "grid_gap": null,
            "grid_row": null,
            "grid_template_areas": null,
            "grid_template_columns": null,
            "grid_template_rows": null,
            "height": null,
            "justify_content": null,
            "justify_items": null,
            "left": null,
            "margin": null,
            "max_height": null,
            "max_width": null,
            "min_height": null,
            "min_width": null,
            "object_fit": null,
            "object_position": null,
            "order": null,
            "overflow": null,
            "overflow_x": null,
            "overflow_y": null,
            "padding": null,
            "right": null,
            "top": null,
            "visibility": null,
            "width": null
          }
        },
        "769b07031d30465e9011abf1441b4af9": {
          "model_module": "@jupyter-widgets/controls",
          "model_name": "DescriptionStyleModel",
          "model_module_version": "1.5.0",
          "state": {
            "_model_module": "@jupyter-widgets/controls",
            "_model_module_version": "1.5.0",
            "_model_name": "DescriptionStyleModel",
            "_view_count": null,
            "_view_module": "@jupyter-widgets/base",
            "_view_module_version": "1.2.0",
            "_view_name": "StyleView",
            "description_width": ""
          }
        }
      }
    }
  },
  "nbformat": 4,
  "nbformat_minor": 5
}