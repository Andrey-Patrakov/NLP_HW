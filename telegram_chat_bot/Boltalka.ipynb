{
 "cells": [
  {
   "cell_type": "markdown",
   "id": "0164049c",
   "metadata": {},
   "source": [
    "# 1. Болталка"
   ]
  },
  {
   "cell_type": "markdown",
   "id": "8de79ce2",
   "metadata": {},
   "source": [
    "## Импорты"
   ]
  },
  {
   "cell_type": "code",
   "execution_count": 1,
   "id": "fb2c9a31",
   "metadata": {},
   "outputs": [],
   "source": [
    "import re\n",
    "import pickle\n",
    "import numpy as np\n",
    "\n",
    "import string\n",
    "from pymorphy2 import MorphAnalyzer\n",
    "from stop_words import get_stop_words\n",
    "\n",
    "from functools import lru_cache\n",
    "from tqdm.notebook import tqdm\n",
    "\n",
    "from gensim.models import Word2Vec\n",
    "import annoy"
   ]
  },
  {
   "cell_type": "markdown",
   "id": "f82b7111",
   "metadata": {},
   "source": [
    "## Настройки"
   ]
  },
  {
   "cell_type": "code",
   "execution_count": 2,
   "id": "a0fafd38",
   "metadata": {},
   "outputs": [],
   "source": [
    "DATA_PATH = './data/Otvety.txt'\n",
    "ANSWERS_PATH = './data/prepared_answers.txt'\n",
    "MODEL_PATH = './models/w2v/model.w2v'\n",
    "SPEAKER_PATH = './models/w2v/speaker.ann'\n",
    "INDEX_PATH = './models/w2v/index_map.pkl'"
   ]
  },
  {
   "cell_type": "markdown",
   "id": "fe8a0b87",
   "metadata": {},
   "source": [
    "## Чтение, подготовка и обработка данных"
   ]
  },
  {
   "cell_type": "code",
   "execution_count": 3,
   "id": "c74f0d80",
   "metadata": {},
   "outputs": [],
   "source": [
    "import mmap\n",
    "\n",
    "def get_line_count(file):\n",
    "    buf = mmap.mmap(file.fileno(), 0)\n",
    "    lines = 0\n",
    "    while buf.readline():\n",
    "        lines += 1\n",
    "\n",
    "    return lines"
   ]
  },
  {
   "cell_type": "code",
   "execution_count": 4,
   "id": "404c057b",
   "metadata": {},
   "outputs": [],
   "source": [
    "morpher = MorphAnalyzer()\n",
    "\n",
    "@lru_cache(None)\n",
    "def lemmatize_word(word):\n",
    "    return morpher.parse(word)[0].normal_form"
   ]
  },
  {
   "cell_type": "code",
   "execution_count": 5,
   "id": "99f1a12f",
   "metadata": {},
   "outputs": [],
   "source": [
    "stop_words = set(get_stop_words(\"ru\"))\n",
    "\n",
    "def preprocess(text, full_preprocessing=True):    \n",
    "    text = re.sub(r\"<\\/?\\w+>\", \" \", text) # HTML теги\n",
    "    text = re.sub(r\"([?.!,])\", r\" \\1 \", text)\n",
    "\n",
    "    if full_preprocessing:\n",
    "        text = text.lower() # Ответы не приводим в нижний регистр\n",
    "        text = re.sub(r\"\\s+\", \" \", text) # Двойные пробелы, \\n т.д.\n",
    "        words = [word for word in text.split() if word not in stop_words]\n",
    "        words = [lemmatize_word(word) for word in words if word]\n",
    "        words = [word for word in words if len(word) > 2]\n",
    "    else:\n",
    "        words = [word for word in text.split()]\n",
    "\n",
    "    if len(\" \".join(words)) > 3:\n",
    "        return words\n",
    "    else:\n",
    "        return None"
   ]
  },
  {
   "cell_type": "code",
   "execution_count": 6,
   "id": "91a0f6e5",
   "metadata": {},
   "outputs": [],
   "source": [
    "def prepare_answers(line, written, question):\n",
    "    if line.startswith('---'):\n",
    "        written = False\n",
    "\n",
    "    elif not written and question is not None:\n",
    "        question = question.replace(\"\\t\", \" \").strip()\n",
    "        answer = line.replace(\"\\t\", \" \").strip()\n",
    "        \n",
    "        if words := preprocess(question):\n",
    "            question = \" \".join(words)\n",
    "        else:\n",
    "            question = \"\"\n",
    "\n",
    "        if words := preprocess(answer, full_preprocessing=False):\n",
    "            answer = \" \".join(words)\n",
    "        else:\n",
    "            answer = \"\"\n",
    "\n",
    "        return question + \"\\t\" + answer, True, None\n",
    "        \n",
    "    elif not written:\n",
    "        question = line.strip()\n",
    "    \n",
    "    return None, written, question"
   ]
  },
  {
   "cell_type": "code",
   "execution_count": 7,
   "id": "e7a2d143",
   "metadata": {},
   "outputs": [
    {
     "data": {
      "application/vnd.jupyter.widget-view+json": {
       "model_id": "eb3552fda73f40af895f3d87e17f33f7",
       "version_major": 2,
       "version_minor": 0
      },
      "text/plain": [
       "  0%|          | 0/7550926 [00:00<?, ?it/s]"
      ]
     },
     "metadata": {},
     "output_type": "display_data"
    },
    {
     "name": "stdout",
     "output_type": "stream",
     "text": [
      "Wall time: 11min 23s\n"
     ]
    }
   ],
   "source": [
    "%%time\n",
    "question = None\n",
    "written = False\n",
    "line_count = 0\n",
    "prepared_answers_count = 0\n",
    "sentences = []\n",
    "\n",
    "with open(ANSWERS_PATH, 'w', encoding='utf-8') as fout:\n",
    "    with open(DATA_PATH, 'r+', encoding='utf-8') as fin:\n",
    "        line_count = get_line_count(fin)\n",
    "\n",
    "        for line in tqdm(fin, total=line_count):\n",
    "            if not line.startswith('---'):\n",
    "                if sentence := preprocess(line):\n",
    "                    sentences.append(sentence)\n",
    "\n",
    "            text, written, question = prepare_answers(line, written, question)\n",
    "            if text:\n",
    "                fout.write(text + '\\n')\n",
    "                prepared_answers_count += 1"
   ]
  },
  {
   "cell_type": "code",
   "execution_count": 8,
   "id": "3a674ae1",
   "metadata": {},
   "outputs": [],
   "source": [
    "model = Word2Vec(sentences=sentences, vector_size=100, min_count=1, window=5)\n",
    "model.save(MODEL_PATH)"
   ]
  },
  {
   "cell_type": "code",
   "execution_count": 9,
   "id": "f2e36b1e",
   "metadata": {},
   "outputs": [
    {
     "data": {
      "application/vnd.jupyter.widget-view+json": {
       "model_id": "8584b8944e3542f6a1de5ac9b73239f0",
       "version_major": 2,
       "version_minor": 0
      },
      "text/plain": [
       "  0%|          | 0/1163342 [00:00<?, ?it/s]"
      ]
     },
     "metadata": {},
     "output_type": "display_data"
    }
   ],
   "source": [
    "index = annoy.AnnoyIndex(100 ,'angular')\n",
    "index_map = {}\n",
    "\n",
    "counter = 0\n",
    "with open(ANSWERS_PATH, \"r\", encoding='utf-8') as file:\n",
    "    for line in tqdm(file, total=prepared_answers_count):\n",
    "        n_w2v = 0\n",
    "        question, answer = line.split(\"\\t\")\n",
    "        index_map[counter] = answer.replace('\\n', ' ').strip()\n",
    "        vector = np.zeros(100)\n",
    "\n",
    "        for word in question.split():\n",
    "            if word in model.wv:\n",
    "                vector += model.wv[word]\n",
    "                n_w2v += 1\n",
    "\n",
    "        if n_w2v > 0:\n",
    "            vector = vector / n_w2v\n",
    "\n",
    "        index.add_item(counter, vector)\n",
    "        counter += 1\n",
    "\n",
    "index.build(10)\n",
    "index.save(SPEAKER_PATH)\n",
    "pickle.dump(index_map, open(INDEX_PATH, 'wb'))"
   ]
  },
  {
   "cell_type": "code",
   "execution_count": 10,
   "id": "3f3b9c41",
   "metadata": {},
   "outputs": [],
   "source": [
    "def answer(question):\n",
    "    question = preprocess(question)\n",
    "\n",
    "    n_w2v = 0\n",
    "    vector = np.zeros(100)\n",
    "    for word in question:\n",
    "        if word in model.wv:\n",
    "            vector += model.wv[word]\n",
    "            n_w2v += 1\n",
    "\n",
    "    if n_w2v > 0:\n",
    "        vector = vector / n_w2v\n",
    "\n",
    "    answer_index = index.get_nns_by_vector(vector, 1)\n",
    "    return index_map[answer_index[0]]"
   ]
  },
  {
   "cell_type": "code",
   "execution_count": 11,
   "id": "4e7ecb90",
   "metadata": {},
   "outputs": [
    {
     "data": {
      "text/plain": [
       "'а У НАС ПРЕКРАСНО , СОЛНЦЕ СВЕТИТ ЯСНО НАМ .'"
      ]
     },
     "execution_count": 11,
     "metadata": {},
     "output_type": "execute_result"
    }
   ],
   "source": [
    "answer('Как погодка?')"
   ]
  },
  {
   "cell_type": "markdown",
   "id": "f626f6c1",
   "metadata": {},
   "source": [
    "## Готовим модель"
   ]
  },
  {
   "cell_type": "code",
   "execution_count": 12,
   "id": "7fd38c39",
   "metadata": {},
   "outputs": [],
   "source": [
    "class QAModel:\n",
    "    def __init__(self):\n",
    "        self.index_map = pickle.load(open(INDEX_PATH, 'rb'))\n",
    "        self.model = Word2Vec.load(MODEL_PATH)\n",
    "        self.index = annoy.AnnoyIndex(100 ,'angular')\n",
    "        self.index.load(SPEAKER_PATH)\n",
    "        \n",
    "        self.morpher = MorphAnalyzer()\n",
    "        self.stop_words = set(get_stop_words(\"ru\"))\n",
    "\n",
    "    @lru_cache(None)\n",
    "    def lemmatize_word(self, word):\n",
    "        return self.morpher.parse(word)[0].normal_form\n",
    "    \n",
    "    def answer(self, question):\n",
    "        question = self.preprocess(question)\n",
    "\n",
    "        n_w2v = 0\n",
    "        vector = np.zeros(100)\n",
    "        for word in question:\n",
    "            if word in self.model.wv:\n",
    "                vector += self.model.wv[word]\n",
    "                n_w2v += 1\n",
    "\n",
    "        if n_w2v > 0:\n",
    "            vector = vector / n_w2v\n",
    "\n",
    "        answer_index = self.index.get_nns_by_vector(vector, 1)\n",
    "        return self.index_map[answer_index[0]]\n",
    "\n",
    "    def preprocess(self, text, full_preprocessing=True):    \n",
    "        text = re.sub(r\"<\\/?\\w+>\", \" \", text) # HTML теги\n",
    "        text = re.sub(r\"([?.!,])\", r\" \\1 \", text)\n",
    "\n",
    "        if full_preprocessing:\n",
    "            text = text.lower() # Ответы не приводим в нижний регистр\n",
    "            text = re.sub(r\"\\s+\", \" \", text) # Двойные пробелы, \\n т.д.\n",
    "            words = [word for word in text.split() if word not in stop_words]\n",
    "            words = [lemmatize_word(word) for word in words if word]\n",
    "            words = [word for word in words if len(word) > 2]\n",
    "        else:\n",
    "            [word for word in text.split()]\n",
    "\n",
    "        if len(\" \".join(words)) > 3:\n",
    "            return words\n",
    "        else:\n",
    "            return None"
   ]
  },
  {
   "cell_type": "code",
   "execution_count": 13,
   "id": "af754a73",
   "metadata": {},
   "outputs": [
    {
     "data": {
      "text/plain": [
       "'а У НАС ПРЕКРАСНО , СОЛНЦЕ СВЕТИТ ЯСНО НАМ .'"
      ]
     },
     "execution_count": 13,
     "metadata": {},
     "output_type": "execute_result"
    }
   ],
   "source": [
    "qa_model = QAModel()\n",
    "qa_model.answer('Как погодка?')"
   ]
  }
 ],
 "metadata": {
  "kernelspec": {
   "display_name": "Python 3 (ipykernel)",
   "language": "python",
   "name": "python3"
  },
  "language_info": {
   "codemirror_mode": {
    "name": "ipython",
    "version": 3
   },
   "file_extension": ".py",
   "mimetype": "text/x-python",
   "name": "python",
   "nbconvert_exporter": "python",
   "pygments_lexer": "ipython3",
   "version": "3.9.13"
  }
 },
 "nbformat": 4,
 "nbformat_minor": 5
}
