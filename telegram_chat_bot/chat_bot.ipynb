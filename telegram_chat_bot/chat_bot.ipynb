{
 "cells": [
  {
   "attachments": {},
   "cell_type": "markdown",
   "id": "3b883d62",
   "metadata": {},
   "source": [
    "# Разработка чат бота"
   ]
  },
  {
   "attachments": {},
   "cell_type": "markdown",
   "id": "7242dde4",
   "metadata": {},
   "source": [
    "## Импорты"
   ]
  },
  {
   "cell_type": "code",
   "execution_count": 1,
   "id": "47ac6e79",
   "metadata": {},
   "outputs": [],
   "source": [
    "import re\n",
    "import random\n",
    "import pickle\n",
    "import numpy as np\n",
    "import pandas as pd\n",
    "\n",
    "# Для QA\n",
    "import string\n",
    "from functools import lru_cache\n",
    "from pymorphy2 import MorphAnalyzer\n",
    "from stop_words import get_stop_words\n",
    "\n",
    "from gensim.models import Word2Vec\n",
    "import annoy\n",
    "\n",
    "# Парафразер\n",
    "import torch\n",
    "from transformers import AutoModelForSequenceClassification, BertTokenizer\n",
    "\n",
    "# Для бота\n",
    "from datetime import datetime\n",
    "import wikipedia\n",
    "\n",
    "# telegram\n",
    "from asyncio import Queue\n",
    "from telegram import Bot\n",
    "from telegram.ext import Updater, CommandHandler, MessageHandler, Filters"
   ]
  },
  {
   "attachments": {},
   "cell_type": "markdown",
   "id": "da816b71",
   "metadata": {},
   "source": [
    "## Настройки"
   ]
  },
  {
   "cell_type": "code",
   "execution_count": 2,
   "id": "9efa8219",
   "metadata": {},
   "outputs": [],
   "source": [
    "TELEGRAM_TOKEN = 'TOKEN'\n",
    "\n",
    "MODEL_PATH = './models/w2v/model.w2v'\n",
    "SPEAKER_PATH = './models/w2v/speaker.ann'\n",
    "INDEX_PATH = './models/w2v/index_map.pkl'\n",
    "PARAPHRASER_PATH = './models/paraphraser/model.pkl'\n",
    "PARAPHRASER_MODEL = 'cointegrated/rubert-base-cased-dp-paraphrase-detection'"
   ]
  },
  {
   "attachments": {},
   "cell_type": "markdown",
   "id": "96682d06",
   "metadata": {},
   "source": [
    "## Модель, которая будет отвечать, если вопроса небыло в сценарии\n",
    "Подготовка модели в файле Boltalka"
   ]
  },
  {
   "cell_type": "code",
   "execution_count": 3,
   "id": "74bfd965",
   "metadata": {},
   "outputs": [],
   "source": [
    "class QAModel:\n",
    "    def __init__(self):\n",
    "        self.index_map = pickle.load(open(INDEX_PATH, 'rb'))\n",
    "        self.model = Word2Vec.load(MODEL_PATH)\n",
    "        self.index = annoy.AnnoyIndex(100 ,'angular')\n",
    "        self.index.load(SPEAKER_PATH)\n",
    "        \n",
    "        self.morpher = MorphAnalyzer()\n",
    "        self.stop_words = set(get_stop_words(\"ru\"))\n",
    "\n",
    "    @lru_cache(None)\n",
    "    def lemmatize_word(self, word):\n",
    "        return self.morpher.parse(word)[0].normal_form\n",
    "    \n",
    "    def answer(self, question):\n",
    "        question = self.preprocess(question)\n",
    "\n",
    "        n_w2v = 0\n",
    "        vector = np.zeros(100)\n",
    "        for word in question:\n",
    "            if word in self.model.wv:\n",
    "                vector += self.model.wv[word]\n",
    "                n_w2v += 1\n",
    "\n",
    "        if n_w2v > 0:\n",
    "            vector = vector / n_w2v\n",
    "\n",
    "        answer_index = self.index.get_nns_by_vector(vector, 1)\n",
    "        return self.index_map[answer_index[0]]\n",
    "\n",
    "    def preprocess(self, text, full_preprocessing=True):    \n",
    "        text = re.sub(r\"<\\/?\\w+>\", \" \", text) # HTML теги\n",
    "        text = re.sub(r\"([?.!,])\", r\" \\1 \", text)\n",
    "\n",
    "        if full_preprocessing:\n",
    "            text = text.lower() # Ответы не приводим в нижний регистр\n",
    "            text = re.sub(r\"\\s+\", \" \", text) # Двойные пробелы, \\n т.д.\n",
    "            words = [word for word in text.split() if word not in self.stop_words]\n",
    "            words = [self.lemmatize_word(word) for word in words if word]\n",
    "            words = [word for word in words if len(word) > 2]\n",
    "        else:\n",
    "            [word for word in text.split()]\n",
    "\n",
    "        if len(\" \".join(words)) > 3:\n",
    "            return words\n",
    "        else:\n",
    "            return None\n",
    "\n",
    "qa_model = QAModel()"
   ]
  },
  {
   "attachments": {},
   "cell_type": "markdown",
   "id": "92482089",
   "metadata": {},
   "source": [
    "## Парафразер"
   ]
  },
  {
   "cell_type": "code",
   "execution_count": 4,
   "id": "0b0c8194",
   "metadata": {},
   "outputs": [],
   "source": [
    "class Paraphraser:\n",
    "    def __init__(self, device=\"cpu\"):\n",
    "        self._model = AutoModelForSequenceClassification.from_pretrained(PARAPHRASER_MODEL)\n",
    "        self._tokenizer = BertTokenizer.from_pretrained(PARAPHRASER_MODEL)\n",
    "\n",
    "        self.to(device)\n",
    "\n",
    "    def compare(self, text1, text2, return_proba=False):\n",
    "        batch = self._tokenizer(text1, text2, return_tensors='pt').to(self._device)\n",
    "        with torch.inference_mode():\n",
    "            proba = torch.softmax(self._model(**batch).logits, -1).cpu().numpy()\n",
    "\n",
    "        if return_proba:\n",
    "            return proba[0]\n",
    "\n",
    "        return proba[0][0] < proba[0][1]\n",
    "\n",
    "    def to(self, device):\n",
    "        self._device = device\n",
    "        self._model = self._model.to(device)\n",
    "        return self\n",
    "\n",
    "paraphraser_model = Paraphraser()"
   ]
  },
  {
   "attachments": {},
   "cell_type": "markdown",
   "id": "f3e54de7",
   "metadata": {},
   "source": [
    "## Напишем \"простенького\" чатбота на парафразе"
   ]
  },
  {
   "cell_type": "code",
   "execution_count": 5,
   "id": "435ec17a",
   "metadata": {},
   "outputs": [],
   "source": [
    "class ChatBot:\n",
    "    def __init__(self):\n",
    "        self._commands = {}\n",
    "        self._qa = qa_model\n",
    "        self._paraphraser = paraphraser_model\n",
    "        self.last_cmd = ''\n",
    "\n",
    "    def add(self, command, question: str=\"\", answer: str=\"\", callback=None, precompare=None):\n",
    "        command = command.strip()\n",
    "\n",
    "        if not command:\n",
    "            return \"\"\n",
    "        \n",
    "        if not command in self._commands:\n",
    "            self._commands[command] = {}\n",
    "            self._commands[command][\"question\"] = []\n",
    "            self._commands[command][\"answer\"] = []\n",
    "        \n",
    "        if question.strip():\n",
    "            self._commands[command][\"question\"].append(question.strip())\n",
    "        \n",
    "        if answer.strip():\n",
    "            self._commands[command][\"answer\"].append(answer.strip())\n",
    "        \n",
    "        if callback:\n",
    "            self._commands[command][\"callback\"] = callback\n",
    "        \n",
    "        if precompare:\n",
    "            self._commands[command][\"precompare\"] = precompare\n",
    "\n",
    "    def answer(self, question):\n",
    "        result = None\n",
    "        cmd_key = None\n",
    "\n",
    "        for key in self._commands.keys():\n",
    "            for saved_question in self._commands[key][\"question\"]:\n",
    "                pc_question = [question,]\n",
    "                if self._commands[key].get(\"precompare\", None):\n",
    "                    pc_question = list(self._commands[key][\"precompare\"](question))\n",
    "                    if not pc_question or not pc_question[0]:\n",
    "                        pc_question = [question,]\n",
    "\n",
    "                if self._paraphraser.compare(pc_question[0], saved_question):\n",
    "                    cmd_key = key\n",
    "                    if len(pc_question) > 1:\n",
    "                        question = pc_question[1]\n",
    "                    elif pc_question:\n",
    "                        question = pc_question[0]\n",
    "\n",
    "                    break\n",
    "            \n",
    "            if cmd_key:\n",
    "                break\n",
    "\n",
    "        if cmd_key:\n",
    "            self.last_cmd = cmd_key\n",
    "            try:\n",
    "                cmd = self._commands[cmd_key]\n",
    "                if cmd[\"answer\"]:\n",
    "                    result = random.choice(cmd[\"answer\"])\n",
    "\n",
    "                if \"callback\" in cmd:\n",
    "                        if not result:\n",
    "                            result = ''\n",
    "\n",
    "                        result += cmd[\"callback\"](question)\n",
    "\n",
    "            except:\n",
    "                pass\n",
    "        \n",
    "        if not result:\n",
    "            if question:\n",
    "                self.last_cmd = 'qa'\n",
    "                result = self._qa.answer(question).replace('\\n', ' ').strip()\n",
    "            else:\n",
    "                self.last_cmd = 'unknown'\n",
    "                result = 'Я тебя не понимаю. Попробуй перефразировать'\n",
    "\n",
    "        return result"
   ]
  },
  {
   "cell_type": "code",
   "execution_count": 6,
   "id": "6e6e25c0",
   "metadata": {},
   "outputs": [],
   "source": [
    "chat_bot = ChatBot()"
   ]
  },
  {
   "attachments": {},
   "cell_type": "markdown",
   "id": "45652db9",
   "metadata": {},
   "source": [
    "## Заполним сценарии (в идеале хранить бы всё это в БД, но времени мало)\n",
    "Чем больше вариантов вопросов для каждого сценария будет, тем лучше будет работать Бот."
   ]
  },
  {
   "cell_type": "code",
   "execution_count": 7,
   "id": "b63fc682",
   "metadata": {},
   "outputs": [],
   "source": [
    "chat_bot.add(\"hi\", question=\"Привет\", answer=\"И тебе привет!\")\n",
    "chat_bot.add(\"hi\", question=\"Здравствуйте\", answer=\"Приветствую!\")\n",
    "\n",
    "chat_bot.add(\"who_are_you\", question=\"Как тебя зовут?\", answer=\"Искуственный интелект.\")"
   ]
  },
  {
   "attachments": {},
   "cell_type": "markdown",
   "id": "f7de8486",
   "metadata": {},
   "source": [
    "Узнать время"
   ]
  },
  {
   "cell_type": "code",
   "execution_count": 8,
   "id": "ed4d83d2",
   "metadata": {},
   "outputs": [],
   "source": [
    "def get_time(question):\n",
    "    return ' ' + datetime.now().strftime(\"%H:%M:%S\")\n",
    "\n",
    "chat_bot.add(\"time\", question=\"Сколько времени?\", answer=\"Сейчас в москве: \", callback=get_time)\n",
    "chat_bot.add(\"time\", question=\"Время не подскажешь?\", answer=\"Сейчас на часах \")"
   ]
  },
  {
   "attachments": {},
   "cell_type": "markdown",
   "id": "86e8b4d9",
   "metadata": {},
   "source": [
    "Википедия"
   ]
  },
  {
   "cell_type": "code",
   "execution_count": 9,
   "id": "c09b3839",
   "metadata": {},
   "outputs": [],
   "source": [
    "wikipedia.set_lang(\"ru\")\n",
    "\n",
    "def wiki_precomp(question):\n",
    "    words = [word for word in question.split()]\n",
    "    \n",
    "    if len(words) > 2:\n",
    "        if words[0].lower() == \"вики\":\n",
    "            return \"Вики найти\", ' '.join(words[1:])\n",
    "        \n",
    "        return ' '.join(words[:2]), ' '.join(words[2:])\n",
    "    \n",
    "    return None, question\n",
    "\n",
    "def wiki(question):\n",
    "    question = re.sub(r\"[\\(\\)?!,.]\", \"\", question)\n",
    "    page = wikipedia.page(question)\n",
    "    text = page.content[:1000]\n",
    "    final_text = ''\n",
    "    for sentence in text.split('.')[:-1]:\n",
    "        if len(sentence.strip()) > 3:\n",
    "            final_text += sentence + '. '\n",
    "    \n",
    "    final_text = final_text.strip()\n",
    "    return final_text\n",
    "\n",
    "chat_bot.add(\"wiki\", precompare=wiki_precomp)\n",
    "chat_bot.add(\"wiki\", question=\"Вики найти\", callback=wiki)\n",
    "chat_bot.add(\"wiki\", question=\"Что такое\")\n",
    "chat_bot.add(\"wiki\", question=\"Кто такой\")"
   ]
  },
  {
   "attachments": {},
   "cell_type": "markdown",
   "id": "dad8c757",
   "metadata": {},
   "source": [
    "Тестируем"
   ]
  },
  {
   "cell_type": "code",
   "execution_count": 10,
   "id": "9779caf9",
   "metadata": {},
   "outputs": [
    {
     "data": {
      "text/plain": [
       "'Бра́узер, веб-обозреватель или веб-браузер (от англ.  web browser, МФА: [wɛb ˈbraʊ. zə(ɹ), -zɚ]; устар.  бро́узер) — прикладное программное обеспечение для просмотра страниц, содержания веб-документов, компьютерных файлов и их каталогов; управления веб-приложениями; а также для решения других задач.  В глобальной сети браузеры используют для запроса, обработки, манипулирования и отображения содержания веб-сайтов.  Многие современные браузеры также могут использоваться для обмена файлами с серверами FTP, а также для непосредственного просмотра содержания файлов многих графических форматов (gif, jpeg, png, svg), аудио- и видеоформатов (mp3, mpeg), текстовых форматов (pdf, djvu) и других файлов. \\nЕсть серверы на которых браузер работает.  Серверы из разных стран, к которым браузер подключается и работает. \\nФункциональные возможности браузеров постоянно расширяются и улучшаются благодаря конкуренции между их разработчиками и высоким темпам развития и внедрения информационных технологий.'"
      ]
     },
     "execution_count": 10,
     "metadata": {},
     "output_type": "execute_result"
    }
   ],
   "source": [
    "chat_bot.answer(\"Что такое браузер?\")"
   ]
  },
  {
   "cell_type": "code",
   "execution_count": 11,
   "id": "dcd5574d",
   "metadata": {},
   "outputs": [
    {
     "name": "stdout",
     "output_type": "stream",
     "text": [
      "Здравия желаю! - И тебе привет!\n",
      "Привет - Приветствую!\n",
      "Здарова! - Приветствую!\n",
      "Как тебя зовут? - Искуственный интелект.\n",
      "Сколько времени? - Сейчас на часах 12:10:58\n",
      "Как погодка? - а У НАС ПРЕКРАСНО , СОЛНЦЕ СВЕТИТ ЯСНО НАМ .\n",
      "Какой фильм посмотреть? - зависит от вкусов конечно) хотите тяжёлый и грустный фильм-посмотрите Бен Х или Куда приводят мечты например . . . в фильмах немного разбираюсь) если что нужно вдруг-пишите .\n"
     ]
    }
   ],
   "source": [
    "print(\"Здравия желаю!\", \"-\", chat_bot.answer(\"Здравия желаю!\"))\n",
    "print(\"Привет\", \"-\", chat_bot.answer(\"Привет\"))\n",
    "print(\"Здарова!\", \"-\", chat_bot.answer(\"Здарова!\")) # Отловил парафразой\n",
    "print(\"Как тебя зовут?\", \"-\", chat_bot.answer(\"Как тебя зовут?\"))\n",
    "print(\"Сколько времени?\", \"-\", chat_bot.answer(\"Сколько времени?\"))\n",
    "print(\"Как погодка?\", \"-\", chat_bot.answer(\"Как погодка?\"))\n",
    "print(\"Какой фильм посмотреть?\", \"-\", chat_bot.answer(\"Какой фильм посмотреть?\"))"
   ]
  },
  {
   "attachments": {},
   "cell_type": "markdown",
   "id": "966443cd",
   "metadata": {},
   "source": [
    "## Telegram"
   ]
  },
  {
   "cell_type": "code",
   "execution_count": 12,
   "id": "897476fe",
   "metadata": {},
   "outputs": [],
   "source": [
    "class TelegramBot:\n",
    "    def __init__(self, token, max_message_len=1000):\n",
    "        self.updater = Updater(token)\n",
    "        self.dispatcher = self.updater.dispatcher\n",
    "        self.chat_bot = chat_bot\n",
    "        self.max_message_len = max_message_len\n",
    "\n",
    "    def start_command(self, update, context):\n",
    "        context.bot.send_message(chat_id=update.message.chat_id, text=\"Запуск...\")\n",
    "    \n",
    "    def answer(self, update, context):\n",
    "        if update.message:\n",
    "            question = update.message.text\n",
    "            answer = self.chat_bot.answer(question)[:self.max_message_len]\n",
    "            chat_id = update.message.chat_id\n",
    "            context.bot.send_message(chat_id=chat_id, text=answer)\n",
    "            print(f\"Q: {question};\\nA: {answer}\\ncmd:{self.chat_bot.last_cmd}\\n{'_'*10}\\n\")\n",
    "\n",
    "        return\n",
    "\n",
    "    def start(self):\n",
    "        start_command_handler = CommandHandler('start', self.start_command)\n",
    "        text_message_handler = MessageHandler(Filters.text, self.answer)\n",
    "        self.dispatcher.add_handler(start_command_handler)\n",
    "        self.dispatcher.add_handler(text_message_handler)\n",
    "        self.updater.start_polling(clean=False)\n",
    "        self.updater.idle()\n",
    "\n",
    "telegram_bot = TelegramBot(TELEGRAM_TOKEN)"
   ]
  },
  {
   "cell_type": "code",
   "execution_count": 13,
   "id": "80828111",
   "metadata": {},
   "outputs": [
    {
     "name": "stdout",
     "output_type": "stream",
     "text": [
      "Q: Привет;\n",
      "A: Приветствую!\n",
      "cmd:hi\n",
      "__________\n",
      "\n",
      "Q: Кто ты?;\n",
      "A: Искуственный интелект.\n",
      "cmd:who_are_you\n",
      "__________\n",
      "\n",
      "Q: Кто такой Есенин?;\n",
      "A: Серге́й Алекса́ндрович Есе́нин (21 сентября [3 октября] 1895[…], Константиново, Рязанская губерния — 28 декабря 1925[…], Ленинград, СССР) — русский поэт и писатель.  Одна из крупнейших личностей Серебряного века.  Представитель новокрестьянской поэзии и лирики, а в более позднем периоде творчества — имажинизма. \n",
      "В разные периоды творчества в его стихотворениях находили отражение социал-демократические идеи, образы революции и Родины, деревни и природы, любви и поиска счастья. \n",
      "\n",
      "\n",
      "== Биография ==\n",
      "\n",
      "Родился Сергей Есенин 3 октября 1895 года в селе Константиново Кузьминской волости Рязанского уезда Рязанской губернии, в крестьянской семье.  Отец — Александр Никитич Есенин (1873—1931), мать — Татьяна Фёдоровна Титова (1875—1955).  Сёстры — Екатерина (1905—1977), Александра (1911—1981), единоутробный брат — Александр Иванович Разгуляев (1902—1961).\n",
      "cmd:wiki\n",
      "__________\n",
      "\n",
      "Q: Сколько времени?;\n",
      "A: Сейчас в москве: 12:12:48\n",
      "cmd:time\n",
      "__________\n",
      "\n",
      "Q: Вики смартфон;\n",
      "A: Xiaomi Corporation (кит.  трад.  小米集團, упр.  小米集团, пиньинь Xiǎomǐ Jítuán, палл.  Сяоми́ Цзитуа́нь; стилизовано как XiaoMi) — китайская корпорация, основанная Лэй Цзюнем в 2010 году.  В 2021 году стала лидером по объёму производства смартфонов.  Также производит бытовую технику, планшеты, смарт-часы, ПО, электросамокаты, электровелосипеды и многое другое. \n",
      "С 2018 года является публичной компанией. \n",
      "\n",
      "\n",
      "== Название ==\n",
      "Дословно название компании переводится как «маленькое рисовое зернышко».  Лэй Цзюнь (основатель компании) объясняет это отсылкой к интерпретации одной из буддийских сутр — «сила крошечного зернышка риса так же велика, как гора Сумеру, и способна мгновенно остановить бурную реку».  Также окончание MI интерпретируют как «мобильный интернет» (mobile internet) и даже Mission Impossible (миссия невыполнима), намекая на то, что компания ставит перед собой задачи, которые невозможно выполнить, и достигает успеха, решая их.\n",
      "cmd:wiki\n",
      "__________\n",
      "\n"
     ]
    }
   ],
   "source": [
    "telegram_bot.start()"
   ]
  },
  {
   "attachments": {},
   "cell_type": "markdown",
   "id": "9e5ca028",
   "metadata": {},
   "source": [
    "![Alt text](<Снимок экрана.png>)"
   ]
  }
 ],
 "metadata": {
  "kernelspec": {
   "display_name": "Python 3 (ipykernel)",
   "language": "python",
   "name": "python3"
  },
  "language_info": {
   "codemirror_mode": {
    "name": "ipython",
    "version": 3
   },
   "file_extension": ".py",
   "mimetype": "text/x-python",
   "name": "python",
   "nbconvert_exporter": "python",
   "pygments_lexer": "ipython3",
   "version": "3.9.13"
  }
 },
 "nbformat": 4,
 "nbformat_minor": 5
}
