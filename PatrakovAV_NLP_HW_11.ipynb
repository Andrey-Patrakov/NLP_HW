{
  "cells": [
    {
      "cell_type": "markdown",
      "source": [
        "Разобраться с моделькой перевода как она устроена (c механизмом внимания), запустить для перевода с русского на английский (при желании можно взять другие пары языков)\n",
        "**внимание классическое** с RNN-ками в энкодере и декодере"
      ],
      "metadata": {
        "id": "CZkPEt-NoVLl"
      },
      "id": "CZkPEt-NoVLl"
    },
    {
      "cell_type": "markdown",
      "source": [
        "Возьмем модель из прошлого урока и добавим механизм внимания. (Ещё добавлю лематизацию, чтобы решить проблему с формами слов (издеваться -> издевалась))"
      ],
      "metadata": {
        "id": "d2Zl-q9Hoesy"
      },
      "id": "d2Zl-q9Hoesy"
    },
    {
      "cell_type": "code",
      "execution_count": 1,
      "id": "6ca9c8e0",
      "metadata": {
        "id": "6ca9c8e0"
      },
      "outputs": [],
      "source": [
        "# !wget http://www.manythings.org/anki/rus-eng.zip\n",
        "# !mkdir data\n",
        "# !unzip rus-eng.zip -d data/\n",
        "# !ls /content/data/ -lah\n",
        "# !pip install pymorphy2"
      ]
    },
    {
      "cell_type": "markdown",
      "id": "dd7e2d4e",
      "metadata": {
        "id": "dd7e2d4e"
      },
      "source": [
        "## Импорты"
      ]
    },
    {
      "cell_type": "code",
      "execution_count": 2,
      "id": "8c183321",
      "metadata": {
        "id": "8c183321"
      },
      "outputs": [],
      "source": [
        "import re\n",
        "import numpy as np\n",
        "from tqdm import tqdm\n",
        "from time import time\n",
        "from functools import lru_cache\n",
        "from pymorphy2 import MorphAnalyzer\n",
        "import multiprocessing as mp\n",
        "\n",
        "from keras import Model\n",
        "from keras.utils import pad_sequences\n",
        "from keras.preprocessing.text import Tokenizer\n",
        "from keras.layers import Embedding, GRU, Dense, Layer\n",
        "from keras.optimizers import Adam\n",
        "from keras.losses import SparseCategoricalCrossentropy\n",
        "\n",
        "import tensorflow as tf\n",
        "from tensorflow.data import Dataset\n",
        "\n",
        "from sklearn.model_selection import train_test_split"
      ]
    },
    {
      "cell_type": "markdown",
      "id": "f2dce9f4",
      "metadata": {
        "id": "f2dce9f4"
      },
      "source": [
        "## Настройки"
      ]
    },
    {
      "cell_type": "code",
      "execution_count": 3,
      "id": "f845b2bd",
      "metadata": {
        "id": "f845b2bd"
      },
      "outputs": [],
      "source": [
        "PATH = \"./data/rus.txt\"\n",
        "DATA_LEN = 200000\n",
        "\n",
        "EPOCHS = 10\n",
        "BATCH_SIZE = 128\n",
        "EMBEDDING_DIM = 256\n",
        "UNITS = 1024"
      ]
    },
    {
      "cell_type": "markdown",
      "id": "f98aa3f4",
      "metadata": {
        "id": "f98aa3f4"
      },
      "source": [
        "## Данные"
      ]
    },
    {
      "cell_type": "markdown",
      "source": [
        "Добавим лематизацию"
      ],
      "metadata": {
        "id": "rwO0h3sNiAk2"
      },
      "id": "rwO0h3sNiAk2"
    },
    {
      "cell_type": "code",
      "source": [
        "morpher = MorphAnalyzer()\n",
        "\n",
        "@lru_cache(None)\n",
        "def lemmatize(word):\n",
        "    return morpher.parse(word)[0].normal_form"
      ],
      "metadata": {
        "id": "DI7I9Bq1dLgo"
      },
      "id": "DI7I9Bq1dLgo",
      "execution_count": 4,
      "outputs": []
    },
    {
      "cell_type": "code",
      "execution_count": 5,
      "id": "5abf2e46",
      "metadata": {
        "id": "5abf2e46"
      },
      "outputs": [],
      "source": [
        "def preprocess(text):\n",
        "    text = text.strip().lower()\n",
        "    text = re.sub(r\"([?.!,])\", r\" \\1 \", text)\n",
        "    text = re.sub(r\"[^a-zA-Zа-яА-Я?.!,']+\", \" \", text)\n",
        "    # text = re.sub(r'[\" \"]+', \" \",text)\n",
        "    text = \" \".join([lemmatize(word) for word in text.split(\" \")])\n",
        "    text = text.strip()\n",
        "    return '<start> ' + text + ' <end>'"
      ]
    },
    {
      "cell_type": "code",
      "execution_count": 6,
      "id": "8dec7458",
      "metadata": {
        "id": "8dec7458"
      },
      "outputs": [],
      "source": [
        "def tokenize(data):\n",
        "    tokenizer = Tokenizer(filters='')\n",
        "    tokenizer.fit_on_texts(data)\n",
        "    tensor = tokenizer.texts_to_sequences(data)\n",
        "    tensor = pad_sequences(tensor, padding='post')\n",
        "    return tensor, tokenizer"
      ]
    },
    {
      "cell_type": "code",
      "execution_count": 7,
      "id": "6bd81388",
      "metadata": {
        "id": "6bd81388"
      },
      "outputs": [],
      "source": [
        "def preprocess_line(line):\n",
        "    return [preprocess(text) for text in line.split('\\t')[:2]]\n",
        "\n",
        "def load_data(path, num_examples):\n",
        "    with open(path, 'r', encoding='utf-8') as file:\n",
        "        lines = file.readlines()\n",
        "        res = []\n",
        "\n",
        "        with mp.Pool(mp.cpu_count()) as pool:\n",
        "            res = pool.map(preprocess_line, tqdm(lines[:num_examples]))\n",
        "\n",
        "        en, ru = zip(*res)\n",
        "        ru_tensor, ru_tokenizer = tokenize(ru)\n",
        "        en_tensor, en_tokenizer = tokenize(en)\n",
        "        return ru_tensor, en_tensor, ru_tokenizer, en_tokenizer"
      ]
    },
    {
      "cell_type": "code",
      "execution_count": 8,
      "id": "ca427679",
      "metadata": {
        "id": "ca427679",
        "colab": {
          "base_uri": "https://localhost:8080/"
        },
        "outputId": "fab4a5c0-fe48-48c4-9218-dc83f05b97b8"
      },
      "outputs": [
        {
          "output_type": "stream",
          "name": "stderr",
          "text": [
            "100%|██████████| 200000/200000 [00:12<00:00, 15792.72it/s]\n"
          ]
        }
      ],
      "source": [
        "ru_tensor, en_tensor, ru_tokenizer, en_tokenizer = load_data(PATH, DATA_LEN)\n",
        "\n",
        "ru_len, en_len = ru_tensor.shape[1], en_tensor.shape[1]\n",
        "ru_tensor_train, ru_tensor_val, en_tensor_train, en_tensor_val = train_test_split(ru_tensor, en_tensor, test_size=0.2)\n",
        "\n",
        "BUFFER_SIZE = len(ru_tensor_train)\n",
        "dataset = Dataset.from_tensor_slices((ru_tensor_train, en_tensor_train)).shuffle(BUFFER_SIZE)\n",
        "dataset = dataset.batch(BATCH_SIZE, drop_remainder=True)"
      ]
    },
    {
      "cell_type": "markdown",
      "id": "63e43e51",
      "metadata": {
        "id": "63e43e51"
      },
      "source": [
        "## Модель"
      ]
    },
    {
      "cell_type": "code",
      "execution_count": 9,
      "id": "9322c5b2",
      "metadata": {
        "id": "9322c5b2"
      },
      "outputs": [],
      "source": [
        "class Encoder(Model):\n",
        "    def __init__(self, vocab_size, embedding_dim, encoder_units, batch_size):\n",
        "        super().__init__()\n",
        "        self.batch_size = batch_size\n",
        "        self.encoder_units = encoder_units\n",
        "        self.embedding = Embedding(vocab_size, embedding_dim)\n",
        "        self.gru = GRU(encoder_units,\n",
        "                       return_sequences=True,\n",
        "                       return_state=True,\n",
        "                       recurrent_initializer='glorot_uniform')\n",
        "        \n",
        "    def call(self, x, hidden):\n",
        "        x = self.embedding(x)\n",
        "        output, state = self.gru(x, initial_state = hidden)\n",
        "        return output, state\n",
        "\n",
        "    def initialize_hidden_state(self):\n",
        "        return tf.zeros((self.batch_size, self.encoder_units))"
      ]
    },
    {
      "cell_type": "code",
      "source": [
        "class BahdanauAttention(Layer):\n",
        "    def __init__(self, units):\n",
        "        super().__init__()\n",
        "        self.W1 = Dense(units)\n",
        "        self.W2 = Dense(units)\n",
        "        self.V = Dense(1)\n",
        "\n",
        "    def call(self, query, values):\n",
        "        query_with_time_axis = tf.expand_dims(query, 1)\n",
        "        score = self.V(tf.nn.tanh(self.W1(query_with_time_axis) + self.W2(values)))\n",
        "        attention_weights = tf.nn.softmax(score, axis=1)\n",
        "        context_vector = attention_weights * values\n",
        "        context_vector = tf.reduce_sum(context_vector, axis=1)\n",
        "\n",
        "        return context_vector, attention_weights"
      ],
      "metadata": {
        "id": "N6l_E-BspF3I"
      },
      "id": "N6l_E-BspF3I",
      "execution_count": 10,
      "outputs": []
    },
    {
      "cell_type": "code",
      "execution_count": 11,
      "id": "ea661b95",
      "metadata": {
        "id": "ea661b95"
      },
      "outputs": [],
      "source": [
        "class Decoder(Model):\n",
        "    def __init__(self, vocab_size, embedding_dim, decoder_units, batch_size):\n",
        "        super().__init__()\n",
        "        self.batch_size = batch_size\n",
        "        self.decoder_units = decoder_units\n",
        "        self.dense = Dense(vocab_size)\n",
        "        self.embedding = Embedding(vocab_size, embedding_dim)\n",
        "        self.attention = BahdanauAttention(decoder_units)\n",
        "        self.gru = GRU(decoder_units,\n",
        "                       return_sequences=True,\n",
        "                       return_state=True,\n",
        "                       recurrent_initializer='glorot_uniform')\n",
        "    \n",
        "    def call(self, x, hidden, encoder_output):\n",
        "        context_vector, attention_weights = self.attention(hidden, encoder_output)\n",
        "        x = self.embedding(x)\n",
        "        x = tf.concat([tf.expand_dims(context_vector, 1), x], axis=-1)\n",
        "        output, state = self.gru(x)\n",
        "        output = tf.reshape(output, (-1, output.shape[2]))\n",
        "        x = self.dense(output)\n",
        "        return x, state, attention_weights"
      ]
    },
    {
      "cell_type": "code",
      "execution_count": 12,
      "id": "e2941986",
      "metadata": {
        "id": "e2941986"
      },
      "outputs": [],
      "source": [
        "ru_vocab_size = len(ru_tokenizer.word_index)+1\n",
        "en_vocab_size = len(en_tokenizer.word_index)+1\n",
        "\n",
        "encoder = Encoder(ru_vocab_size, EMBEDDING_DIM, UNITS, BATCH_SIZE)\n",
        "decoder = Decoder(en_vocab_size, EMBEDDING_DIM, UNITS, BATCH_SIZE)\n",
        "\n",
        "optimizer = Adam()\n",
        "loss_obj = SparseCategoricalCrossentropy(from_logits=True, reduction='none')"
      ]
    },
    {
      "cell_type": "code",
      "execution_count": 13,
      "id": "b6a225ff",
      "metadata": {
        "id": "b6a225ff"
      },
      "outputs": [],
      "source": [
        "def loss_func(real, pred):\n",
        "    mask = tf.math.logical_not(tf.math.equal(real, 0))\n",
        "    loss_ = loss_obj(real, pred)\n",
        "    mask = tf.cast(mask, dtype=loss_.dtype)\n",
        "    loss_ *= mask\n",
        "    return tf.reduce_mean(loss_)"
      ]
    },
    {
      "cell_type": "markdown",
      "id": "61c8e77f",
      "metadata": {
        "id": "61c8e77f"
      },
      "source": [
        "## Обучение"
      ]
    },
    {
      "cell_type": "code",
      "execution_count": 14,
      "id": "f2d0e5ca",
      "metadata": {
        "id": "f2d0e5ca"
      },
      "outputs": [],
      "source": [
        "@tf.function\n",
        "def train_step(inp, targ, enc_hidden):\n",
        "    loss = 0\n",
        "    with tf.GradientTape() as tape:\n",
        "        enc_output, enc_hidden = encoder(inp, enc_hidden)\n",
        "        dec_hidden = enc_hidden\n",
        "        dec_input = tf.expand_dims([en_tokenizer.word_index['<start>']] * BATCH_SIZE, 1)\n",
        "        \n",
        "        for t in range(1, targ.shape[1]):\n",
        "            predictions, dec_hidden, _ = decoder(dec_input, dec_hidden, enc_output)\n",
        "            loss += loss_func(targ[:, t], predictions)\n",
        "            dec_input = tf.expand_dims(targ[:, t], 1)\n",
        "        \n",
        "        batch_loss = (loss / int(targ.shape[1]))\n",
        "        variables = encoder.trainable_variables + decoder.trainable_variables\n",
        "        gradients = tape.gradient(loss, variables)\n",
        "        \n",
        "        optimizer.apply_gradients(zip(gradients, variables))\n",
        "\n",
        "    return batch_loss"
      ]
    },
    {
      "cell_type": "code",
      "execution_count": 15,
      "id": "5cfe657e",
      "metadata": {
        "colab": {
          "base_uri": "https://localhost:8080/"
        },
        "id": "5cfe657e",
        "outputId": "6adc3cb1-9091-453c-f366-f2ef02f1b2cb"
      },
      "outputs": [
        {
          "output_type": "stream",
          "name": "stdout",
          "text": [
            "Epoch 1 Batch 0 Loss 4.9149\n",
            "Epoch 1 Batch 100 Loss 2.3652\n",
            "Epoch 1 Batch 200 Loss 2.0856\n",
            "Epoch 1 Batch 300 Loss 2.0218\n",
            "Epoch 1 Batch 400 Loss 2.0052\n",
            "Epoch 1 Batch 500 Loss 2.0307\n",
            "Epoch 1 Batch 600 Loss 1.9602\n",
            "Epoch 1 Batch 700 Loss 1.9463\n",
            "Epoch 1 Batch 800 Loss 1.8339\n",
            "Epoch 1 Batch 900 Loss 1.8615\n",
            "Epoch 1 Batch 1000 Loss 1.8886\n",
            "Epoch 1 Batch 1100 Loss 1.8962\n",
            "Epoch 1 Batch 1200 Loss 1.7830\n",
            "Epoch 1 Loss 2.0239\n",
            "Time taken for 1 epoch 186.8747889995575 sec\n",
            "\n",
            "Epoch 2 Batch 0 Loss 1.8031\n",
            "Epoch 2 Batch 100 Loss 1.7642\n",
            "Epoch 2 Batch 200 Loss 1.8192\n",
            "Epoch 2 Batch 300 Loss 1.7616\n",
            "Epoch 2 Batch 400 Loss 1.7505\n",
            "Epoch 2 Batch 500 Loss 1.7672\n",
            "Epoch 2 Batch 600 Loss 1.7742\n",
            "Epoch 2 Batch 700 Loss 1.8806\n",
            "Epoch 2 Batch 800 Loss 1.7020\n",
            "Epoch 2 Batch 900 Loss 1.8299\n",
            "Epoch 2 Batch 1000 Loss 1.7149\n",
            "Epoch 2 Batch 1100 Loss 1.7823\n",
            "Epoch 2 Batch 1200 Loss 1.8204\n",
            "Epoch 2 Loss 1.7761\n",
            "Time taken for 1 epoch 171.42716097831726 sec\n",
            "\n",
            "Epoch 3 Batch 0 Loss 1.7419\n",
            "Epoch 3 Batch 100 Loss 1.7389\n",
            "Epoch 3 Batch 200 Loss 1.6694\n",
            "Epoch 3 Batch 300 Loss 1.6963\n",
            "Epoch 3 Batch 400 Loss 1.7072\n",
            "Epoch 3 Batch 500 Loss 1.6813\n",
            "Epoch 3 Batch 600 Loss 1.6473\n",
            "Epoch 3 Batch 700 Loss 1.7375\n",
            "Epoch 3 Batch 800 Loss 1.7202\n",
            "Epoch 3 Batch 900 Loss 1.6991\n",
            "Epoch 3 Batch 1000 Loss 1.7723\n",
            "Epoch 3 Batch 1100 Loss 1.6459\n",
            "Epoch 3 Batch 1200 Loss 1.8152\n",
            "Epoch 3 Loss 1.7250\n",
            "Time taken for 1 epoch 171.7702832221985 sec\n",
            "\n",
            "Epoch 4 Batch 0 Loss 1.6421\n",
            "Epoch 4 Batch 100 Loss 1.6944\n",
            "Epoch 4 Batch 200 Loss 1.7124\n",
            "Epoch 4 Batch 300 Loss 1.6613\n",
            "Epoch 4 Batch 400 Loss 1.7367\n",
            "Epoch 4 Batch 500 Loss 1.7432\n",
            "Epoch 4 Batch 600 Loss 1.7412\n",
            "Epoch 4 Batch 700 Loss 1.7618\n",
            "Epoch 4 Batch 800 Loss 1.7072\n",
            "Epoch 4 Batch 900 Loss 1.6768\n",
            "Epoch 4 Batch 1000 Loss 1.5689\n",
            "Epoch 4 Batch 1100 Loss 1.6010\n",
            "Epoch 4 Batch 1200 Loss 1.5400\n",
            "Epoch 4 Loss 1.6724\n",
            "Time taken for 1 epoch 171.38649988174438 sec\n",
            "\n",
            "Epoch 5 Batch 0 Loss 1.4850\n",
            "Epoch 5 Batch 100 Loss 1.4684\n",
            "Epoch 5 Batch 200 Loss 1.5241\n",
            "Epoch 5 Batch 300 Loss 1.4943\n",
            "Epoch 5 Batch 400 Loss 1.5147\n",
            "Epoch 5 Batch 500 Loss 1.5200\n",
            "Epoch 5 Batch 600 Loss 1.5374\n",
            "Epoch 5 Batch 700 Loss 1.5286\n",
            "Epoch 5 Batch 800 Loss 1.4742\n",
            "Epoch 5 Batch 900 Loss 1.4670\n",
            "Epoch 5 Batch 1000 Loss 1.4916\n",
            "Epoch 5 Batch 1100 Loss 1.4454\n",
            "Epoch 5 Batch 1200 Loss 1.4390\n",
            "Epoch 5 Loss 1.4914\n",
            "Time taken for 1 epoch 171.16844964027405 sec\n",
            "\n",
            "Epoch 6 Batch 0 Loss 1.4186\n",
            "Epoch 6 Batch 100 Loss 1.4322\n",
            "Epoch 6 Batch 200 Loss 1.3483\n",
            "Epoch 6 Batch 300 Loss 1.3015\n",
            "Epoch 6 Batch 400 Loss 1.2077\n",
            "Epoch 6 Batch 500 Loss 1.0844\n",
            "Epoch 6 Batch 600 Loss 0.9842\n",
            "Epoch 6 Batch 700 Loss 0.9926\n",
            "Epoch 6 Batch 800 Loss 0.8453\n",
            "Epoch 6 Batch 900 Loss 0.8354\n",
            "Epoch 6 Batch 1000 Loss 0.7325\n",
            "Epoch 6 Batch 1100 Loss 0.6280\n",
            "Epoch 6 Batch 1200 Loss 0.6570\n",
            "Epoch 6 Loss 1.0103\n",
            "Time taken for 1 epoch 173.92604756355286 sec\n",
            "\n",
            "Epoch 7 Batch 0 Loss 0.4495\n",
            "Epoch 7 Batch 100 Loss 0.6071\n",
            "Epoch 7 Batch 200 Loss 0.4815\n",
            "Epoch 7 Batch 300 Loss 0.5055\n",
            "Epoch 7 Batch 400 Loss 0.4981\n",
            "Epoch 7 Batch 500 Loss 0.4244\n",
            "Epoch 7 Batch 600 Loss 0.4507\n",
            "Epoch 7 Batch 700 Loss 0.4141\n",
            "Epoch 7 Batch 800 Loss 0.5000\n",
            "Epoch 7 Batch 900 Loss 0.4944\n",
            "Epoch 7 Batch 1000 Loss 0.3754\n",
            "Epoch 7 Batch 1100 Loss 0.4055\n",
            "Epoch 7 Batch 1200 Loss 0.3606\n",
            "Epoch 7 Loss 0.4625\n",
            "Time taken for 1 epoch 174.09696793556213 sec\n",
            "\n",
            "Epoch 8 Batch 0 Loss 0.2671\n",
            "Epoch 8 Batch 100 Loss 0.2982\n",
            "Epoch 8 Batch 200 Loss 0.2362\n",
            "Epoch 8 Batch 300 Loss 0.2803\n",
            "Epoch 8 Batch 400 Loss 0.3147\n",
            "Epoch 8 Batch 500 Loss 0.2929\n",
            "Epoch 8 Batch 600 Loss 0.2855\n",
            "Epoch 8 Batch 700 Loss 0.2811\n",
            "Epoch 8 Batch 800 Loss 0.2853\n",
            "Epoch 8 Batch 900 Loss 0.2941\n",
            "Epoch 8 Batch 1000 Loss 0.2901\n",
            "Epoch 8 Batch 1100 Loss 0.2619\n",
            "Epoch 8 Batch 1200 Loss 0.2778\n",
            "Epoch 8 Loss 0.3011\n",
            "Time taken for 1 epoch 174.29671263694763 sec\n",
            "\n",
            "Epoch 9 Batch 0 Loss 0.2135\n",
            "Epoch 9 Batch 100 Loss 0.2036\n",
            "Epoch 9 Batch 200 Loss 0.2376\n",
            "Epoch 9 Batch 300 Loss 0.2418\n",
            "Epoch 9 Batch 400 Loss 0.1866\n",
            "Epoch 9 Batch 500 Loss 0.1982\n",
            "Epoch 9 Batch 600 Loss 0.2053\n",
            "Epoch 9 Batch 700 Loss 0.2354\n",
            "Epoch 9 Batch 800 Loss 0.2718\n",
            "Epoch 9 Batch 900 Loss 0.2249\n",
            "Epoch 9 Batch 1000 Loss 0.2244\n",
            "Epoch 9 Batch 1100 Loss 0.2495\n",
            "Epoch 9 Batch 1200 Loss 0.2422\n",
            "Epoch 9 Loss 0.2235\n",
            "Time taken for 1 epoch 174.1021819114685 sec\n",
            "\n",
            "Epoch 10 Batch 0 Loss 0.1511\n",
            "Epoch 10 Batch 100 Loss 0.1654\n",
            "Epoch 10 Batch 200 Loss 0.1148\n",
            "Epoch 10 Batch 300 Loss 0.1612\n",
            "Epoch 10 Batch 400 Loss 0.1792\n",
            "Epoch 10 Batch 500 Loss 0.1852\n",
            "Epoch 10 Batch 600 Loss 0.1811\n",
            "Epoch 10 Batch 700 Loss 0.1627\n",
            "Epoch 10 Batch 800 Loss 0.1781\n",
            "Epoch 10 Batch 900 Loss 0.1940\n",
            "Epoch 10 Batch 1000 Loss 0.1637\n",
            "Epoch 10 Batch 1100 Loss 0.1636\n",
            "Epoch 10 Batch 1200 Loss 0.1706\n",
            "Epoch 10 Loss 0.1780\n",
            "Time taken for 1 epoch 174.08198833465576 sec\n",
            "\n"
          ]
        }
      ],
      "source": [
        "steps_per_epoch = len(ru_tensor_train)//BATCH_SIZE\n",
        "\n",
        "for epoch in range(EPOCHS):\n",
        "    start_time = time()\n",
        "\n",
        "    enc_hidden = encoder.initialize_hidden_state()\n",
        "    total_loss = 0\n",
        "    \n",
        "    for (batch, (inp, targ)) in enumerate(dataset.take(steps_per_epoch)):\n",
        "        batch_loss = train_step(inp, targ, enc_hidden)\n",
        "        total_loss += batch_loss\n",
        "        \n",
        "        if batch % 100 == 0:\n",
        "            print('Epoch {} Batch {} Loss {:.4f}'.format(epoch + 1,\n",
        "                                                         batch,\n",
        "                                                         batch_loss.numpy()))\n",
        "        \n",
        "    print('Epoch {} Loss {:.4f}'.format(epoch + 1, total_loss / steps_per_epoch))\n",
        "    print('Time taken for 1 epoch {} sec\\n'.format(time() - start_time))"
      ]
    },
    {
      "cell_type": "code",
      "execution_count": 16,
      "id": "a76f6bc8",
      "metadata": {
        "id": "a76f6bc8"
      },
      "outputs": [],
      "source": [
        "ru_max_len = ru_tensor.shape[1]\n",
        "en_max_len = en_tensor.shape[1]\n",
        "\n",
        "def translate(sentence):\n",
        "    sentence = preprocess(sentence)\n",
        "    inputs = [ru_tokenizer.word_index[i] for i in sentence.split(' ')]\n",
        "    inputs = pad_sequences([inputs],\n",
        "                            maxlen=ru_max_len,\n",
        "                            padding='post')\n",
        "\n",
        "    inputs = tf.convert_to_tensor(inputs)\n",
        "\n",
        "    result = ''\n",
        "    hidden = [tf.zeros((1, UNITS))]\n",
        "    enc_out, enc_hidden = encoder(inputs, hidden)\n",
        "    dec_hidden = enc_hidden\n",
        "    dec_input = tf.expand_dims([en_tokenizer.word_index['<start>']], 0)\n",
        "\n",
        "    for t in range(en_max_len):\n",
        "        predictions, dec_hidden, attention_weights = decoder(dec_input, dec_hidden, enc_out)\n",
        "        predicted_id = tf.argmax(predictions[0]).numpy()\n",
        "        if en_tokenizer.index_word[predicted_id] == '<end>':\n",
        "            return result, sentence\n",
        "\n",
        "        result += en_tokenizer.index_word[predicted_id] + ' '\n",
        "        dec_input = tf.expand_dims([predicted_id], 0)\n",
        "\n",
        "    return result, sentence"
      ]
    },
    {
      "cell_type": "code",
      "source": [
        "print(translate('Я смогу пойти с тобой.')[0])"
      ],
      "metadata": {
        "colab": {
          "base_uri": "https://localhost:8080/"
        },
        "id": "1Q0kZML__25v",
        "outputId": "50ec183e-2192-4ec1-84f5-44d18a090c8e"
      },
      "id": "1Q0kZML__25v",
      "execution_count": 17,
      "outputs": [
        {
          "output_type": "stream",
          "name": "stdout",
          "text": [
            "i'll be excused with you . \n"
          ]
        }
      ]
    },
    {
      "cell_type": "code",
      "source": [
        "print(translate('Я не смогу пойти с тобой.')[0])\n"
      ],
      "metadata": {
        "colab": {
          "base_uri": "https://localhost:8080/"
        },
        "id": "JWlRwaTLBWg9",
        "outputId": "e7f6abe9-45cd-4c44-d785-2e2a75f94cf6"
      },
      "id": "JWlRwaTLBWg9",
      "execution_count": 18,
      "outputs": [
        {
          "output_type": "stream",
          "name": "stdout",
          "text": [
            "i couldn't go with you . \n"
          ]
        }
      ]
    },
    {
      "cell_type": "code",
      "source": [
        "print(translate('Эта домашняя работа очень долго издевалась надо мной!')[0])"
      ],
      "metadata": {
        "colab": {
          "base_uri": "https://localhost:8080/"
        },
        "id": "6WUQ4ZEBBfuw",
        "outputId": "cc9d9e24-616d-4d84-cb5a-d898dcd56dd2"
      },
      "id": "6WUQ4ZEBBfuw",
      "execution_count": 19,
      "outputs": [
        {
          "output_type": "stream",
          "name": "stdout",
          "text": [
            "this is made me ! \n"
          ]
        }
      ]
    },
    {
      "cell_type": "code",
      "source": [
        "print(translate('Холодно ли на улице?')[0])"
      ],
      "metadata": {
        "colab": {
          "base_uri": "https://localhost:8080/"
        },
        "id": "7iTMs0DyCRMx",
        "outputId": "126cc9e2-4cba-4ded-9644-ea7338826503"
      },
      "id": "7iTMs0DyCRMx",
      "execution_count": 20,
      "outputs": [
        {
          "output_type": "stream",
          "name": "stdout",
          "text": [
            "is it cold outside ? \n"
          ]
        }
      ]
    },
    {
      "cell_type": "code",
      "source": [
        "print(translate('На улице холодно!')[0])\n",
        "print(translate('На улице холодно?')[0])"
      ],
      "metadata": {
        "colab": {
          "base_uri": "https://localhost:8080/"
        },
        "id": "TNV6H9ZlK9EZ",
        "outputId": "e45deba3-aa60-4667-b1c5-086f2ba6149d"
      },
      "id": "TNV6H9ZlK9EZ",
      "execution_count": 21,
      "outputs": [
        {
          "output_type": "stream",
          "name": "stdout",
          "text": [
            "it's cold outside . \n",
            "is it cold outside ? \n"
          ]
        }
      ]
    },
    {
      "cell_type": "code",
      "source": [
        "print(translate('На твоём месте я бы не пошел туда')[0])"
      ],
      "metadata": {
        "colab": {
          "base_uri": "https://localhost:8080/"
        },
        "id": "DuEqZsD5LubB",
        "outputId": "cda4072e-d10f-4430-f72e-7ec7d74cbc0e"
      },
      "id": "DuEqZsD5LubB",
      "execution_count": 22,
      "outputs": [
        {
          "output_type": "stream",
          "name": "stdout",
          "text": [
            "i wouldn't go there , i pay after all . \n"
          ]
        }
      ]
    }
  ],
  "metadata": {
    "kernelspec": {
      "display_name": "Python 3",
      "name": "python3"
    },
    "language_info": {
      "codemirror_mode": {
        "name": "ipython",
        "version": 3
      },
      "file_extension": ".py",
      "mimetype": "text/x-python",
      "name": "python",
      "nbconvert_exporter": "python",
      "pygments_lexer": "ipython3",
      "version": "3.9.13"
    },
    "colab": {
      "provenance": [],
      "gpuType": "T4"
    },
    "accelerator": "GPU"
  },
  "nbformat": 4,
  "nbformat_minor": 5
}